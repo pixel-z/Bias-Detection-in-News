{
  "nbformat": 4,
  "nbformat_minor": 0,
  "metadata": {
    "colab": {
      "name": "code.ipynb",
      "provenance": [],
      "collapsed_sections": []
    },
    "kernelspec": {
      "name": "python3",
      "display_name": "Python 3"
    },
    "language_info": {
      "name": "python"
    }
  },
  "cells": [
    {
      "cell_type": "code",
      "metadata": {
        "id": "6DZqk4FR9-Ah"
      },
      "source": [
        "import numpy as np\n",
        "import re\n",
        "import tarfile\n",
        "import pandas as pd\n",
        "import os"
      ],
      "execution_count": 1,
      "outputs": []
    },
    {
      "cell_type": "code",
      "metadata": {
        "colab": {
          "base_uri": "https://localhost:8080/"
        },
        "id": "-wFmayISrEoY",
        "outputId": "cccc0d19-f935-420d-a120-499292db9b0f"
      },
      "source": [
        "from google.colab import drive\n",
        "drive.mount('/content/drive')"
      ],
      "execution_count": 2,
      "outputs": [
        {
          "output_type": "stream",
          "name": "stdout",
          "text": [
            "Mounted at /content/drive\n"
          ]
        }
      ]
    },
    {
      "cell_type": "code",
      "metadata": {
        "colab": {
          "base_uri": "https://localhost:8080/"
        },
        "id": "H2VfMYVAt11w",
        "outputId": "addfb717-6f9c-4681-9ac6-59dc23d6c1bd"
      },
      "source": [
        "! ls \"/content/drive/MyDrive\""
      ],
      "execution_count": 3,
      "outputs": [
        {
          "output_type": "stream",
          "name": "stdout",
          "text": [
            "'2019101117_Shivang Gupta_transcript.png'   report.gdoc\n",
            "'aec-gcjx-ohs – 28 Sept 2021.gjam'\t    Resume.pdf\n",
            " allenmodel\t\t\t\t   'Resume-Shivang_gupta (1).pdf'\n",
            " checkpoints\t\t\t\t    Resume-Shivang_gupta.pdf\n",
            "'Colab Notebooks'\t\t\t    Screencastify\n",
            " dataset\t\t\t\t    swb\n",
            "'Dysarthria Database'\t\t\t    switchboard_word_alignments.tar.gz\n",
            "'Getting started.pdf'\t\t\t   'Untitled document (1).gdoc'\n",
            "'Humanizing voice assistants.gdoc'\t   'Untitled document (2).gdoc'\n",
            "'kzg-dxvw-ksj – 23 Apr 2021.gjam'\t   'Untitled document (3).gdoc'\n",
            " NLP_classes\t\t\t\t   'Untitled document.gdoc'\n"
          ]
        }
      ]
    },
    {
      "cell_type": "code",
      "metadata": {
        "id": "zIfqUANo1p0d"
      },
      "source": [
        "os.mkdir(\"/content/drive/MyDrive/checkpoints\")"
      ],
      "execution_count": 4,
      "outputs": []
    },
    {
      "cell_type": "code",
      "metadata": {
        "id": "8Rfm8jXBFRxP"
      },
      "source": [
        "os.chdir(\"/content/drive/MyDrive/checkpoints\")"
      ],
      "execution_count": 5,
      "outputs": []
    },
    {
      "cell_type": "code",
      "metadata": {
        "colab": {
          "base_uri": "https://localhost:8080/"
        },
        "id": "IpbVh0uYFWhJ",
        "outputId": "bad1f988-97d4-4617-adfe-ce1c0d8f3782"
      },
      "source": [
        "!wget https://s3-us-west-2.amazonaws.com/allennlp/models/elmo/2x4096_512_2048cnn_2xhighway_tf_checkpoint/model.ckpt-935588.index"
      ],
      "execution_count": 6,
      "outputs": [
        {
          "output_type": "stream",
          "name": "stdout",
          "text": [
            "--2021-12-10 12:57:39--  https://s3-us-west-2.amazonaws.com/allennlp/models/elmo/2x4096_512_2048cnn_2xhighway_tf_checkpoint/model.ckpt-935588.index\n",
            "Resolving s3-us-west-2.amazonaws.com (s3-us-west-2.amazonaws.com)... 52.218.201.168\n",
            "Connecting to s3-us-west-2.amazonaws.com (s3-us-west-2.amazonaws.com)|52.218.201.168|:443... connected.\n",
            "HTTP request sent, awaiting response... 200 OK\n",
            "Length: 3277 (3.2K) [binary/octet-stream]\n",
            "Saving to: ‘model.ckpt-935588.index’\n",
            "\n",
            "model.ckpt-935588.i 100%[===================>]   3.20K  --.-KB/s    in 0.001s  \n",
            "\n",
            "2021-12-10 12:57:40 (3.30 MB/s) - ‘model.ckpt-935588.index’ saved [3277/3277]\n",
            "\n"
          ]
        }
      ]
    },
    {
      "cell_type": "code",
      "metadata": {
        "colab": {
          "base_uri": "https://localhost:8080/"
        },
        "id": "Sq1gjTn5FiGu",
        "outputId": "53335f86-fcd4-403e-a97a-799e7430167a"
      },
      "source": [
        "!wget https://s3-us-west-2.amazonaws.com/allennlp/models/elmo/2x4096_512_2048cnn_2xhighway_tf_checkpoint/model.ckpt-935588.data-00000-of-00001"
      ],
      "execution_count": 7,
      "outputs": [
        {
          "output_type": "stream",
          "name": "stdout",
          "text": [
            "--2021-12-10 12:57:45--  https://s3-us-west-2.amazonaws.com/allennlp/models/elmo/2x4096_512_2048cnn_2xhighway_tf_checkpoint/model.ckpt-935588.data-00000-of-00001\n",
            "Resolving s3-us-west-2.amazonaws.com (s3-us-west-2.amazonaws.com)... 52.218.152.144\n",
            "Connecting to s3-us-west-2.amazonaws.com (s3-us-west-2.amazonaws.com)|52.218.152.144|:443... connected.\n",
            "HTTP request sent, awaiting response... 200 OK\n",
            "Length: 4005211776 (3.7G) [binary/octet-stream]\n",
            "Saving to: ‘model.ckpt-935588.data-00000-of-00001’\n",
            "\n",
            "model.ckpt-935588.d 100%[===================>]   3.73G  31.7MB/s    in 1m 58s  \n",
            "\n",
            "2021-12-10 12:59:43 (32.4 MB/s) - ‘model.ckpt-935588.data-00000-of-00001’ saved [4005211776/4005211776]\n",
            "\n"
          ]
        }
      ]
    },
    {
      "cell_type": "code",
      "metadata": {
        "colab": {
          "base_uri": "https://localhost:8080/"
        },
        "id": "i3KlkMMXFmEk",
        "outputId": "cdf7d2f3-56bb-42ec-ddc9-8dc200907b19"
      },
      "source": [
        "!wget https://s3-us-west-2.amazonaws.com/allennlp/models/elmo/2x4096_512_2048cnn_2xhighway_tf_checkpoint/model.ckpt-935588.meta"
      ],
      "execution_count": 8,
      "outputs": [
        {
          "output_type": "stream",
          "name": "stdout",
          "text": [
            "--2021-12-10 12:59:46--  https://s3-us-west-2.amazonaws.com/allennlp/models/elmo/2x4096_512_2048cnn_2xhighway_tf_checkpoint/model.ckpt-935588.meta\n",
            "Resolving s3-us-west-2.amazonaws.com (s3-us-west-2.amazonaws.com)... 52.92.164.8\n",
            "Connecting to s3-us-west-2.amazonaws.com (s3-us-west-2.amazonaws.com)|52.92.164.8|:443... connected.\n",
            "HTTP request sent, awaiting response... 200 OK\n",
            "Length: 22121605 (21M) [binary/octet-stream]\n",
            "Saving to: ‘model.ckpt-935588.meta’\n",
            "\n",
            "model.ckpt-935588.m 100%[===================>]  21.10M  15.1MB/s    in 1.4s    \n",
            "\n",
            "2021-12-10 12:59:48 (15.1 MB/s) - ‘model.ckpt-935588.meta’ saved [22121605/22121605]\n",
            "\n"
          ]
        }
      ]
    },
    {
      "cell_type": "code",
      "metadata": {
        "colab": {
          "base_uri": "https://localhost:8080/"
        },
        "id": "gTJ-boNuFvFM",
        "outputId": "6887f355-b610-4eca-eb4f-1e479164b74d"
      },
      "source": [
        "!wget https://s3-us-west-2.amazonaws.com/allennlp/models/elmo/vocab-2016-09-10.txt"
      ],
      "execution_count": 9,
      "outputs": [
        {
          "output_type": "stream",
          "name": "stdout",
          "text": [
            "--2021-12-10 12:59:52--  https://s3-us-west-2.amazonaws.com/allennlp/models/elmo/vocab-2016-09-10.txt\n",
            "Resolving s3-us-west-2.amazonaws.com (s3-us-west-2.amazonaws.com)... 3.5.79.179\n",
            "Connecting to s3-us-west-2.amazonaws.com (s3-us-west-2.amazonaws.com)|3.5.79.179|:443... connected.\n",
            "HTTP request sent, awaiting response... 200 OK\n",
            "Length: 7430437 (7.1M) [text/plain]\n",
            "Saving to: ‘vocab-2016-09-10.txt’\n",
            "\n",
            "vocab-2016-09-10.tx 100%[===================>]   7.09M  2.14MB/s    in 3.3s    \n",
            "\n",
            "2021-12-10 12:59:56 (2.14 MB/s) - ‘vocab-2016-09-10.txt’ saved [7430437/7430437]\n",
            "\n"
          ]
        }
      ]
    },
    {
      "cell_type": "code",
      "metadata": {
        "colab": {
          "base_uri": "https://localhost:8080/"
        },
        "id": "XpbLfGjuFzDX",
        "outputId": "bdb2edc2-9f4c-4618-f17f-b72ea20016e9"
      },
      "source": [
        "!wget https://s3-us-west-2.amazonaws.com/allennlp/models/elmo/2x4096_512_2048cnn_2xhighway_tf_checkpoint/checkpoint"
      ],
      "execution_count": 10,
      "outputs": [
        {
          "output_type": "stream",
          "name": "stdout",
          "text": [
            "--2021-12-10 12:59:59--  https://s3-us-west-2.amazonaws.com/allennlp/models/elmo/2x4096_512_2048cnn_2xhighway_tf_checkpoint/checkpoint\n",
            "Resolving s3-us-west-2.amazonaws.com (s3-us-west-2.amazonaws.com)... 52.218.228.0\n",
            "Connecting to s3-us-west-2.amazonaws.com (s3-us-west-2.amazonaws.com)|52.218.228.0|:443... connected.\n",
            "HTTP request sent, awaiting response... 200 OK\n",
            "Length: 91 [binary/octet-stream]\n",
            "Saving to: ‘checkpoint’\n",
            "\n",
            "checkpoint          100%[===================>]      91  --.-KB/s    in 0s      \n",
            "\n",
            "2021-12-10 12:59:59 (2.38 MB/s) - ‘checkpoint’ saved [91/91]\n",
            "\n"
          ]
        }
      ]
    },
    {
      "cell_type": "code",
      "metadata": {
        "colab": {
          "base_uri": "https://localhost:8080/"
        },
        "id": "DD8q7k3rF2RE",
        "outputId": "8b20098e-1664-42e0-d773-fa025482b7e4"
      },
      "source": [
        "!wget https://s3-us-west-2.amazonaws.com/allennlp/models/elmo/2x4096_512_2048cnn_2xhighway_tf_checkpoint/options.json"
      ],
      "execution_count": 11,
      "outputs": [
        {
          "output_type": "stream",
          "name": "stdout",
          "text": [
            "--2021-12-10 13:00:02--  https://s3-us-west-2.amazonaws.com/allennlp/models/elmo/2x4096_512_2048cnn_2xhighway_tf_checkpoint/options.json\n",
            "Resolving s3-us-west-2.amazonaws.com (s3-us-west-2.amazonaws.com)... 52.218.228.0\n",
            "Connecting to s3-us-west-2.amazonaws.com (s3-us-west-2.amazonaws.com)|52.218.228.0|:443... connected.\n",
            "HTTP request sent, awaiting response... 200 OK\n",
            "Length: 568 [application/json]\n",
            "Saving to: ‘options.json’\n",
            "\n",
            "options.json        100%[===================>]     568  --.-KB/s    in 0s      \n",
            "\n",
            "2021-12-10 13:00:02 (14.5 MB/s) - ‘options.json’ saved [568/568]\n",
            "\n"
          ]
        }
      ]
    },
    {
      "cell_type": "code",
      "metadata": {
        "colab": {
          "base_uri": "https://localhost:8080/"
        },
        "id": "3zyktkPGLXvt",
        "outputId": "efeaadc8-c195-454e-eaaa-1ee82a149f5d"
      },
      "source": [
        "# os.chdir(\"/content/drive/MyDrive/allenmodel\")\n",
        "! ls -al"
      ],
      "execution_count": 13,
      "outputs": [
        {
          "output_type": "stream",
          "name": "stdout",
          "text": [
            "total 3940205\n",
            "-rw------- 1 root root         91 May  1  2018 checkpoint\n",
            "-rw------- 1 root root 4005211776 Dec 21  2017 model.ckpt-935588.data-00000-of-00001\n",
            "-rw------- 1 root root       3277 Dec 21  2017 model.ckpt-935588.index\n",
            "-rw------- 1 root root   22121605 Dec 21  2017 model.ckpt-935588.meta\n",
            "-rw------- 1 root root        568 Dec 21  2017 options.json\n",
            "-rw------- 1 root root    7430437 Apr 23  2018 vocab-2016-09-10.txt\n"
          ]
        }
      ]
    },
    {
      "cell_type": "code",
      "source": [
        "import numpy as np\n",
        "import pandas as pd\n",
        "import xml.etree.ElementTree as ET"
      ],
      "metadata": {
        "id": "MRn5casarwmp"
      },
      "execution_count": 3,
      "outputs": []
    },
    {
      "cell_type": "code",
      "source": [
        "os.chdir(\"/content/drive/MyDrive\")\n",
        "xml_data = open('./dataset/articles-training-byarticle-20181122.xml', 'r').read()  # Read file\n",
        "root = ET.XML(xml_data)\n",
        "\n",
        "data = []\n",
        "\n",
        "for i, child in enumerate(root):\n",
        "    data.append([subchild.text for subchild in child])\n",
        "\n",
        "df = pd.DataFrame(data).T  # Write in DF and transpose it\n",
        "\n",
        "print(data[218])"
      ],
      "metadata": {
        "colab": {
          "base_uri": "https://localhost:8080/"
        },
        "id": "gmceT0XbtPqm",
        "outputId": "325c00c4-d701-4398-9199-d2122f449ec0"
      },
      "execution_count": 4,
      "outputs": [
        {
          "output_type": "stream",
          "name": "stdout",
          "text": [
            "['Hollywood will not easily recover from Harvey Weinstein -- not for a long time. The hypocrisy level has hit Defcon 1, 9.9 on the Richter scale.', \"Hollywood’s politics have always been a self-serving charade, a liberal masquerade for a rapacious and lubricious lifestyle. But now, thanks to the Weinstein scandal, we see it more clearly than ever. And it couldn't be more repellent. (I had always thought Bill Clinton would have made the greatest studio executive of all time. Now I'm convinced of it.)\", 'If conservative investors had any courage, this would be the time to make a hostile takeover of the movie business. Unfortunately, they don’t. I know this from bitter personal experience. Wealthy conservatives are delighted to support the Philharmonic, but when it comes to popular culture they turn away, as if afraid to get their hands dirty.', 'That this is a huge mistake should be obvious. They have abandoned the culture -- and our children -- to the creepiest people imaginable. What is going on in Hollywood is far from being just about Harvey. It’s approaching a pandemic. So many previously silent assaulted or raped women are coming out of the woodwork, it seems like a long-belated remake of “Cheaper by the Dozen.” No one knows who will be next or if it will stop at Harvey.', 'The rot is everywhere, even, perhaps especially, in the precincts of “high art.” Gwyneth Paltrow says now is the time to put an end to these attacks on women. But where was she years ago when Harvey got “handsy” with her? Looking the other way while earning millions and garnering Oscars. Meryl Streep claimed she was clueless about Weinstein’s repulsive antics. Time to award her her greatest Oscar yet -- for playing someone deaf, dumb, and blind while living as a troglodyte in the Gobi desert. Either the woman’s a liar or an utter nincompoop. I’ll go with the former.', 'As for the great feminist George Clooney -- the first male star out of the box to condemn Weinstein’s behavior -- let’s give him the Nobel Prize in virtue signaling. By coming forward, he was able to ace out his competition -- Howard Zinn-loving Matt Damon, who disgraced himself forever by covering up for Harvey a decade ago. (For those who may have missed it in the onslaught of sleazy details, Damon assured then New York Times reporter Sharon Waxman that Miramax’s high-paid Italian representative was a genuine “creative film executive” and not Harvey’s European procurer, as was, evidently correctly, rumored. Damon is the same “progressive” movie star who makes films opposing school choice for the masses while living in a thirty million dollar house and sending his kids to private school. I take it back -- maybe we should give him the Nobel in virtue signaling.)']\n"
          ]
        }
      ]
    },
    {
      "cell_type": "code",
      "source": [
        "# loading labels\n",
        "xml_data1 = open('./dataset/ground-truth-training-byarticle-20181122.xml', 'r').read()  # Read file\n",
        "root1 = ET.XML(xml_data1)\n",
        "\n",
        "labels = []\n",
        "\n",
        "for i, child in enumerate(root1):\n",
        "    if child.attrib['hyperpartisan']=='true':\n",
        "        labels.append(1)\n",
        "    else:\n",
        "        labels.append(0)\n",
        "\n",
        "print(labels)"
      ],
      "metadata": {
        "colab": {
          "base_uri": "https://localhost:8080/"
        },
        "id": "7fOXe0nEtVc3",
        "outputId": "019a59ea-6f20-41e0-c43e-34ede0f3e5ca"
      },
      "execution_count": 5,
      "outputs": [
        {
          "output_type": "stream",
          "name": "stdout",
          "text": [
            "[1, 1, 1, 1, 0, 1, 1, 1, 1, 1, 1, 1, 1, 1, 0, 1, 1, 1, 1, 1, 1, 1, 1, 0, 0, 0, 0, 1, 1, 1, 1, 0, 0, 1, 0, 0, 1, 1, 0, 0, 1, 1, 1, 1, 1, 0, 0, 0, 0, 0, 1, 1, 1, 1, 0, 0, 0, 1, 1, 1, 1, 0, 1, 0, 0, 0, 0, 0, 0, 0, 1, 0, 1, 0, 0, 1, 0, 1, 0, 0, 0, 0, 1, 0, 1, 1, 0, 1, 0, 1, 0, 1, 1, 0, 1, 0, 0, 0, 0, 0, 1, 0, 1, 0, 1, 1, 1, 1, 1, 1, 0, 0, 0, 0, 1, 1, 0, 0, 0, 0, 1, 0, 0, 0, 0, 0, 1, 1, 1, 1, 1, 1, 0, 1, 1, 1, 1, 1, 1, 1, 0, 1, 1, 1, 0, 0, 0, 0, 0, 0, 1, 0, 0, 0, 0, 0, 1, 0, 1, 1, 0, 1, 1, 0, 1, 1, 1, 1, 1, 0, 1, 1, 1, 0, 1, 1, 1, 0, 0, 0, 0, 0, 0, 1, 1, 1, 1, 0, 1, 1, 0, 1, 1, 1, 1, 1, 1, 1, 0, 1, 0, 0, 0, 0, 0, 0, 0, 1, 1, 0, 0, 0, 1, 0, 0, 0, 1, 1, 1, 1, 1, 0, 1, 1, 0, 0, 0, 0, 0, 0, 0, 0, 0, 0, 0, 0, 0, 1, 1, 0, 1, 0, 1, 1, 1, 0, 0, 0, 0, 0, 0, 0, 0, 1, 1, 0, 0, 1, 0, 0, 1, 1, 1, 1, 1, 1, 1, 0, 1, 1, 1, 1, 1, 1, 1, 0, 1, 0, 1, 0, 0, 0, 0, 0, 0, 0, 0, 0, 1, 0, 0, 0, 0, 0, 0, 0, 0, 0, 0, 0, 0, 0, 0, 0, 0, 0, 1, 0, 0, 0, 1, 1, 0, 0, 0, 0, 0, 0, 0, 0, 0, 0, 0, 0, 0, 0, 0, 1, 0, 0, 0, 0, 0, 1, 0, 0, 0, 0, 1, 0, 0, 0, 1, 1, 0, 0, 0, 0, 0, 0, 0, 0, 1, 0, 0, 1, 0, 1, 1, 1, 0, 0, 0, 0, 0, 0, 0, 0, 0, 0, 1, 0, 0, 1, 1, 1, 0, 0, 0, 0, 0, 0, 0, 0, 0, 0, 0, 0, 0, 0, 1, 0, 0, 1, 0, 0, 0, 1, 0, 0, 1, 0, 0, 0, 0, 1, 1, 0, 1, 1, 0, 1, 0, 1, 1, 0, 0, 0, 0, 0, 0, 0, 0, 0, 0, 0, 1, 1, 1, 1, 1, 1, 0, 1, 0, 0, 0, 0, 0, 1, 0, 0, 0, 0, 0, 0, 0, 0, 0, 0, 0, 0, 0, 0, 0, 0, 0, 0, 0, 1, 1, 0, 1, 1, 1, 1, 1, 0, 1, 1, 0, 1, 1, 0, 0, 0, 1, 0, 1, 0, 0, 0, 0, 1, 0, 0, 0, 0, 0, 0, 0, 0, 0, 0, 0, 0, 0, 0, 0, 0, 0, 0, 0, 0, 1, 0, 0, 1, 1, 0, 1, 0, 0, 0, 0, 0, 0, 0, 0, 0, 0, 0, 0, 0, 0, 0, 0, 0, 1, 1, 1, 0, 1, 1, 0, 1, 0, 0, 0, 1, 0, 0, 0, 0, 0, 0, 0, 1, 0, 0, 0, 0, 0, 0, 0, 0, 0, 1, 0, 0, 0, 0, 0, 0, 0, 0, 0, 0, 0, 1, 0, 0, 0, 0, 0, 0, 0, 0, 1, 0, 0, 0, 0, 0, 1, 1, 0, 1, 0, 1, 1, 0, 1, 1, 0, 1, 0, 0, 0, 0, 0, 0, 0, 0, 0, 1, 1, 0, 1, 0, 0, 1, 0, 0, 0, 0, 1, 1, 1, 0, 0, 0, 0, 1, 0, 0, 0, 0, 0, 0, 1, 1, 1, 1, 1, 1, 0, 1, 0, 0, 1, 0, 0, 0, 1]\n"
          ]
        }
      ]
    },
    {
      "cell_type": "code",
      "source": [
        "import nltk\n",
        "nltk.download('punkt')"
      ],
      "metadata": {
        "colab": {
          "base_uri": "https://localhost:8080/"
        },
        "id": "qpS0KzgntcXn",
        "outputId": "fece0bd7-677a-477c-a5ac-e26536d3cfd3"
      },
      "execution_count": 6,
      "outputs": [
        {
          "output_type": "stream",
          "name": "stdout",
          "text": [
            "[nltk_data] Downloading package punkt to /root/nltk_data...\n",
            "[nltk_data]   Unzipping tokenizers/punkt.zip.\n"
          ]
        },
        {
          "output_type": "execute_result",
          "data": {
            "text/plain": [
              "True"
            ]
          },
          "metadata": {},
          "execution_count": 6
        }
      ]
    },
    {
      "cell_type": "code",
      "source": [
        "from nltk.tokenize import sent_tokenize, word_tokenize\n"
      ],
      "metadata": {
        "id": "0EJ7S9lkteW7"
      },
      "execution_count": 7,
      "outputs": []
    },
    {
      "cell_type": "code",
      "metadata": {
        "id": "1EAao8CNcp7E"
      },
      "source": [
        "os.chdir(\"/content/drive/MyDrive/allenmodel\")"
      ],
      "execution_count": 8,
      "outputs": []
    },
    {
      "cell_type": "code",
      "metadata": {
        "colab": {
          "base_uri": "https://localhost:8080/"
        },
        "id": "eg9dYQ5ztgsg",
        "outputId": "304c0a9d-0f96-414f-e19b-d87c25a37da6"
      },
      "source": [
        "!python setup.py install"
      ],
      "execution_count": 9,
      "outputs": [
        {
          "output_type": "stream",
          "name": "stdout",
          "text": [
            "running install\n",
            "running bdist_egg\n",
            "running egg_info\n",
            "writing bilm.egg-info/PKG-INFO\n",
            "writing dependency_links to bilm.egg-info/dependency_links.txt\n",
            "writing requirements to bilm.egg-info/requires.txt\n",
            "writing top-level names to bilm.egg-info/top_level.txt\n",
            "reading manifest file 'bilm.egg-info/SOURCES.txt'\n",
            "adding license file 'LICENSE'\n",
            "writing manifest file 'bilm.egg-info/SOURCES.txt'\n",
            "installing library code to build/bdist.linux-x86_64/egg\n",
            "running install_lib\n",
            "running build_py\n",
            "creating build/bdist.linux-x86_64/egg\n",
            "creating build/bdist.linux-x86_64/egg/bilm\n",
            "copying build/lib/bilm/elmo.py -> build/bdist.linux-x86_64/egg/bilm\n",
            "copying build/lib/bilm/training.py -> build/bdist.linux-x86_64/egg/bilm\n",
            "copying build/lib/bilm/data.py -> build/bdist.linux-x86_64/egg/bilm\n",
            "copying build/lib/bilm/model.py -> build/bdist.linux-x86_64/egg/bilm\n",
            "copying build/lib/bilm/__init__.py -> build/bdist.linux-x86_64/egg/bilm\n",
            "byte-compiling build/bdist.linux-x86_64/egg/bilm/elmo.py to elmo.cpython-37.pyc\n",
            "byte-compiling build/bdist.linux-x86_64/egg/bilm/training.py to training.cpython-37.pyc\n",
            "byte-compiling build/bdist.linux-x86_64/egg/bilm/data.py to data.cpython-37.pyc\n",
            "byte-compiling build/bdist.linux-x86_64/egg/bilm/model.py to model.cpython-37.pyc\n",
            "byte-compiling build/bdist.linux-x86_64/egg/bilm/__init__.py to __init__.cpython-37.pyc\n",
            "creating build/bdist.linux-x86_64/egg/EGG-INFO\n",
            "copying bilm.egg-info/PKG-INFO -> build/bdist.linux-x86_64/egg/EGG-INFO\n",
            "copying bilm.egg-info/SOURCES.txt -> build/bdist.linux-x86_64/egg/EGG-INFO\n",
            "copying bilm.egg-info/dependency_links.txt -> build/bdist.linux-x86_64/egg/EGG-INFO\n",
            "copying bilm.egg-info/not-zip-safe -> build/bdist.linux-x86_64/egg/EGG-INFO\n",
            "copying bilm.egg-info/requires.txt -> build/bdist.linux-x86_64/egg/EGG-INFO\n",
            "copying bilm.egg-info/top_level.txt -> build/bdist.linux-x86_64/egg/EGG-INFO\n",
            "creating 'dist/bilm-0.1.post5-py3.7.egg' and adding 'build/bdist.linux-x86_64/egg' to it\n",
            "removing 'build/bdist.linux-x86_64/egg' (and everything under it)\n",
            "Processing bilm-0.1.post5-py3.7.egg\n",
            "creating /usr/local/lib/python3.7/dist-packages/bilm-0.1.post5-py3.7.egg\n",
            "Extracting bilm-0.1.post5-py3.7.egg to /usr/local/lib/python3.7/dist-packages\n",
            "Adding bilm 0.1.post5 to easy-install.pth file\n",
            "\n",
            "Installed /usr/local/lib/python3.7/dist-packages/bilm-0.1.post5-py3.7.egg\n",
            "Processing dependencies for bilm==0.1.post5\n",
            "Searching for h5py==3.1.0\n",
            "Best match: h5py 3.1.0\n",
            "Adding h5py 3.1.0 to easy-install.pth file\n",
            "\n",
            "Using /usr/local/lib/python3.7/dist-packages\n",
            "Searching for cached-property==1.5.2\n",
            "Best match: cached-property 1.5.2\n",
            "Adding cached-property 1.5.2 to easy-install.pth file\n",
            "\n",
            "Using /usr/local/lib/python3.7/dist-packages\n",
            "Searching for numpy==1.19.5\n",
            "Best match: numpy 1.19.5\n",
            "Adding numpy 1.19.5 to easy-install.pth file\n",
            "Installing f2py script to /usr/local/bin\n",
            "Installing f2py3 script to /usr/local/bin\n",
            "Installing f2py3.7 script to /usr/local/bin\n",
            "\n",
            "Using /usr/local/lib/python3.7/dist-packages\n",
            "Finished processing dependencies for bilm==0.1.post5\n"
          ]
        }
      ]
    },
    {
      "cell_type": "code",
      "metadata": {
        "colab": {
          "base_uri": "https://localhost:8080/"
        },
        "id": "uwhoSlG5yb7l",
        "outputId": "b102e306-9acc-4de7-e704-95fc896901d3"
      },
      "source": [
        "%tensorflow_version 1.15"
      ],
      "execution_count": 10,
      "outputs": [
        {
          "output_type": "stream",
          "name": "stdout",
          "text": [
            "`%tensorflow_version` only switches the major version: 1.x or 2.x.\n",
            "You set: `1.15`. This will be interpreted as: `1.x`.\n",
            "\n",
            "\n",
            "TensorFlow 1.x selected.\n"
          ]
        }
      ]
    },
    {
      "cell_type": "code",
      "metadata": {
        "id": "umIIpXnmlwfc"
      },
      "source": [
        "! python bin/restart.py --save_dir ./../checkpoints --vocab_file ./../checkpoints/vocab-2016-09-10.txt --n_gpus 1 --n_epochs 1 --train_prefix \"./../swb/train/*\""
      ],
      "execution_count": null,
      "outputs": []
    },
    {
      "cell_type": "code",
      "metadata": {
        "id": "3esS_2FBGZw7",
        "colab": {
          "base_uri": "https://localhost:8080/"
        },
        "outputId": "f052beb4-9cc7-4dc8-b8e5-ba9c6e019a86"
      },
      "source": [
        "os.chdir(\"/content/drive/MyDrive/allenmodel\")\n",
        "! ls -al\n"
      ],
      "execution_count": 11,
      "outputs": [
        {
          "output_type": "stream",
          "name": "stdout",
          "text": [
            "total 63\n",
            "drwx------ 3 root root  4096 Dec 10 13:07 bilm\n",
            "drwx------ 2 root root  4096 Dec 11 12:49 bilm.egg-info\n",
            "drwx------ 2 root root  4096 Dec 10 13:07 bin\n",
            "drwx------ 4 root root  4096 Dec 10 13:07 build\n",
            "drwx------ 2 root root  4096 Dec 11 12:49 dist\n",
            "-rw------- 1 root root  1165 Oct 16  2018 Dockerfile\n",
            "-rw------- 1 root root    44 Oct 16  2018 .gitignore\n",
            "-rw------- 1 root root 11357 Oct 16  2018 LICENSE\n",
            "-rw------- 1 root root 14724 Oct 16  2018 README.md\n",
            "-rw------- 1 root root   190 Oct 16  2018 run_tests_before_shell.sh\n",
            "-rw------- 1 root root  1738 Oct 16  2018 setup.py\n",
            "drwx------ 2 root root  4096 Dec 10 13:07 tests\n",
            "-rw------- 1 root root  1303 Oct 16  2018 usage_cached.py\n",
            "-rw------- 1 root root  2979 Oct 16  2018 usage_character.py\n",
            "-rw------- 1 root root  3701 Oct 16  2018 usage_token.py\n"
          ]
        }
      ]
    },
    {
      "cell_type": "code",
      "metadata": {
        "colab": {
          "base_uri": "https://localhost:8080/"
        },
        "id": "u2gzh_0cGHtw",
        "outputId": "f6b707d1-e031-4a7e-accc-ed98b8e0cc22"
      },
      "source": [
        "! python bin/dump_weights.py --save_dir './../checkpoints' --outfile './../swb/swb_weights.hdf5'"
      ],
      "execution_count": 12,
      "outputs": [
        {
          "output_type": "stream",
          "name": "stdout",
          "text": [
            "WARNING:tensorflow:From /usr/local/lib/python3.7/dist-packages/bilm-0.1.post5-py3.7.egg/bilm/training.py:21: The name tf.logging.set_verbosity is deprecated. Please use tf.compat.v1.logging.set_verbosity instead.\n",
            "\n",
            "WARNING:tensorflow:From /usr/local/lib/python3.7/dist-packages/bilm-0.1.post5-py3.7.egg/bilm/training.py:21: The name tf.logging.INFO is deprecated. Please use tf.compat.v1.logging.INFO instead.\n",
            "\n",
            "WARNING:tensorflow:From /usr/local/lib/python3.7/dist-packages/bilm-0.1.post5-py3.7.egg/bilm/training.py:1088: The name tf.ConfigProto is deprecated. Please use tf.compat.v1.ConfigProto instead.\n",
            "\n",
            "WARNING:tensorflow:From /usr/local/lib/python3.7/dist-packages/bilm-0.1.post5-py3.7.egg/bilm/training.py:1089: The name tf.Session is deprecated. Please use tf.compat.v1.Session instead.\n",
            "\n",
            "2021-12-11 12:49:48.119766: I tensorflow/core/platform/profile_utils/cpu_utils.cc:94] CPU Frequency: 2199995000 Hz\n",
            "2021-12-11 12:49:48.120086: I tensorflow/compiler/xla/service/service.cc:168] XLA service 0x556a47488a00 initialized for platform Host (this does not guarantee that XLA will be used). Devices:\n",
            "2021-12-11 12:49:48.120124: I tensorflow/compiler/xla/service/service.cc:176]   StreamExecutor device (0): Host, Default Version\n",
            "2021-12-11 12:49:48.145269: I tensorflow/stream_executor/platform/default/dso_loader.cc:44] Successfully opened dynamic library libcuda.so.1\n",
            "2021-12-11 12:49:48.196239: E tensorflow/stream_executor/cuda/cuda_driver.cc:318] failed call to cuInit: CUDA_ERROR_NO_DEVICE: no CUDA-capable device is detected\n",
            "2021-12-11 12:49:48.196314: I tensorflow/stream_executor/cuda/cuda_diagnostics.cc:156] kernel driver does not appear to be running on this host (e9fcc5f4d227): /proc/driver/nvidia/version does not exist\n",
            "WARNING:tensorflow:From /usr/local/lib/python3.7/dist-packages/bilm-0.1.post5-py3.7.egg/bilm/training.py:1090: The name tf.variable_scope is deprecated. Please use tf.compat.v1.variable_scope instead.\n",
            "\n",
            "WARNING:tensorflow:From /usr/local/lib/python3.7/dist-packages/bilm-0.1.post5-py3.7.egg/bilm/training.py:153: The name tf.placeholder is deprecated. Please use tf.compat.v1.placeholder instead.\n",
            "\n",
            "WARNING:tensorflow:From /usr/local/lib/python3.7/dist-packages/bilm-0.1.post5-py3.7.egg/bilm/training.py:158: The name tf.get_variable is deprecated. Please use tf.compat.v1.get_variable instead.\n",
            "\n",
            "WARNING:tensorflow:From /usr/local/lib/python3.7/dist-packages/bilm-0.1.post5-py3.7.egg/bilm/training.py:224: The name tf.get_variable_scope is deprecated. Please use tf.compat.v1.get_variable_scope instead.\n",
            "\n",
            "WARNING:tensorflow:From /usr/local/lib/python3.7/dist-packages/bilm-0.1.post5-py3.7.egg/bilm/training.py:211: The name tf.nn.max_pool is deprecated. Please use tf.nn.max_pool2d instead.\n",
            "\n",
            "WARNING:tensorflow:From /tensorflow-1.15.2/python3.7/tensorflow_core/python/util/dispatch.py:180: calling squeeze (from tensorflow.python.ops.array_ops) with squeeze_dims is deprecated and will be removed in a future version.\n",
            "Instructions for updating:\n",
            "Use the `axis` argument instead\n",
            "USING SKIP CONNECTIONS\n",
            "WARNING:tensorflow:From /usr/local/lib/python3.7/dist-packages/bilm-0.1.post5-py3.7.egg/bilm/training.py:372: LSTMCell.__init__ (from tensorflow.python.ops.rnn_cell_impl) is deprecated and will be removed in a future version.\n",
            "Instructions for updating:\n",
            "This class is equivalent as tf.keras.layers.LSTMCell, and will be replaced by that in Tensorflow 2.0.\n",
            "WARNING:tensorflow:From /usr/local/lib/python3.7/dist-packages/bilm-0.1.post5-py3.7.egg/bilm/training.py:386: The name tf.nn.rnn_cell.ResidualWrapper is deprecated. Please use tf.compat.v1.nn.rnn_cell.ResidualWrapper instead.\n",
            "\n",
            "WARNING:tensorflow:From /usr/local/lib/python3.7/dist-packages/bilm-0.1.post5-py3.7.egg/bilm/training.py:396: MultiRNNCell.__init__ (from tensorflow.python.ops.rnn_cell_impl) is deprecated and will be removed in a future version.\n",
            "Instructions for updating:\n",
            "This class is equivalent as tf.keras.layers.StackedRNNCells, and will be replaced by that in Tensorflow 2.0.\n",
            "WARNING:tensorflow:From /usr/local/lib/python3.7/dist-packages/bilm-0.1.post5-py3.7.egg/bilm/training.py:410: static_rnn (from tensorflow.python.ops.rnn) is deprecated and will be removed in a future version.\n",
            "Instructions for updating:\n",
            "Please use `keras.layers.RNN(cell, unroll=True)`, which is equivalent to this API\n",
            "WARNING:tensorflow:From /tensorflow-1.15.2/python3.7/tensorflow_core/python/ops/rnn_cell_impl.py:958: Layer.add_variable (from tensorflow.python.keras.engine.base_layer) is deprecated and will be removed in a future version.\n",
            "Instructions for updating:\n",
            "Please use `layer.add_weight` method instead.\n",
            "WARNING:tensorflow:From /tensorflow-1.15.2/python3.7/tensorflow_core/python/ops/rnn_cell_impl.py:962: calling Zeros.__init__ (from tensorflow.python.ops.init_ops) with dtype is deprecated and will be removed in a future version.\n",
            "Instructions for updating:\n",
            "Call initializer instance with the dtype argument instead of passing it to the constructor\n",
            "WARNING:tensorflow:From /usr/local/lib/python3.7/dist-packages/bilm-0.1.post5-py3.7.egg/bilm/training.py:425: The name tf.add_to_collection is deprecated. Please use tf.compat.v1.add_to_collection instead.\n",
            "\n",
            "WARNING:tensorflow:From /usr/local/lib/python3.7/dist-packages/bilm-0.1.post5-py3.7.egg/bilm/training.py:1093: The name tf.train.Saver is deprecated. Please use tf.compat.v1.train.Saver instead.\n",
            "\n",
            "INFO:tensorflow:Restoring parameters from ./../checkpoints/model.ckpt-935588\n",
            "2021-12-11 12:49:50.449239: W tensorflow/core/framework/cpu_allocator_impl.cc:81] Allocation of 1625028608 exceeds 10% of system memory.\n",
            "tcmalloc: large alloc 1625030656 bytes == 0x556a4c8e4000 @  0x7fcc8d840b6b 0x7fcc8d860379 0x7fcc43fc1467 0x7fcc43daec4f 0x7fcc43c7427b 0x7fcc43c39c66 0x7fcc43c3aaf3 0x7fcc43c3acc7 0x7fcc48945d08 0x7fcc489462e2 0x7fcc43fa33a9 0x7fcc43fa0a78 0x7fcc8c1406df 0x7fcc8d6136db 0x7fcc8c74871f\n",
            "WARNING:tensorflow:From /usr/local/lib/python3.7/dist-packages/bilm-0.1.post5-py3.7.egg/bilm/training.py:1097: The name tf.trainable_variables is deprecated. Please use tf.compat.v1.trainable_variables instead.\n",
            "\n",
            "Saving variable lm/char_embed:0 with name char_embed\n",
            "Saving variable lm/CNN/W_cnn_0:0 with name CNN/W_cnn_0\n",
            "Saving variable lm/CNN/b_cnn_0:0 with name CNN/b_cnn_0\n",
            "Saving variable lm/CNN/W_cnn_1:0 with name CNN/W_cnn_1\n",
            "Saving variable lm/CNN/b_cnn_1:0 with name CNN/b_cnn_1\n",
            "Saving variable lm/CNN/W_cnn_2:0 with name CNN/W_cnn_2\n",
            "Saving variable lm/CNN/b_cnn_2:0 with name CNN/b_cnn_2\n",
            "Saving variable lm/CNN/W_cnn_3:0 with name CNN/W_cnn_3\n",
            "Saving variable lm/CNN/b_cnn_3:0 with name CNN/b_cnn_3\n",
            "Saving variable lm/CNN/W_cnn_4:0 with name CNN/W_cnn_4\n",
            "Saving variable lm/CNN/b_cnn_4:0 with name CNN/b_cnn_4\n",
            "Saving variable lm/CNN/W_cnn_5:0 with name CNN/W_cnn_5\n",
            "Saving variable lm/CNN/b_cnn_5:0 with name CNN/b_cnn_5\n",
            "Saving variable lm/CNN/W_cnn_6:0 with name CNN/W_cnn_6\n",
            "Saving variable lm/CNN/b_cnn_6:0 with name CNN/b_cnn_6\n",
            "Saving variable lm/CNN_proj/W_proj:0 with name CNN_proj/W_proj\n",
            "Saving variable lm/CNN_proj/b_proj:0 with name CNN_proj/b_proj\n",
            "Saving variable lm/CNN_high_0/W_carry:0 with name CNN_high_0/W_carry\n",
            "Saving variable lm/CNN_high_0/b_carry:0 with name CNN_high_0/b_carry\n",
            "Saving variable lm/CNN_high_0/W_transform:0 with name CNN_high_0/W_transform\n",
            "Saving variable lm/CNN_high_0/b_transform:0 with name CNN_high_0/b_transform\n",
            "Saving variable lm/CNN_high_1/W_carry:0 with name CNN_high_1/W_carry\n",
            "Saving variable lm/CNN_high_1/b_carry:0 with name CNN_high_1/b_carry\n",
            "Saving variable lm/CNN_high_1/W_transform:0 with name CNN_high_1/W_transform\n",
            "Saving variable lm/CNN_high_1/b_transform:0 with name CNN_high_1/b_transform\n",
            "Saving variable lm/RNN_0/rnn/multi_rnn_cell/cell_0/lstm_cell/kernel:0 with name RNN_0/RNN/MultiRNNCell/Cell0/LSTMCell/W_0\n",
            "Saving variable lm/RNN_0/rnn/multi_rnn_cell/cell_0/lstm_cell/bias:0 with name RNN_0/RNN/MultiRNNCell/Cell0/LSTMCell/B\n",
            "Saving variable lm/RNN_0/rnn/multi_rnn_cell/cell_0/lstm_cell/projection/kernel:0 with name RNN_0/RNN/MultiRNNCell/Cell0/LSTMCell/W_P_0\n",
            "Saving variable lm/RNN_0/rnn/multi_rnn_cell/cell_1/lstm_cell/kernel:0 with name RNN_0/RNN/MultiRNNCell/Cell1/LSTMCell/W_0\n",
            "Saving variable lm/RNN_0/rnn/multi_rnn_cell/cell_1/lstm_cell/bias:0 with name RNN_0/RNN/MultiRNNCell/Cell1/LSTMCell/B\n",
            "Saving variable lm/RNN_0/rnn/multi_rnn_cell/cell_1/lstm_cell/projection/kernel:0 with name RNN_0/RNN/MultiRNNCell/Cell1/LSTMCell/W_P_0\n",
            "Saving variable lm/RNN_1/rnn/multi_rnn_cell/cell_0/lstm_cell/kernel:0 with name RNN_1/RNN/MultiRNNCell/Cell0/LSTMCell/W_0\n",
            "Saving variable lm/RNN_1/rnn/multi_rnn_cell/cell_0/lstm_cell/bias:0 with name RNN_1/RNN/MultiRNNCell/Cell0/LSTMCell/B\n",
            "Saving variable lm/RNN_1/rnn/multi_rnn_cell/cell_0/lstm_cell/projection/kernel:0 with name RNN_1/RNN/MultiRNNCell/Cell0/LSTMCell/W_P_0\n",
            "Saving variable lm/RNN_1/rnn/multi_rnn_cell/cell_1/lstm_cell/kernel:0 with name RNN_1/RNN/MultiRNNCell/Cell1/LSTMCell/W_0\n",
            "Saving variable lm/RNN_1/rnn/multi_rnn_cell/cell_1/lstm_cell/bias:0 with name RNN_1/RNN/MultiRNNCell/Cell1/LSTMCell/B\n",
            "Saving variable lm/RNN_1/rnn/multi_rnn_cell/cell_1/lstm_cell/projection/kernel:0 with name RNN_1/RNN/MultiRNNCell/Cell1/LSTMCell/W_P_0\n"
          ]
        }
      ]
    },
    {
      "cell_type": "code",
      "metadata": {
        "id": "cfRXUdHVLbDy"
      },
      "source": [
        "import os\n",
        "os.environ['TF_CPP_MIN_LOG_LEVEL'] = '3'\n",
        "import tensorflow as tf\n",
        "import numpy as np\n",
        "import scipy.spatial.distance as ds\n",
        "from bilm import Batcher, BidirectionalLanguageModel, weight_layers"
      ],
      "execution_count": 13,
      "outputs": []
    },
    {
      "cell_type": "code",
      "metadata": {
        "id": "p5TXvEbZSlWO"
      },
      "source": [
        "os.chdir(\"/content/drive/MyDrive\")"
      ],
      "execution_count": 14,
      "outputs": []
    },
    {
      "cell_type": "code",
      "metadata": {
        "colab": {
          "base_uri": "https://localhost:8080/"
        },
        "id": "f3ZScv-xQRO0",
        "outputId": "a0a21314-7cc4-461d-d491-a41651887eaf"
      },
      "source": [
        "vocab_file = './checkpoints/vocabulary.txt'\n",
        "options_file = './checkpoints/options.json'\n",
        "weight_file = './swb/swb_weights.hdf5'\n",
        "batcher = Batcher(vocab_file, 50)\n",
        "context_character_ids = tf.placeholder('int32', shape=(None, None, 50))\n",
        "bilm = BidirectionalLanguageModel(options_file, weight_file)\n",
        "context_embeddings_op = bilm(context_character_ids)"
      ],
      "execution_count": 15,
      "outputs": [
        {
          "output_type": "stream",
          "name": "stdout",
          "text": [
            "WARNING:tensorflow:From /content/drive/My Drive/allenmodel/bilm/model.py:276: The name tf.variable_scope is deprecated. Please use tf.compat.v1.variable_scope instead.\n",
            "\n",
            "WARNING:tensorflow:From /content/drive/My Drive/allenmodel/bilm/model.py:333: The name tf.get_variable is deprecated. Please use tf.compat.v1.get_variable instead.\n",
            "\n",
            "WARNING:tensorflow:From /content/drive/My Drive/allenmodel/bilm/model.py:378: The name tf.nn.max_pool is deprecated. Please use tf.nn.max_pool2d instead.\n",
            "\n",
            "WARNING:tensorflow:From /tensorflow-1.15.2/python3.7/tensorflow_core/python/util/dispatch.py:180: calling squeeze (from tensorflow.python.ops.array_ops) with squeeze_dims is deprecated and will be removed in a future version.\n",
            "Instructions for updating:\n",
            "Use the `axis` argument instead\n",
            "USING SKIP CONNECTIONS\n",
            "WARNING:tensorflow:From /content/drive/My Drive/allenmodel/bilm/model.py:524: LSTMCell.__init__ (from tensorflow.python.ops.rnn_cell_impl) is deprecated and will be removed in a future version.\n",
            "Instructions for updating:\n",
            "This class is equivalent as tf.keras.layers.LSTMCell, and will be replaced by that in Tensorflow 2.0.\n",
            "WARNING:tensorflow:From /content/drive/My Drive/allenmodel/bilm/model.py:568: The name tf.nn.rnn_cell.LSTMStateTuple is deprecated. Please use tf.compat.v1.nn.rnn_cell.LSTMStateTuple instead.\n",
            "\n",
            "WARNING:tensorflow:From /content/drive/My Drive/allenmodel/bilm/model.py:569: dynamic_rnn (from tensorflow.python.ops.rnn) is deprecated and will be removed in a future version.\n",
            "Instructions for updating:\n",
            "Please use `keras.layers.RNN(cell)`, which is equivalent to this API\n",
            "WARNING:tensorflow:From /tensorflow-1.15.2/python3.7/tensorflow_core/python/ops/rnn_cell_impl.py:958: Layer.add_variable (from tensorflow.python.keras.engine.base_layer) is deprecated and will be removed in a future version.\n",
            "Instructions for updating:\n",
            "Please use `layer.add_weight` method instead.\n",
            "WARNING:tensorflow:From /tensorflow-1.15.2/python3.7/tensorflow_core/python/ops/rnn_cell_impl.py:962: calling Zeros.__init__ (from tensorflow.python.ops.init_ops) with dtype is deprecated and will be removed in a future version.\n",
            "Instructions for updating:\n",
            "Call initializer instance with the dtype argument instead of passing it to the constructor\n",
            "WARNING:tensorflow:From /tensorflow-1.15.2/python3.7/tensorflow_core/python/ops/rnn.py:244: where (from tensorflow.python.ops.array_ops) is deprecated and will be removed in a future version.\n",
            "Instructions for updating:\n",
            "Use tf.where in 2.0, which has the same broadcast rule as np.where\n",
            "WARNING:tensorflow:From /content/drive/My Drive/allenmodel/bilm/model.py:593: The name tf.assign is deprecated. Please use tf.compat.v1.assign instead.\n",
            "\n",
            "WARNING:tensorflow:From /content/drive/My Drive/allenmodel/bilm/model.py:538: The name tf.nn.rnn_cell.ResidualWrapper is deprecated. Please use tf.compat.v1.nn.rnn_cell.ResidualWrapper instead.\n",
            "\n"
          ]
        }
      ]
    },
    {
      "cell_type": "code",
      "metadata": {
        "colab": {
          "base_uri": "https://localhost:8080/"
        },
        "id": "vTYXDEGYbkJO",
        "outputId": "2094eb30-f455-49c5-e744-83a61409bf0e"
      },
      "source": [
        "elmo_context_input = weight_layers('input', context_embeddings_op, l2_coef=0.0)"
      ],
      "execution_count": 16,
      "outputs": [
        {
          "output_type": "stream",
          "name": "stdout",
          "text": [
            "WARNING:tensorflow:From /content/drive/My Drive/allenmodel/bilm/elmo.py:94: The name tf.get_collection is deprecated. Please use tf.compat.v1.get_collection instead.\n",
            "\n",
            "WARNING:tensorflow:From /content/drive/My Drive/allenmodel/bilm/elmo.py:95: The name tf.GraphKeys is deprecated. Please use tf.compat.v1.GraphKeys instead.\n",
            "\n"
          ]
        }
      ]
    },
    {
      "cell_type": "code",
      "source": [
        "raw_context = ['Terrifying walls of water from Hurricanes Harvey and Irma, which, when the damage is totaled, could rise to a half trillion dollars.']\n",
        " \n",
        "tokenized_context = [sentence.split() for sentence in raw_context]\n",
        "print(tokenized_context)\n",
        "\n",
        "print(type(tokenized_context))"
      ],
      "metadata": {
        "colab": {
          "base_uri": "https://localhost:8080/"
        },
        "id": "VfP8g0FXoSTD",
        "outputId": "1a796326-7880-40d0-9ab2-bef05db59d8f"
      },
      "execution_count": 18,
      "outputs": [
        {
          "output_type": "stream",
          "name": "stdout",
          "text": [
            "[['Terrifying', 'walls', 'of', 'water', 'from', 'Hurricanes', 'Harvey', 'and', 'Irma,', 'which,', 'when', 'the', 'damage', 'is', 'totaled,', 'could', 'rise', 'to', 'a', 'half', 'trillion', 'dollars.']]\n",
            "<class 'list'>\n"
          ]
        }
      ]
    },
    {
      "cell_type": "code",
      "source": [
        "with tf.Session() as sess:\n",
        "    # It is necessary to initialize variables once before running inference.\n",
        "    sess.run(tf.global_variables_initializer())\n",
        " \n",
        "    # Create batches of data.\n",
        "    context_ids = batcher.batch_sentences(tokenized_context)\n",
        "    print(\"Shape of context ids = \", context_ids.shape)\n",
        " \n",
        "    # Compute ELMo representations (here for the input only, for simplicity).\n",
        "    elmo_context_input_ = sess.run(\n",
        "        elmo_context_input['weighted_op'],\n",
        "        feed_dict={context_character_ids: context_ids}\n",
        "    )\n",
        " \n",
        "    print(\"Shape of generated embeddings = \",elmo_context_input_.shape)\n",
        "\n",
        "    "
      ],
      "metadata": {
        "colab": {
          "base_uri": "https://localhost:8080/"
        },
        "id": "nogU53QT2o20",
        "outputId": "99636f2c-7efc-4823-d591-b0b8da1b803f"
      },
      "execution_count": 19,
      "outputs": [
        {
          "output_type": "stream",
          "name": "stdout",
          "text": [
            "Shape of context ids =  (1, 24, 50)\n",
            "Shape of generated embeddings =  (1, 22, 1024)\n"
          ]
        }
      ]
    },
    {
      "cell_type": "code",
      "metadata": {
        "id": "RruSgpc_xsQu"
      },
      "source": [
        "def calc_embeddings(tokenized_string):\n",
        "  with tf.Session() as sess:\n",
        "    # It is necessary to initialize variables once before running inference.\n",
        "    sess.run(tf.global_variables_initializer())\n",
        " \n",
        "    # Create batches of data.\n",
        "    context_ids = batcher.batch_sentences(tokenized_string)\n",
        "    print(\"Shape of context ids = \", context_ids.shape)\n",
        " \n",
        "    # Compute ELMo representations (here for the input only, for simplicity).\n",
        "    elmo_context_input_ = sess.run(\n",
        "        elmo_context_input['weighted_op'],\n",
        "        feed_dict={context_character_ids: context_ids}\n",
        "    )\n",
        " \n",
        "    print(\"Shape of generated embeddings = \",elmo_context_input_.shape)\n",
        "\n",
        "    return elmo_context_input_"
      ],
      "execution_count": 17,
      "outputs": []
    },
    {
      "cell_type": "code",
      "source": [
        "print(type(data))\n",
        "\n",
        "training_data = data[0:200]\n",
        "training_labels = labels[0:200]\n",
        "\n",
        "testing_data = data[200:250]\n",
        "testing_labels = labels[200:250]"
      ],
      "metadata": {
        "colab": {
          "base_uri": "https://localhost:8080/"
        },
        "id": "LP27G3eRwzmr",
        "outputId": "2a73c433-348d-45d5-dbd4-7ab0012f6325"
      },
      "execution_count": 18,
      "outputs": [
        {
          "output_type": "stream",
          "name": "stdout",
          "text": [
            "<class 'list'>\n"
          ]
        }
      ]
    },
    {
      "cell_type": "code",
      "metadata": {
        "colab": {
          "base_uri": "https://localhost:8080/"
        },
        "id": "pVq3uAbHxvIS",
        "outputId": "36a1a4d9-157f-4ae2-96ee-380748a97cd2"
      },
      "source": [
        "train_X = []\n",
        "train_Y = []\n",
        "\n",
        "sum = 0\n",
        "for i in range(len(training_data)):\n",
        "  sentences = []\n",
        "  for j in range(len(training_data[i])):\n",
        "\n",
        "    if training_data[i][j] is None:\n",
        "      continue\n",
        "    if(len(training_data[i][j])<3):\n",
        "      continue\n",
        "\n",
        "    # print(data[i][j])\n",
        "    lst = sent_tokenize(training_data[i][j])\n",
        "\n",
        "    for k in range(len(lst)):\n",
        "      sentences.append(lst[k])\n",
        "\n",
        "  tokenized_context_send = []\n",
        "\n",
        "  for j in range(len(sentences)):\n",
        "\n",
        "    raw_context = sentences[j]\n",
        "    tokenized_context1 = raw_context.split()\n",
        "\n",
        "    new_list = []\n",
        "    for word in tokenized_context1:\n",
        "      word1 = word.lower()\n",
        "\n",
        "      new_word = \"\"\n",
        "\n",
        "      for p in word1:\n",
        "        if (p.isalpha()):\n",
        "          new_word+=p\n",
        "\n",
        "      if(len(new_word)>2 and new_word!=\"the\"):\n",
        "        new_list.append(new_word)\n",
        "\n",
        "    if(len(new_list)>1):\n",
        "      tokenized_context_send.append(new_list)\n",
        "\n",
        "  # print(tokenized_context_send)\n",
        "  \n",
        "  if(len(tokenized_context_send)>=130):\n",
        "    print(tokenized_context_send)\n",
        "    continue\n",
        "  \n",
        "  if(len(tokenized_context_send)<1):\n",
        "    continue\n",
        "\n",
        "  embeddings = calc_embeddings(tokenized_context_send)\n",
        "\n",
        "  feature_vector = []\n",
        "  for j in range(len(tokenized_context_send)):\n",
        "    matrix = []\n",
        "    tot_sum = 0\n",
        "    length_tot = len(tokenized_context_send[j])\n",
        "\n",
        "    for k in range(len(tokenized_context_send[j])):\n",
        "\n",
        "      sm = 0\n",
        "      for p in embeddings[j,k,:]:\n",
        "        sm = sm+p\n",
        "\n",
        "      length = len(embeddings[j,k,:])\n",
        "\n",
        "      num = sm/length\n",
        "      tot_sum+=num\n",
        "    \n",
        "    final_val = tot_sum/length_tot\n",
        "    feature_vector.append(final_val)\n",
        "    \n",
        "\n",
        "  print(feature_vector)\n",
        "  print(labels[i])\n",
        "\n",
        "  train_X.append(feature_vector)\n",
        "  train_Y.append(training_labels[i])\n",
        "\n"
      ],
      "execution_count": 19,
      "outputs": [
        {
          "output_type": "stream",
          "name": "stdout",
          "text": [
            "Shape of context ids =  (60, 38, 50)\n",
            "Shape of generated embeddings =  (60, 36, 1024)\n",
            "[-0.018525571897555437, -0.011849934409423547, -0.013889957469204588, -0.02293699407965101, -0.006721288688095228, -0.010367614882397902, -0.01663070837145954, -0.0026297927040559443, -0.00917046162905611, -0.00359410898289525, -0.006633862863964168, 0.0017678624209338523, 0.003001941379125128, -0.0030766149344129998, 0.001423724689396977, -0.0017903428429752405, 0.002210421487880491, -0.006534802365074989, 0.0003673364858893062, -0.002433295957496953, -0.0030191411547256003, -0.002887066078487048, -0.006227528389257283, -0.009246809043588655, -0.004243350907498867, -0.0033825791082020057, -0.007617808241422251, -0.015845680516758876, -0.012897342620209428, -0.012008476349202673, -0.00674675144436776, -0.011835597047993559, -0.012627348658914647, -0.005877046026254998, -0.002996303164100785, -0.018525571897555437, -0.011849934409423547, -0.013889957469204588, -0.02293699407965101, -0.006721288688095228, -0.010367614882397902, -0.01663070837145954, -0.0026297927040559443, -0.00917046162905611, -0.00359410898289525, -0.006633862863964168, 0.0017678624209338523, 0.003001941379125128, -0.0030766149344129998, 0.001423724689396977, -0.0017903428429752405, 0.002210421487880491, -0.006534802365074989, 0.0003673364858893062, -0.002433295957496953, -0.0030191411547256003, -0.002887066078487048, -0.006227528389257283, -0.009246809043588655, -0.004243350907498867]\n",
            "1\n",
            "Shape of context ids =  (9, 33, 50)\n",
            "Shape of generated embeddings =  (9, 31, 1024)\n",
            "[0.015607709638084088, 0.007851032190865226, 0.0005668685107243968, 0.004840686518373507, -0.006578933170269845, 0.005780286024052937, 0.000887594982178862, 0.003546980613615839, 0.007055504447738382]\n",
            "1\n",
            "Shape of context ids =  (11, 32, 50)\n",
            "Shape of generated embeddings =  (11, 30, 1024)\n",
            "[0.0012514182694152018, 0.011522128777705297, 0.0007186620687532143, -0.011251009976194836, -0.01044241178242089, -0.00448289314883823, -0.013580163356512761, -0.006617145828215598, -0.002698838492836909, -0.0030647840086999167, 0.007475996382300565]\n",
            "1\n",
            "Shape of context ids =  (18, 35, 50)\n",
            "Shape of generated embeddings =  (18, 33, 1024)\n",
            "[-0.0042911047313793915, -0.0037182700728408237, -0.006969251098477495, -0.01426819284455405, -0.00013080957108451747, 0.0016819518717233627, -0.001635083037699912, -0.0005807444806784836, -0.007042519199876552, -0.013995822950732872, -0.007869852641306352, 0.002138605047548481, 0.0029188802024767333, -0.002966902409148986, -0.005022487192150038, 0.0030176254119851365, -0.00167063998088679, 0.007183389372054687]\n",
            "1\n",
            "Shape of context ids =  (45, 37, 50)\n",
            "Shape of generated embeddings =  (45, 35, 1024)\n",
            "[-0.0029916700687948605, -0.0023428296819615908, -0.002773502196487243, -0.0035770313834575518, 0.0051771953385468805, -0.004135988211231734, 0.008826530344078622, -0.010690300104432112, -0.0159240153208621, -0.0004873690009584867, 0.002999868249716542, -0.006371411540907074, -0.007309750990490708, 0.006289871125727586, -0.007230769348027587, 0.001582239006333671, -0.005460335158504263, 0.0005773549774598255, -0.0005912664287734514, -0.0045009884227190065, -0.0046440286709394756, 0.008126043082286385, 0.019008146441884883, 0.0018256651860516133, -0.009441195468794334, -0.01195193013528808, -0.005139336343624734, -0.010213044548558108, 0.0035288716158642535, -0.008807356762923114, -0.0032671182969597093, -0.0069500842587331135, 0.003442504154463677, -0.015880011088484025, -0.006018886553079028, -0.00033566131518606807, -0.002519971769942231, -0.01049921425209277, 0.0041138501152090615, -0.010718198267155848, 0.00012615572495633387, 0.000568851769492579, 0.020180141827722764, 0.006617719232644958, 0.006078515722947486]\n",
            "0\n",
            "Shape of context ids =  (126, 56, 50)\n",
            "Shape of generated embeddings =  (126, 54, 1024)\n",
            "[0.0025735435578913743, 0.003750947270989833, 0.008532455031105628, -0.006844181763942568, 0.0028334522917661657, 0.009628327870553531, 0.009715176533518388, 0.00045431908310087147, -0.0013667347812997832, 0.0034125699937703757, 0.004053088536807081, -0.0020633207794314027, 0.011178845887325463, 0.0171878150446787, -0.0002056943410821077, 0.011125209684962556, -0.00010419107790463993, 0.014877484279537612, 0.003997857532217845, -0.0010679313424394163, 0.0013272195644447038, 0.008271297183734367, 0.002120031379035936, 0.0067766693821189015, -0.0032059311190909953, 0.01460589769942544, -0.004534253947180592, 0.007869126154318451, 0.00012770135880269993, -0.00468551724760573, -0.0008475475322687711, 0.0022217620028707565, 0.0033186149520929575, 0.007661552655599002, 0.006694317037759642, -0.01018273754658594, 0.013115500272472975, 0.005537723628234604, 0.0027490450793266064, 0.002037843039328635, 0.0006614501901114838, -0.003133569565250127, 0.008535473345697634, -0.005264686313730635, 0.0016623365156419822, 0.004434213665525441, 0.005130742889886118, 0.005966598888903718, 0.003569419328765765, 0.00574307616112107, 0.018544054412944076, 0.01779517312809874, -0.0028954235212950152, 0.001414841408253172, -0.002263195466957768, -0.008229922344876664, 0.003772096118431989, 0.005895482014475206, 0.006017480115872331, -0.0012226063713380124, 0.005034772399799944, 0.00017791901458015977, 0.0046395805502925215, 0.0011348962958284876, -0.0030839397057295923, -0.0028348076597963386, 0.0014808348920833279, 0.0012387728838977917, 0.005958838883759056, 0.005251992399769279, 0.010374428966167176, 0.0058515413967887234, 0.006009897663302995, 0.00971004369378079, -0.0019949708685089718, 0.007654942562213465, -0.003667925054535524, 0.004002989107668024, 0.0050458103591116315, 0.001866709195250375, 0.0029226609545795717, -0.0008955063957273524, 0.0073197833954539064, 0.0008698714482938562, -0.0010446815669082651, 0.0017806019688464403, -0.0025855777858553733, -0.0014678270437192018, 0.006935839668282521, -0.006194716878607461, 0.0002625828083277308, -0.0018856976008204843, -0.003622419499813325, 0.005644360788520234, 0.0016667685599145443, -0.0007633345545903494, -0.005009158422126347, -0.0028013044502586126, 0.017101708382900444, -0.0005104176943386088, 0.0030121908420229515, 0.01177182205243003, 0.007961309731854271, 0.009491661419605616, 0.0007078960236034012, 0.016380400816026795, 0.012181608144645552, 0.002514317427183717, -0.0012252677934620133, -0.002212581404737881, -0.0005000460198390203, 0.009736922267289097, 0.002180123524530861, 0.0023243404863756544, 0.00048348775320050663, -0.0016577799391939152, 0.0021079616945576165, 0.004073387709782905, 0.014849491825316363, 0.014275001887524143, 0.0006676202400133965, -9.51932706811931e-05, 0.002195926420098557, 0.010488655577167568, -0.0010926325799118786, 0.018264847842146992]\n",
            "1\n",
            "Shape of context ids =  (19, 37, 50)\n",
            "Shape of generated embeddings =  (19, 35, 1024)\n",
            "[-0.00494982850267692, -0.0033888097673776714, -0.004115410298557738, 0.002307954735114729, 0.00279303005802376, -0.00028552041732154976, -0.01092149807446471, 0.0048803750454350266, -0.005414896747273208, -0.012070594251413456, 0.001995181129314005, 0.0001582453692900998, 0.0010294051419805327, 0.0013658992234323623, 0.0019695881297063047, -0.0002715872827333702, 0.003144667850849513, -0.0026531316398073945, -0.003344737723465259]\n",
            "1\n",
            "Shape of context ids =  (41, 33, 50)\n",
            "Shape of generated embeddings =  (41, 31, 1024)\n",
            "[0.002671630783188069, 0.005717496015467748, 0.0021713684544652423, 0.003963507403239356, 0.008961008677175641, 0.004528610661915471, 0.0004236058097392613, 0.0008573040513510932, 0.0038960004683372064, 0.01875691893210387, 0.004689857931765573, 0.003287651513148929, 0.008464225098929915, -0.003240379941530591, 0.004224734145803749, 0.005137735823847255, -0.005930272702840966, -0.011687754579440934, 0.00033987836186750227, -0.005396314453407656, -0.006492862740227186, 0.008440810860361126, -0.0025570612194201203, -0.0007883374457626567, 0.009245693354330342, 0.004887440379418097, 0.008938217460093222, 0.0038417943074884014, -0.00870432922508968, 0.004686936155709331, -0.0059259282680793985, -0.00025169285883689996, -0.0010026317768899223, 0.006594390132391936, 0.002955297212579353, -0.008233691431051682, -0.0019510310842406398, 0.00775595055292797, 0.010104965197001547, 0.00470618512404144, 0.01856514587007041]\n",
            "1\n",
            "Shape of context ids =  (49, 49, 50)\n",
            "Shape of generated embeddings =  (49, 47, 1024)\n",
            "[-0.00091420014580133, 0.00041769589548883753, 0.0182076050596379, 0.004671458435474016, 0.00036765688594578966, 0.007060881034419708, -0.002680037795471435, -0.004422687844826864, -0.002058380309715679, -0.010010118590396534, 0.0017315981095425042, 0.005487619808576483, -0.0031704594586924053, -0.007035964562248864, 0.007581174051476107, -0.0025144561681429423, 0.011424273899478976, -0.02085439373382228, 0.006921655255674912, 0.016444479050018605, 0.0012800395051171007, -0.007752560384574281, 0.00028272064763211436, -0.01013270595599765, 0.0008690727550153745, -0.00223002633156284, 0.006946758203765866, -0.002885578174452045, 0.002393206374733836, 0.0062722983135634945, 0.0030637269491483993, 0.019136822298681484, 0.002355700198049384, 0.002805737691217776, 0.01498798740542704, 0.00011878717426346459, 0.013078274026725012, 0.002158849831981039, 0.009231032965544728, 0.002820230740543712, 0.014412999921144266, 0.001445664645836167, 0.008704720176820047, -0.002756619099380129, 0.0012208652038339096, -0.0014054552440686367, -0.0005033688526704541, 0.017698107899983977, 0.026450635411139147]\n",
            "1\n",
            "Shape of context ids =  (44, 43, 50)\n",
            "Shape of generated embeddings =  (44, 41, 1024)\n",
            "[0.00926654667974682, 0.002931968784096739, -0.002648968458432041, -0.007397085730550164, -0.003313692310384179, 0.001965917609553751, -0.0010242811924854323, -0.009285603252957722, -0.0038767707375260024, -0.0064122230758539445, -0.008242312312066957, -0.0019551145798141077, 0.001243769139601563, -0.012804031435176213, 0.013648772748695137, -0.006865134056732182, -0.001827536088914409, 0.008149030306580082, 0.0034050121488949764, -0.0003098934349357781, -0.01167656958610182, 0.004108171189864151, 0.009622301058373393, 0.000836114540940495, -0.0033751220618582654, -0.005298424048479127, -0.009163040320307422, 0.0004747085135136331, 0.005036586910915293, 0.0012457035591827055, -0.0146784390382483, -0.008635400346989286, 0.004899880904221473, 0.01554610980045052, -0.0010179590052404011, -0.0012463710621994002, 0.0012067585792465251, -0.0013285407583712835, 0.003641371547625264, 0.00452187433046826, -0.006974064701559903, 0.005952758643473999, 0.006531263251405873, 0.024788970344941066]\n",
            "1\n",
            "Shape of context ids =  (36, 54, 50)\n",
            "Shape of generated embeddings =  (36, 52, 1024)\n",
            "[-0.0023471068154208297, 0.002704717107139674, 0.0012240762872646454, -0.012480931507704034, -0.0006894121267777109, -0.0008067748806297459, -0.007986639578640669, 0.007675115976021756, -0.0015160645261858008, 0.006365025154991599, -0.0048598656124716815, 0.0035135230391801996, -0.003959672332409052, 0.005178978131425538, 0.0003438501797871949, -0.008093696718196952, 0.010404414392723993, -0.004270081792854052, 0.013071727821170498, -0.004961423045500624, 0.0011600805301668516, 3.957433727919124e-05, 0.007841247662188126, -0.004304964714567205, 0.0008602292612222714, -0.0039501364274736476, -0.003389766283191875, -0.008323215618541808, -0.000897715753056288, 0.0011440959934532202, 0.0017700084692095469, -0.0056614065413089065, 0.004274739269110089, -0.004507681356856318, 0.017873323220771908, 0.01830561219117044]\n",
            "1\n",
            "Shape of context ids =  (8, 28, 50)\n",
            "Shape of generated embeddings =  (8, 26, 1024)\n",
            "[0.0012350203461210184, 0.00042739683976833476, 0.004492309115273831, 0.009414756777346156, 0.008642695970885532, 0.006715820039431719, 0.010121115305660911, -0.0010675526810028184]\n",
            "1\n",
            "Shape of context ids =  (42, 28, 50)\n",
            "Shape of generated embeddings =  (42, 26, 1024)\n",
            "[0.013994042842796262, -0.0034822079842610145, 0.006555171428961633, 0.012224306155318724, -0.0019253744750216129, -0.00047855588784865465, -0.004517915913311299, 0.004189920934819432, 0.002446775824272376, 0.012271457798514499, 0.005478293949954605, 0.007565837818674481, 0.003996559157428692, 0.004460630264107889, 0.0020889863711447887, 0.010557289086455058, -0.0010773901522043161, 0.014830270859010852, 0.0038065576056743296, -0.0023244080170905746, 0.0019146143004560984, 0.005878817774665939, 0.010714942878096805, 0.0031737649751354033, 0.006601283902853083, 0.0100234257385538, 0.008721352066743293, 0.009715919955518378, 0.008942228384427153, 0.009461962003342705, 0.004972419992327559, 0.008901331501070113, -0.0021946987128709833, -0.004268989474288294, 0.009346774470714081, 0.006245051147947092, 0.017720768120648246, 0.0037590460618730503, -0.007350678783647406, -0.001732478626718148, 0.0010738796014980575, 0.003087076406397197]\n",
            "1\n",
            "Shape of context ids =  (30, 42, 50)\n",
            "Shape of generated embeddings =  (30, 40, 1024)\n",
            "[0.010185272673364427, 0.0068881671226866574, 0.004363842308331793, 0.007755350082839464, 0.0071832632834002656, -0.0012921905625944419, 0.0039014624661774635, 0.01035309235612658, 0.0024515390676266464, 0.0013936916742143997, -0.0009949960425288396, 0.014743402674949639, 0.00384248952186681, -0.005639625242143406, -0.005151214370226416, 0.0005992205716199207, 0.005680836173976584, 0.0031483493427104906, 0.013686218550674312, 0.0009822207952993266, -0.004689701769801029, 0.01069284248472156, -0.0027190484059380245, -0.00035841073689977875, 0.0019501145939539828, -0.0018249392294080735, 0.004909630531827247, 0.006235941187310345, 0.003717777243821274, 0.007590409935498125]\n",
            "1\n",
            "Shape of context ids =  (11, 31, 50)\n",
            "Shape of generated embeddings =  (11, 29, 1024)\n",
            "[0.014305445187683917, 0.008356069858574183, 0.0038980687357081933, 0.0021349558808521707, 0.004779020525502021, -0.010183199256417197, 0.0017211048898010024, 0.000523336066369969, 0.004991707772262544, 0.0127547180345573, 0.0127547180345573]\n",
            "0\n",
            "Shape of context ids =  (23, 26, 50)\n",
            "Shape of generated embeddings =  (23, 24, 1024)\n",
            "[0.025322004711483714, 0.0142254209506117, 0.014744220894272075, 0.003701825355165056, -0.00209005779773482, 0.014744052225935889, -0.0007554302345372182, -0.010804253631249594, 0.005690582894203544, 0.0010544035656797253, 0.0022429629597354507, 0.004359759098974791, 0.010403645675689238, 0.009525619331218248, 0.004310610342336555, -6.362655594784882e-05, 0.011526477951183741, 0.01514238287543441, 0.005139646678799181, 0.019424549620895817, -0.007452381673380459, 0.00875171116670117, 0.006978177261987041]\n",
            "1\n",
            "Shape of context ids =  (21, 51, 50)\n",
            "Shape of generated embeddings =  (21, 49, 1024)\n",
            "[-0.001038586029188323, -0.0053117496367273516, -0.0006679378174073369, 0.006498458094107207, 0.004168537156415782, 0.01365724814674094, -0.0016869559489781462, 0.0020758341991209076, -0.0036632345590533076, 0.005999154691415281, -0.0017960499560684992, 0.000291482297591626, 0.003885625050821141, -0.008586205831037811, 0.0017962650206093465, -0.0018579558953164947, 0.003558279768185457, -0.004456306654133462, -0.00037172566768125154, 0.011216503444620685, -0.0054514069674951315]\n",
            "1\n",
            "Shape of context ids =  (52, 37, 50)\n",
            "Shape of generated embeddings =  (52, 35, 1024)\n",
            "[0.0042905374268149684, -0.007185071057442063, -0.0031161931967034207, -0.0007282808519448736, 0.007119859556971939, 0.0015489256262788752, 0.0015323320390052686, -0.0019133068086224132, -0.006646987575910164, 0.009250603615591421, -0.004937165350889731, -0.007354223060914933, 0.007798183834358283, -0.0009087757614603712, 0.0070748639903399635, -0.005778365647654482, -0.00020881470045424065, -0.0021908092162715655, 0.0025099352704775024, -0.0001034279690169829, 0.0017763836714645247, -0.005763471738418957, 0.00485284198160488, -0.00784369282804288, 0.0005409789486789537, 0.00224729816324043, -0.0001254972767602188, -0.0034793846249101534, 0.011253781350840578, -0.004701740229873914, 0.0037682740791448546, 0.0010258589539262175, 0.007424005264923787, -0.0027947328772926186, -0.0014301462651928887, 0.009519801186999959, -0.004766521178349675, -0.0015133619815514976, -0.011236106466024949, 0.0032454858217079163, 0.0012583557931558668, 0.00033815174430473186, -0.003942643177060745, -0.0033250382028232445, 0.01044314364192663, -0.012768039349534124, 0.004545518248202522, 0.0014705015414619993, 0.010330160472416796, -0.0007271456743970143, 0.01646538239251072, 0.007931262446845722]\n",
            "1\n",
            "Shape of context ids =  (43, 71, 50)\n",
            "Shape of generated embeddings =  (43, 69, 1024)\n",
            "[-0.006424739600679122, -0.008534575971514807, -0.006030101317600897, -0.00237758393648489, 0.008044650708985928, -0.004801683860137018, 0.000399214849130658, 0.005127891609153385, -0.000321478885570059, 0.00722590891928121, -0.00033745948040480775, -0.005667173303400184, 0.0007037608665469903, 0.012418348061916933, 0.005942521709407891, 0.00966926536725623, 0.003237813705775731, 0.032772699422063546, 0.000580470153085326, -0.006275857601329855, -0.010784208076944423, -0.003259722020246489, -0.004862403343602874, -0.008085722460004078, -0.011497467121103, 0.001525120068537136, 0.01711265875240185, 0.005673752382645861, -0.01046866669253177, -0.00037480915718581605, -0.005125825423689321, -0.009875668508923734, -0.0006773058831942327, 0.0010289441656444371, 0.011710026928710704, -0.007979373549187586, -0.0014608274804383352, 0.004425103167477573, -0.012739193789044471, -0.0033307193938505657, -0.002038983512041644, 0.017698107899983977, 0.026450635411139147]\n",
            "1\n",
            "Shape of context ids =  (57, 40, 50)\n",
            "Shape of generated embeddings =  (57, 38, 1024)\n",
            "[-0.012749863758792591, -0.007853117903831237, -0.012668166006153177, 0.005660516678290151, -0.005838422418264599, -0.003033130369132664, -0.008076158127266808, 0.0015321710788308944, -0.0009123124996222032, -0.0035308626207921634, -0.006792890244014416, -0.007082972190033843, -0.003703694058132104, -0.012703237440314296, -0.0003602338424641971, -0.003005599270265616, -0.0021618032663917276, -0.007361769024311115, 0.006060006464896764, 0.002777146345692927, -0.012205208226153749, -0.001277930348494824, -0.005482203781145378, -0.0013758532195652152, -0.011435986589309064, -0.002293225500778817, 0.008505266925908472, -0.011855166416201731, -0.010848715960563027, -0.010291347964449702, -0.009659811051408593, -0.0006152461502525137, 0.000925950836631273, 0.003138235031838121, -0.008908272851779959, 0.021248554184921886, 0.018632573277386655, -0.005704879522090778, 0.01846523510115124, 0.01924625320791762, 0.0061952148515634535, 0.013169855547459974, -9.750841887681518e-05, 0.0038387546900470293, 0.0027790892788847154, 0.0261543735861042, -0.0019252302571476322, 0.021693025942028044, 0.014818588311332601, 0.008099567784698693, 0.010918977905134852, -0.000477949230980812, 0.015041490113844702, -0.003882754844350226, -0.0029667981313536984, 0.00012169226459946003, -0.0027589884946337406]\n",
            "1\n",
            "Shape of context ids =  (11, 42, 50)\n",
            "Shape of generated embeddings =  (11, 40, 1024)\n",
            "[0.003087228428105012, 0.015529635824975685, -0.003140748740943779, -0.006965293026853813, -0.00472162304606627, -0.010608726565423192, 0.0009651676380258323, 0.0032747436956469755, -0.0043155064796494, 0.009992304822197604, 0.015113451516072018]\n",
            "1\n",
            "Shape of context ids =  (2, 32, 50)\n",
            "Shape of generated embeddings =  (2, 30, 1024)\n",
            "[-0.00967478011908535, -0.006527491032394058]\n",
            "1\n",
            "Shape of context ids =  (30, 29, 50)\n",
            "Shape of generated embeddings =  (30, 27, 1024)\n",
            "[0.015439307872043173, 0.0055310477569037175, 0.005857203135936591, 0.010260384446922899, 0.001322842750403197, 0.004504144442535107, 0.0022797167780481686, 0.004079734498342684, 0.02085466981569084, 0.011986323523175694, -0.008708840023599704, 0.0063435393650479455, -0.005256288501630024, -0.009531590433068362, 0.004242587757602223, 0.006930033061387482, 0.004650654629926976, 0.005542768950192567, 0.0025702718611368114, -0.007024781464547526, 0.009679838751656627, 0.007820212698381587, -0.0031763556354462708, 0.006451735654149037, 0.013927641709180705, 0.012788639144355329, 0.0034763576870299553, 0.010241094201319356, -0.0054121681845629155, 0.0034197949807397285]\n",
            "1\n",
            "Shape of context ids =  (14, 37, 50)\n",
            "Shape of generated embeddings =  (14, 35, 1024)\n",
            "[0.009813992116606742, 0.009867119246602366, 0.003933528030089898, 0.0038724352641644334, 0.014968255696976485, 0.009344338363746374, 0.0008811763312353703, 0.0010942992236209648, 0.007449007599504398, -0.0017623135918094185, -0.0011594181550890425, -0.0008147304519980026, 0.005922695479106161, -4.8148747130956813e-05]\n",
            "0\n",
            "Shape of context ids =  (7, 27, 50)\n",
            "Shape of generated embeddings =  (7, 25, 1024)\n",
            "[0.01837943075406656, 0.00741729916233453, 0.013246719104320922, -0.0012680285306032602, -0.0015300835532668447, -0.006252554367797024, 0.006490499715937403]\n",
            "0\n",
            "Shape of context ids =  (13, 35, 50)\n",
            "Shape of generated embeddings =  (13, 33, 1024)\n",
            "[-0.0006981893512261195, -0.006147405323186916, -0.009028328547780498, -0.006722778797106562, -0.004944053967506079, -0.002364623648637035, -0.0016675973015708224, 0.008508423449567008, 0.004889566695593809, 0.0036750468880705333, 0.008439677416617997, 0.009519001507044322, 0.015160349308278651]\n",
            "0\n",
            "Shape of context ids =  (36, 33, 50)\n",
            "Shape of generated embeddings =  (36, 31, 1024)\n",
            "[0.0008232132750549681, -0.010981528197930857, 0.002605697590304183, 0.0037106114884358655, -0.00022501068675381014, 0.0011011414736306808, 0.0011838995999874492, 0.004244751820806414, -0.003309399419587559, 0.00280163164955846, 0.0007296296718758791, 0.00018697662926570047, -0.009880308415967707, -0.00827265737678737, -0.008939329433061223, 0.001961488173676463, -0.004055267057538003, -0.0051433661296111195, 0.002769410941558211, 0.003935111676355518, 0.0037888425549681415, -0.009444013855741673, -0.009358484706768543, -0.015214162966709811, -0.004491609455594414, -0.0014649491630109423, -0.0026922711337596817, -0.009775028212125392, -0.006613190013824521, -0.009775963163811715, 0.007093290927449354, -0.003391386462283208, 0.008120892561540435, 0.013671439604763691, 0.003177064454803258, 0.004361057968383518]\n",
            "0\n",
            "Shape of context ids =  (79, 32, 50)\n",
            "Shape of generated embeddings =  (79, 30, 1024)\n",
            "[-0.002297661065540524, 0.003739490866678352, 0.014289015519898385, 0.014959588349420806, 0.011992742636400234, 0.0009556472774079339, 0.004161385703355336, -0.006283086806623335, 0.0034471863848921204, 0.00933045087577378, -0.002519360330188647, -0.0015408549088078872, 0.019592040157746737, 0.009141149144200729, 0.0029690249779529645, 0.017212986250039346, 0.020159129351236517, 0.0165799385746368, 0.004518419056729237, 0.004777980410532716, -0.0007488493096730053, 0.012924420198519979, 0.010685718753961737, 0.00400820176258397, -0.0030641808002656035, -0.00925414976915009, 0.01010032297062935, 0.011671714121828498, 0.015009040072341535, 0.01259766314904352, 0.021580529998876347, 0.004671531137370536, 0.011617334559938778, 0.019322244389678646, -0.0021184069908599668, -0.0005634281989286036, 0.006166699024992466, 0.004641979375810479, 0.006934418011689139, -0.003412781685126122, -0.004379733506175399, -0.004866552064413554, -0.001381493639587461, -0.015372468176161015, 0.00831903235782845, -0.004332032260170611, 0.017164775398441634, -0.005282759849179504, -0.00289989752697092, 0.020061197427691826, 0.004659119324151107, 0.01332158830427943, -0.002297661065540524, 0.003739490866678352, 0.014289015519898385, 0.014959588349420806, 0.011992742636400234, 0.0009556472774079339, 0.004161385703355336, -0.006283086806623335, 0.0034471863848921204, 0.00933045087577378, -0.002519360330188647, -0.0015408549088078872, 0.019592040157746737, 0.009141149144200729, 0.0029690249779529645, 0.017212986250039346, 0.020159129351236517, 0.0165799385746368, 0.004518419056729237, 0.004777980410532716, -0.0007488493096730053, 0.012924420198519979, 0.010685718753961737, 0.00400820176258397, -0.0030641808002656035, -0.00925414976915009, 0.010100326012517062]\n",
            "1\n",
            "Shape of context ids =  (75, 44, 50)\n",
            "Shape of generated embeddings =  (75, 42, 1024)\n",
            "[-0.0012875352069063172, 0.0036709687876737007, -0.003530202113931106, 0.0015439590334748433, 0.0003313432523807731, 0.0017455786912880565, 0.0024592930327390727, -0.012439071835680287, 0.002873524590341958, -0.0022295961921579214, 0.0004002496055329135, 0.0009893668384186392, -0.0049459927933639845, 0.003569300589510426, 0.009197814374412397, 0.001978107614272281, 0.011812845690035994, 0.007260568027690121, 0.009904657709231449, 0.005871489389632719, 0.010906320275274503, 0.009684493820183585, -0.0075049471619056535, 0.004066999756302816, 0.004689772726521824, -0.0010364953748194239, 0.0006681314944704095, -0.0013305203467758196, -0.0014272086921769114, -0.0026186473094834844, 0.0012441795333603188, 0.002671066446484676, 0.002231216784147299, 0.004533103153050888, -0.0021697029368667807, 0.011559343669465047, 0.011390348920618484, 0.006829765757828454, 0.005292381065162642, 0.007816940319663956, -0.005923920409705781, 0.0024705630748182252, 0.00656653475905955, 0.0048621984004739716, 0.006295836879667149, 0.003013990432033384, -7.75760612982811e-05, -0.005126850308096479, -0.0042193561278907055, -0.0004535723420693622, 0.011007796243416124, -0.011551248912289392, -0.0012875352069063172, 0.0036709687876737007, -0.003530202113931106, 0.0015439590334748433, 0.0003313432523807731, 0.0017455786912880565, 0.0024592930327390727, -0.012439071835680287, 0.002873524590341958, -0.0022295961921579214, 0.0004002496055329135, 0.0009893668384186392, -0.0049459927933639845, 0.003569300589510426, 0.009197814374412397, 0.001978107614272281, 0.011812845690035994, 0.007260568027690121, 0.009904657709231449, 0.005871489389632719, 0.010906316254009268, 0.009684493018729276, -0.007504949023904728]\n",
            "1\n",
            "Shape of context ids =  (108, 34, 50)\n",
            "Shape of generated embeddings =  (108, 32, 1024)\n",
            "[0.017108755247147656, 0.009682319023860535, -0.0024968851390667623, 0.010899403666459105, -0.0009373884289079878, 0.02719743932083121, 0.007800423357336608, 0.0010655788107136743, -0.0003109228211185057, 0.001642383188311669, 0.001699149416501606, 0.011127975346865545, 0.006475381995839954, -0.00764800746950161, -0.0009355038756828955, 0.010242106788098226, 0.002798515153244807, 0.0036701211891643957, 0.015565516677611413, 0.008170579302535381, 0.008389765616143182, 0.011655836223659814, 0.00769453783774073, 0.010230833856818814, -0.003972810139185867, -0.0031225713340063523, 0.011004532883378357, -0.004969701509790783, 0.02008583726515667, 0.013111583882511312, 0.0013936043265110648, 0.009387546864324274, 0.006774547122337454, 0.0056083065753889305, 0.008034258377708485, -0.0027350232078030483, 0.010968631145608754, -0.0013775261908032614, 0.003740201313675584, 0.016461309270591137, -0.0034674313390657594, 0.001979364579142384, 0.01461538712611234, -0.007783469606249215, -0.005450702951288615, -0.0032341766292538487, 0.003496394596788338, -0.0042152886950993385, 0.0033753017897690065, 0.011664754518702027, 0.007854133211977747, -0.009964310380610186, 0.005973649157870871, 0.0016117711223507607, 0.0015843028002936162, 0.007415412435761937, -0.00663026857788199, -0.005375273601105489, -0.0013493825863974962, 0.011373635327627578, 0.007454171412859978, -0.0049396459045662295, -0.004429655837805057, -0.004966350884814119, 0.017108755247147656, 0.009682319023860535, -0.0024968851390667623, 0.010899403666459105, -0.0009373884289079878, 0.02719743932083121, 0.007800423357336608, 0.0010655788107136743, -0.0003109228211185057, 0.001642383188311669, 0.001699149416501606, 0.011127975346865545, 0.006475381995839954, -0.00764800746950161, -0.0009355038756828955, 0.010242106788098226, 0.002798515153244807, 0.0036701211891643957, 0.015565516677611413, 0.008170579302535381, 0.008389765616143182, 0.011655836223659814, 0.00769453783774073, 0.010230833856818814, -0.003972810139185867, -0.0031225713340063523, 0.011004532883378357, -0.004969701509790783, 0.02008583726515667, 0.013111583882511312, 0.0013936043265110648, 0.009387546864324274, 0.006774547122337454, 0.0056083065753889305, 0.008034258377708485, -0.0027350232078030483, 0.010968631145608754, -0.0013775261908032614, 0.003740201313675584, 0.016461309270591137, -0.0034674313390657594, 0.001979364579142384, 0.01461538712611234, -0.007783469606249215]\n",
            "1\n",
            "Shape of context ids =  (98, 33, 50)\n",
            "Shape of generated embeddings =  (98, 31, 1024)\n",
            "[-0.02150055747837314, -0.011177071197986757, -0.017151491983668166, -0.00918014180186739, -0.013941667476501607, -0.016237961884186802, 0.004832670412042717, -0.003448002085292501, -0.00963457053947628, 0.0053844810630228794, -0.005860226710612753, -0.0018949053882124645, 0.0006341486141195673, -0.022229769240766473, 0.0030927212686947315, -0.002822686799315003, -0.023185710077740396, -0.0029662875585851605, -0.00034274591928351583, 0.0002716253637061072, 0.015344198394132036, -0.01120837469647995, -0.009857951961180333, -0.01835132899584226, -0.012829937056858398, 0.017828021288096352, -0.009409730712661712, -0.009169188659415262, -0.0034103855318505794, -0.003678211537496335, -0.015782277003078587, -0.016205480188023102, -0.006014939458461748, -0.00509704625591511, -0.015458349829649316, 0.0009956966732715955, -0.007108249628092583, -0.0004431777435153587, -0.01269438726846643, -0.008518184616877988, 0.007474365398593363, -0.013356288869204036, -0.00851910410756318, -0.015129090390875998, -0.007335141824205494, -0.008598343707035383, -0.012617663444708731, 0.017869708479565816, -0.020226737398085486, -0.011572108824438487, -0.014123104762254169, -0.007839797998637247, -0.008421842207705291, -0.0022043024087176825, -0.02150055747837314, -0.011177071197986757, -0.017151491983668166, -0.00918014180186739, -0.013941667476501607, -0.016237961884186802, 0.004832670412042717, -0.003448002085292501, -0.00963457053947628, 0.0053844810630228794, -0.005860226710612753, -0.0018949053882124645, 0.0006341486141195673, -0.022229769240766473, 0.0030927212686947315, -0.002822686799315003, -0.023185710077740396, -0.0029662875585851605, -0.00034274591928351583, 0.0002716253637061072, 0.015344198394132036, -0.01120837469647995, -0.009857951961180333, -0.01835132899584226, -0.012829937056858398, 0.017828021288096352, -0.009409730712661712, -0.009169188659415262, -0.0034103855318505794, -0.003678211537496335, -0.015782277003078587, -0.016205480188023102, -0.006014939458461748, -0.00509704625591511, -0.015458349829649316, 0.0009956966732715955, -0.007108249628092583, -0.0004431777435153587, -0.01269438726846643, -0.008518184616877988, 0.007474365398593363, -0.013356288869204036, -0.008519109985797968, -0.015129087559216714]\n",
            "1\n",
            "Shape of context ids =  (8, 24, 50)\n",
            "Shape of generated embeddings =  (8, 22, 1024)\n",
            "[0.007385440836287671, 0.009782518866044636, 0.023628896066709006, 0.0037994687981317554, 0.0008157953854798996, 0.019208451554711493, 0.0040995221845984515, 0.008808583550512594]\n",
            "0\n",
            "Shape of context ids =  (14, 33, 50)\n",
            "Shape of generated embeddings =  (14, 31, 1024)\n",
            "[-0.00138621876092202, -0.005787937431905448, -0.007227368829373404, -0.002337760442759855, 0.0013334178511286154, -0.01296598759043377, 0.008236471915125776, -0.0031221584299775994, -0.004603705268962699, -0.0025727714986420753, 0.0028934287477113685, 0.009123060227693713, -0.003553509527826293, -0.0010119251167131605]\n",
            "0\n",
            "Shape of context ids =  (11, 29, 50)\n",
            "Shape of generated embeddings =  (11, 27, 1024)\n",
            "[0.0005909264252455547, 0.006073393653357821, -0.007015836649372886, -0.0014521926570978394, -0.0074653221388292995, 0.009526342367030339, 0.005406862784238911, 0.005533171704329513, 0.006520017409400225, -0.000993342285073595, 0.006260602430529616]\n",
            "1\n",
            "Shape of context ids =  (12, 25, 50)\n",
            "Shape of generated embeddings =  (12, 23, 1024)\n",
            "[0.007496356943124738, 2.6586559540321885e-05, 0.02472886421383334, 0.014633483447665718, 0.002214371625396697, -0.002026658757510328, -0.0033893320517108805, 0.00014162627574876296, 0.004991707772262544, 0.0127547180345573, -0.0006308746486121726, 0.0127547180345573]\n",
            "0\n",
            "Shape of context ids =  (5, 33, 50)\n",
            "Shape of generated embeddings =  (5, 31, 1024)\n",
            "[0.004553198464009256, 0.015040529053418471, -0.0013562722729477995, -0.007205419172457539, 0.006147412969456431]\n",
            "0\n",
            "Shape of context ids =  (12, 41, 50)\n",
            "Shape of generated embeddings =  (12, 39, 1024)\n",
            "[0.0031289741933423184, 0.007981023571687729, 0.005477111465075688, 0.0015250926904497777, 0.0015358688245950838, 0.010657958844717541, 0.005232920996741086, 0.00831712577410144, -0.003742469483389262, 0.00849802299288361, 0.010280335698610088, 0.004401627199180998]\n",
            "1\n",
            "[['writing', 'this', 'article', 'for', 'audience', 'consisting', 'all', 'good', 'people', 'who', 'like', 'myself', 'sincerely', 'want', 'more', 'equal', 'and', 'democratic', 'society', 'and', 'who', 'unlike', 'myself', 'achieve', 'this', 'goal', 'look', 'for', 'leadership', 'from', 'prominent', 'individuals', 'and', 'organizations', 'that', 'seem', 'share', 'this', 'goal'], ['most', 'these', 'leaders', 'are', 'commonly', 'identified', 'either', 'left', 'progressive', 'liberal', 'marxist'], ['this', 'article', 'will', 'refer', 'all', 'these', 'prominent', 'leaders', 'left'], ['according', 'standard', 'wisdom', 'left', 'providing', 'good', 'leadership', 'achieve', 'more', 'equal', 'and', 'democratic', 'society', 'and', 'problem', 'that', 'not', 'enough', 'people', 'follow', 'this', 'leadership', 'and', 'enemies', 'left', 'led', 'what', 'call', 'ruling', 'class', 'remain', 'power'], ['problem', 'this', 'mistaken', 'view', 'that', 'left', 'weak'], ['what', 'will', 'show', 'that', 'contrary', 'problem', 'for', 'those', 'who', 'want', 'more', 'equal', 'and', 'democratic', 'society', 'that', 'that', 'left', 'wrong'], ['what', 'mean'], ['left', 'wrong', 'its', 'fundamental', 'view', 'ordinary', 'people', 'and', 'because', 'this', 'wrong', 'view', 'ruling', 'class', 'able', 'use', 'left', 'divide', 'and', 'rule', 'good', 'people'], ['lets', 'start', 'seeing', 'whats', 'wrong', 'with', 'lefts', 'view', 'ordinary', 'people'], ['lefts', 'wrong', 'view', 'ordinary', 'people'], ['before', 'discussing', 'lefts', 'wrong', 'view', 'helps', 'say', 'what', 'truth', 'about', 'ordinary', 'people'], ['truth', 'that', 'vast', 'majority', 'ordinary', 'people', 'world', 'and', 'united', 'states', 'well', 'want', 'society', 'based', 'positive', 'values', 'concern', 'for', 'one', 'another', 'opposed', 'dogeatdog', 'competition', 'mutual', 'aid', 'opposed', 'some', 'people', 'taking', 'unfair', 'advantage', 'others', 'and', 'equality', 'sense', 'having', 'rich', 'and', 'poor', 'and', 'sense', 'ordinary', 'people', 'rather', 'than', 'privileged', 'and', 'selfserving', 'elite', 'having', 'real', 'say', 'social', 'decisions'], ['this', 'why', 'ordinary', 'people', 'are', 'solution', 'not', 'problem', 'today'], ['left', 'disagrees'], ['left', 'views', 'majority', 'ordinary', 'people', 'problem', 'not', 'solution', 'because', 'their', 'supposed', 'values', 'are', 'problem', 'selfishness', 'and', 'greed', 'racism', 'sexism', 'homophobia', 'transphobia', 'and', 'list', 'grows', 'all', 'time'], ['left', 'believes', 'that', 'certain', 'subsets', 'ordinary', 'people', 'people', 'color', 'nonheterosexuals', 'transgender', 'people', 'etc'], ['are', 'oppressed', 'ordinary', 'people', 'who', 'are', 'different'], ['solution', 'this', 'leftist', 'view', 'persuade', 'oppressive', 'ordinary', 'people', 'change', 'their', 'ugly', 'ways', 'and', 'values'], ['marxist', 'left', 'which', 'have', 'written', 'about'], ['idea', 'that', 'values', 'vast', 'majority', 'ordinary', 'people', 'are', 'solution', 'not', 'problemthat', 'they', 'are', 'values', 'that', 'ought', 'shape', 'society', 'and', 'are', 'opposite', 'terrible', 'values', 'ruling', 'classis', 'truthful', 'idea', 'that', 'will', 'enable', 'good', 'people', 'succeed', 'building', 'huge', 'popular', 'movement', 'make', 'society', 'genuinely', 'equal', 'and', 'democratic'], ['wonderful', 'entire', 'book', 'about', 'this', 'online'], ['perhaps', 'you', 'dear', 'reader', 'think', 'this', 'idea', 'false'], ['please', 'read'], ['consider', 'this', 'please'], ['ordinary', 'people', 'were', 'selfish', 'and', 'vile', 'left', 'claims', 'then', 'our', 'world', 'would', 'infinitely', 'more', 'horrible', 'than', 'actually', 'with', 'everybody', 'stabbing', 'each', 'other', 'back', 'and', 'nobody', 'giving', 'damn', 'about', 'anybody', 'else'], ['this', 'kind', 'world', 'that', 'would', 'bea', 'veritable', 'hellish', 'nightmare', 'worldif', 'disgusting', 'selfish', 'competitive', 'values', 'ruling', 'class', 'were', 'also', 'those', 'everybody', 'else'], ['fact', 'that', 'our', 'world', 'not', 'this', 'hellish', 'nightmare', 'but', 'one', 'which', 'most', 'people', 'cooperate', 'and', 'help', 'each', 'other', 'and', 'respect', 'one', 'another', 'equals', 'countless', 'ways', 'that', 'take', 'much', 'for', 'granted', 'that', 'dont', 'think', 'about', 'them', 'even', 'notice', 'them', 'this', 'fact', 'has', 'huge', 'significance', 'shows', 'that', 'most', 'ordinary', 'people', 'are', 'positive', 'force', 'world', 'force', 'that', 'challenges', 'capitalist', 'values', 'and', 'that', 'ought', 'shape', 'all', 'society'], ['how', 'ruling', 'class', 'uses', 'left', 'divide', 'and', 'rule'], ['have', 'written', 'whole'], ['heres', 'how', 'ruling', 'class', 'uses', 'left', 'for', 'divideandrule'], ['ruling', 'class', 'takes', 'invents', 'hot', 'button', 'potentially', 'very', 'divisive', 'social', 'issue', 'and', 'with', 'its', 'control', 'mainstream', 'and', 'alternative'], ['media', 'imposes', 'very', 'particular', 'framework', 'public', 'debate', 'about', 'issue'], ['framework', 'designed', 'maximally', 'divisive'], ['framework', 'made', 'maximally', 'divisive', 'defining', 'two', 'opposing', 'views', 'call', 'them', 'camps', 'way', 'that', 'ensures', 'that', 'people', 'each', 'campwhen', 'they', 'hear', 'about', 'opposing', 'campwill', 'view', 'members', 'opposing', 'camp', 'with', 'utter', 'contempt', 'and', 'possibly', 'fear'], ['ruling', 'class', 'does', 'this', 'providing', 'each', 'camps', 'position', 'with', 'arguments', 'designed', 'maximally', 'offensive', 'other', 'camp', 'and', 'censoring', 'facts', 'that', 'known', 'would', 'cause', 'people', 'opposing', 'camps', 'see', 'that', 'they', 'had', 'far', 'more', 'agreement', 'with', 'each', 'other', 'than', 'they', 'otherwise', 'would', 'realize', 'and', 'that', 'concerns', 'opposing', 'camp', 'were', 'quite', 'reasonable', 'instead', 'deplorable', 'even', 'they', 'still', 'disagreed'], ['here', 'are', 'some', 'examples', 'how', 'ruling', 'class', 'uses', 'left', 'make', 'this', 'work'], ['truth', 'that', 'ruling', 'class', 'for', 'centuries', 'has', 'systematically', 'discriminated', 'against', 'people', 'not', 'european', 'descent', 'whites', 'and', 'ruling', 'class', 'did', 'this', 'order', 'more', 'effectively', 'dominate', 'control', 'and', 'oppress', 'working', 'class', 'people', 'all', 'races'], ['early', 'british', 'big', 'property', 'owners', 'virginia', 'colony', 'instituted', 'slavery', 'based', 'race', 'because', 'they', 'feared', 'that', 'otherwise', 'there', 'would', 'more', 'rebellions', 'working', 'class', 'laborers', 'tobacco', 'plantations', 'both', 'african', 'and', 'european', 'descent', 'united', 'regardless', 'race', 'happened', 'bacons', 'rebellion', 'rebellion', 'that', 'almost', 'overthrew', 'british', 'ruling', 'elite'], ['read', 'more', 'about', 'this'], ['truth', 'that', 'when', 'ruling', 'class', 'singles', 'out', 'some', 'working', 'class', 'people', 'for', 'harsher', 'treatment', 'than', 'others', 'for', 'purpose', 'creating', 'mutual', 'mistrust', 'resentment', 'and', 'fear', 'between', 'those', 'singled', 'out', 'for', 'special', 'discrimination', 'and', 'others'], ['thus', 'racist', 'jim', 'crow', 'laws', 'south', 'not', 'only', 'harmed', 'blacks', 'they', 'also', 'harmed', 'poor', 'whites', 'whose', 'wages', 'were', 'lower', 'than', 'white', 'wages', 'north', 'because', 'jim', 'crow', 'prevented', 'them', 'from', 'having', 'strong', 'integrated', 'unions', 'and', 'diverted', 'their', 'anger', 'blacks', 'instead', 'wealthy', 'whites', 'who', 'oppressed', 'them'], ['truth', 'that', 'among', 'working', 'class', 'people', 'injury', 'one', 'injury', 'all'], ['but', 'left', 'disagrees'], ['left', 'asserts', 'exactly', 'what', 'ruling', 'class', 'also', 'asserts', 'that', 'racial', 'discrimination', 'against', 'nonwhites', 'benefits', 'white', 'working', 'class', 'people'], ['ruling', 'class', 'asserted', 'that', 'slavery', 'and', 'jim', 'crow', 'benefited', 'poor', 'whites', 'and', 'left', 'chimes', 'right', 'asserting', 'that', 'white', 'working', 'class', 'people', 'enjoy', 'white', 'privilege', 'word', 'privilege', 'means', 'definition', 'benefit'], ['left', 'never', 'says', 'that', 'racial', 'discrimination', 'against', 'nonwhites', 'also', 'harms', 'white', 'working', 'class', 'people'], ['ruling', 'class', 'promotes', 'with', 'its', 'foundations', 'use', 'white', 'privilege', 'rhetoric', 'show', 'great', 'detail'], ['earlier', 'ruling', 'class', 'promoted', 'affirmative', 'action', 'divide', 'and', 'rule', 'along', 'race', 'lines', 'discuss', 'more', 'detail'], ['ruling', 'class', 'hijacked', 'traditional', 'feminist', 'movement', 'that', 'strove', 'for', 'equality', 'men', 'and', 'women', 'under', 'law', 'and', 'workplace', 'and', 'replaced', 'its', 'leadership', 'with', 'new', 'breed', 'radical', 'feminists', 'who', 'asserted', 'that', 'our', 'society', 'was', 'one', 'which', 'menall', 'men', 'virtue', 'being', 'malewere', 'oppressor', 'class', 'oppressing', 'all', 'women', 'that', 'men', 'other', 'words', 'were', 'enemythe', 'patriarchy'], ['ruling', 'class', 'defined', 'being', 'progressive', 'feminist', 'subscribing', 'this', 'men', 'are', 'enemy', 'belief'], ['was', 'pure', 'divideandrule'], ['discuss', 'this', 'some', 'length', 'article'], ['samesex', 'marriage'], ['believe', 'not', 'there', 'position', 'samesex', 'marriage', 'that', 'would', 'agreeable', 'most', 'people', 'pro', 'samesex', 'marriage', 'camp', 'and', 'also', 'most', 'people', 'antisamesex', 'marriage', 'camp'], ['write', 'about', 'this', 'position'], ['discuss', 'some', 'detail'], ['muslim', 'refugees'], ['key', 'fact', 'ruling', 'class', 'discuss', 'detail'], ['key', 'fact', 'ruling', 'class', 'for', 'long', 'time', 'has', 'been', 'forcing', 'large', 'numbers', 'ordinary', 'people', 'mexico', 'and', 'central', 'america', 'migrate', 'united', 'states', 'illegally', 'discuss'], ['while', 'ruling', 'class', 'and', 'its', 'rightwing', 'radio', 'talk', 'show', 'hosts', 'exaggerate', 'harm', 'american', 'citizens', 'caused', 'massive', 'illegal', 'immigration', 'there', 'are', 'fact', 'ways', 'that', 'this', 'massive', 'influx', 'people', 'either', 'directly', 'causesor', 'used', 'pretext', 'ruling', 'class', 'causeharm', 'working', 'class', 'american', 'citizens'], ['left', 'ignores', 'this', 'fact', 'also', 'discussed', 'linked', 'article', 'above', 'and', 'simply', 'accuses', 'anybody', 'who', 'supports', 'deporting', 'illegal', 'immigrants', 'being', 'motivated', 'racism', 'selfishness'], ['this', 'exactly', 'what', 'ruling', 'class', 'needs', 'make', 'its', 'divideandrule', 'strategy', 'work'], ['transgender', 'bathrooms'], ['key', 'fact', 'most', 'states', 'including', 'north', 'carolina', 'with', 'its', 'infamous', 'law', 'person', 'can', 'have', 'gender', 'their', 'birth', 'certificate', 'changed', 'simply', 'providing', 'documentation', 'that', 'they', 'had', 'sexchange', 'surgery'], ['discuss', 'some', 'detail'], ['ruling', 'classimposed', 'framework', 'for', 'debating', 'support', 'for', 'israel', 'this', 'one', 'camp', 'not', 'antisemitic', 'and', 'therefore', 'supports', 'israel', 'and', 'opposing', 'camp', 'antisemitic', 'and', 'therefore', 'does', 'not', 'support', 'israel'], ['have', 'written', 'detail'], ['argument', 'that', 'many', 'left', 'use', 'and', 'which', 'perceived', 'antisemitic', 'this', 'israel', 'lobby', 'controls', 'american', 'ruling', 'class', 'effectively', 'that', 'forces', 'americas', 'rulers', 'against', 'their', 'will', 'against', 'their', 'own', 'our', 'own', 'national', 'interest', 'and', 'support', 'israel'], ['this', 'theory', 'often', 'known', 'tail', 'wags', 'dog', 'israeli', 'tail', 'wags', 'united', 'states', 'dog', 'and', 'its', 'proponents', 'use', 'phrases', 'such', 'congress', 'israelioccupied', 'territory'], ['discuss', 'article', 'linked', 'above', 'tail', 'wags', 'dog', 'theory', 'factually', 'wrong', 'and', 'able', 'derive', 'credibility', 'with', 'difficulty', 'since', 'people', 'know', 'that', 'tails', 'dont', 'wag', 'dogs', 'only', 'from', 'antisemitic', 'canard', 'that', 'jews', 'have', 'some', 'mysterious', 'power', 'control', 'nonjews', 'idea', 'famously', 'espoused', 'fraudulent', 'and', 'infamous', 'document', 'named', 'protocols', 'elders', 'zion'], ['result', 'lefts', 'role', 'debate', 'about', 'israel', 'that', 'false', 'framework', 'that', 'its', 'antisemites', 'versus', 'nonantisemites', 'remains', 'reinforced', 'left', 'much', 'delight', 'ruling', 'class'], ['what', 'will', 'take', 'win'], ['order', 'for', 'good', 'people', 'win', 'genuinely', 'equal', 'and', 'genuinely', 'democratic', 'society', 'must', 'build', 'movement', 'great', 'majority', 'americans', 'that', 'explicitly', 'aims', 'for', 'egalitarian', 'revolutionary', 'goal', 'remove', 'ruling', 'plutocracy', 'from', 'power', 'have', 'rich', 'and', 'poor', 'with', 'real', 'democracynot', 'fake', 'democracy', 'that', 'will', 'always', 'case', 'long', 'our', 'society', 'one', 'which', 'money', 'power', 'and', 'billionaires', 'have', 'virtually', 'all'], ['create', 'this', 'movement', 'necessary', 'that', 'its', 'leaders', 'know', 'and', 'assert', 'that', 'great', 'majority', 'americans', 'share', 'this', 'positive', 'goal', 'despite', 'secondary', 'disagreements', 'that', 'ruling', 'class', 'tries', 'maximize'], ['and', 'necessary', 'that', 'its', 'leaders', 'explicitly', 'advocate', 'egalitarian', 'revolutionary', 'goal', 'because', 'otherwise', 'will', 'never', 'adequately', 'fought', 'for', 'and', 'ruling', 'class', 'will', 'coopt', 'movement', 'with', 'gimmicks', 'such', 'campaign', 'finance', 'reform', 'that', 'leave', 'power'], ['problem', 'that', 'our', 'current', 'leaders', 'left', 'not', 'believe', 'that', 'great', 'majority', 'americans', 'share', 'positive', 'values', 'that', 'ought', 'shape', 'society'], ['they', 'believe', 'that', 'about', 'half', 'americans', 'are', 'actually', 'oppressors', 'and', 'that', 'ordinary', 'americans', 'general', 'have', 'quite', 'negative', 'values', 'that', 'first', 'need', 'changed', 'before', 'would', 'even', 'good', 'idea', 'for', 'them', 'have', 'real', 'power', 'genuine', 'democracy'], ['left', 'consequently', 'does', 'not', 'even', 'try', 'build', 'kind', 'movement', 'that', 'takes', 'make', 'genuinely', 'equal', 'and', 'democratic', 'society', 'and', 'actually', 'helps', 'intentionally', 'not', 'doesnt', 'matter', 'ruling', 'class', 'divideandrule'], ['have', 'written', 'book'], ['marxists', 'demonstrated', 'their', 'kind', 'worthlessness', 'way', 'they', 'responded', 'one', 'most', 'divisive', 'actions', 'left'], ['couple', 'dozen', 'leftists', 'blocked', 'mainly', 'white', 'suburban'], ['many', 'left', 'writers', 'and', 'organizations', 'see'], ['reason', 'good', 'people', 'are', 'losing', 'fight', 'against', 'ruling', 'class', 'because', 'are', 'following', 'leaders', 'who', 'are', 'actually', 'our', 'foes'], ['ruling', 'class', 'and', 'bolsheviks', 'were', 'allied', 'from', 'beginning'], ['notion', 'that', 'marxist', 'left', 'working', 'end', 'inequality', 'and', 'fake', 'democracy', 'loved', 'capitalist', 'ruling', 'class', 'has', 'been', 'wrong', 'for', 'very', 'long', 'time'], ['example', 'how', 'long', 'this', 'notion', 'has', 'been', 'wrong', 'heres', 'interesting', 'fact', 'reported', 'antony', 'suttons', 'book', 'wall', 'street', 'and', 'bolshevik', 'revolution', 'published', 'and', 'online'], ['thompsons', 'contribution', 'bolshevik', 'cause', 'was', 'recorded', 'contemporary', 'american', 'press'], ['washington', 'post', 'february', 'carried', 'following', 'paragraphs'], ['gives', 'bolsheviki', 'million'], ['thompson', 'red', 'cross', 'donor', 'believes', 'party', 'misrepresented'], ['new', 'york', 'feb'], ['william', 'thompson', 'who', 'was', 'petrograd', 'from', 'july', 'until', 'november', 'last', 'has', 'made', 'personal', 'contribution', 'bolsheviki', 'for', 'purpose', 'spreading', 'their', 'doctrine', 'germany', 'and', 'austria'], ['thompson', 'had', 'opportunity', 'study', 'russian', 'conditions', 'head', 'american', 'red', 'cross', 'mission', 'expenses', 'which', 'also', 'were', 'largely', 'defrayed', 'his', 'personal', 'contributions'], ['believes', 'that', 'bolsheviki', 'constitute', 'greatest', 'power', 'against', 'progermanism', 'russia', 'and', 'that', 'their', 'propaganda', 'has', 'been', 'undermining', 'militarist', 'regimes', 'general', 'empires'], ['thompson', 'deprecates', 'american', 'criticism', 'bolsheviki'], ['believes', 'they', 'have', 'been', 'misrepresented', 'and', 'has', 'made', 'financial', 'contribution', 'cause', 'belief', 'that', 'will', 'money', 'well', 'spent', 'for', 'future', 'russia', 'well', 'for', 'allied', 'cause'], ['kindle', 'location'], ['note', 'that', 'thompson', 'was', 'petrograd', 'before', 'during', 'and', 'after', 'bolshevik', 'october', 'revolution'], ['sutton', 'documents', 'that', 'thompsons', 'support', 'for', 'bolsheviks', 'was', 'far', 'from', 'exceptional', 'among', 'his', 'class', 'top', 'level', 'capitalists', 'and', 'that', 'these', 'capitalists', 'had', 'backing', 'from', 'executive', 'branch', 'federal', 'government'], ['read', 'book', 'for', 'all', 'gory', 'details'], ['one', 'explanation', 'for', 'this', 'apparently', 'paradoxical', 'alliance', 'capitalists', 'and', 'lenins', 'bolsheviks', 'given', 'sutton'], ['argues', 'that', 'these', 'capitalists', 'were', 'monopolists', 'who', 'made', 'their', 'fortunes', 'using', 'governmentthe', 'biggest', 'monopoly', 'all', 'their', 'eyesas', 'instrument', 'for', 'personal', 'enrichment', 'and', 'that', 'they', 'saw', 'that', 'highly', 'centralized', 'government', 'that', 'bolsheviks', 'were', 'creating', 'could', 'equally', 'useful', 'them', 'government', 'that', 'would', 'force', 'people', 'russia', 'pay', 'very', 'high', 'prices', 'for', 'american', 'products'], ['confirmed', 'that', 'this', 'article', 'truly', 'does', 'exist', 'asking', 'reference', 'person', 'harvard', 'universitys', 'widener', 'library', 'check', 'she', 'found', 'article', 'but', 'was', 'january', 'edition', 'not', 'february', 'edition'], ['not', 'sure', 'why', 'sutton', 'gives', 'latter', 'date', 'maybe', 'there', 'were', 'more', 'than', 'one', 'edition', 'with', 'article'], ['you', 'doubt', 'veracity', 'this', 'article', 'please', 'call', 'library', 'and', 'find', 'out', 'for', 'yourself', 'what', 'they', 'tell', 'you'], ['article', 'changed', 'october'], ['writing', 'this', 'article', 'for', 'audience', 'consisting', 'all', 'good', 'people', 'who', 'like', 'myself', 'sincerely', 'want', 'more', 'equal', 'and', 'democratic', 'society', 'and', 'who', 'unlike', 'myself', 'achieve', 'this', 'goal', 'look', 'for', 'leadership', 'from', 'prominent', 'individuals', 'and', 'organizations', 'that', 'seem', 'share', 'this', 'goal'], ['most', 'these', 'leaders', 'are', 'commonly', 'identified', 'either', 'left', 'progressive', 'liberal', 'marxist'], ['this', 'article', 'will', 'refer', 'all', 'these', 'prominent', 'leaders', 'left'], ['according', 'standard', 'wisdom', 'left', 'providing', 'good', 'leadership', 'achieve', 'more', 'equal', 'and', 'democratic', 'society', 'and', 'problem', 'that', 'not', 'enough', 'people', 'follow', 'this', 'leadership', 'and', 'enemies', 'left', 'led', 'what', 'call', 'ruling', 'class', 'remain', 'power'], ['problem', 'this', 'mistaken', 'view', 'that', 'left', 'weak'], ['what', 'will', 'show', 'that', 'contrary', 'problem', 'for', 'those', 'who', 'want', 'more', 'equal', 'and', 'democratic', 'society', 'that', 'that', 'left', 'wrong'], ['what', 'mean'], ['left', 'wrong', 'its', 'fundamental', 'view', 'ordinary', 'people', 'and', 'because', 'this', 'wrong', 'view', 'ruling', 'class', 'able', 'use', 'left', 'divide', 'and', 'rule', 'good', 'people'], ['lets', 'start', 'seeing', 'whats', 'wrong', 'with', 'lefts', 'view', 'ordinary', 'people'], ['lefts', 'wrong', 'view', 'ordinary', 'people'], ['before', 'discussing', 'lefts', 'wrong', 'view', 'helps', 'say', 'what', 'truth', 'about', 'ordinary', 'people'], ['truth', 'that', 'vast', 'majority', 'ordinary', 'people', 'world', 'and', 'united', 'states', 'well', 'want', 'society', 'based', 'positive', 'values', 'concern', 'for', 'one', 'another', 'opposed', 'dogeatdog', 'competition', 'mutual', 'aid', 'opposed', 'some', 'people', 'taking', 'unfair', 'advantage', 'others', 'and', 'equality', 'sense', 'having', 'rich', 'and', 'poor', 'and', 'sense', 'ordinary', 'people', 'rather', 'than', 'privileged', 'and', 'selfserving', 'elite', 'having', 'real', 'say', 'social', 'decisions'], ['this', 'why', 'ordinary', 'people', 'are', 'solution', 'not', 'problem', 'today'], ['left', 'disagrees'], ['left', 'views', 'majority', 'ordinary', 'people', 'problem', 'not', 'solution', 'because', 'their', 'supposed', 'values', 'are', 'problem', 'selfishness', 'and', 'greed', 'racism', 'sexism', 'homophobia', 'transphobia', 'and', 'list', 'grows', 'all', 'time'], ['left', 'believes', 'that', 'certain', 'subsets', 'ordinary', 'people', 'people', 'color', 'nonheterosexuals', 'transgender', 'people', 'etc'], ['are', 'oppressed', 'ordinary', 'people', 'who', 'are', 'different'], ['solution', 'this', 'leftist', 'view', 'persuade', 'oppressive', 'ordinary', 'people', 'change', 'their', 'ugly', 'ways', 'and', 'values'], ['marxist', 'left', 'which', 'have', 'written', 'about'], ['idea', 'that', 'values', 'vast', 'majority', 'ordinary', 'people', 'are', 'solution', 'not', 'problemthat', 'they', 'are', 'values', 'that', 'ought', 'shape', 'society', 'and', 'are', 'opposite', 'terrible', 'values', 'ruling', 'classis', 'truthful', 'idea', 'that', 'will', 'enable', 'good', 'people', 'succeed', 'building', 'huge', 'popular', 'movement', 'make', 'society', 'genuinely', 'equal', 'and', 'democratic'], ['wonderful', 'entire', 'book', 'about', 'this', 'online'], ['perhaps', 'you', 'dear', 'reader', 'think', 'this', 'idea', 'false'], ['please', 'read'], ['consider', 'this', 'please'], ['ordinary', 'people', 'were', 'selfish', 'and', 'vile', 'left', 'claims', 'then', 'our', 'world', 'would', 'infinitely', 'more', 'horrible', 'than', 'actually', 'with', 'everybody', 'stabbing', 'each', 'other', 'back', 'and', 'nobody', 'giving', 'damn', 'about', 'anybody', 'else'], ['this', 'kind', 'world', 'that', 'would', 'bea', 'veritable', 'hellish', 'nightmare', 'worldif', 'disgusting', 'selfish', 'competitive', 'values', 'ruling', 'class', 'were', 'also', 'those', 'everybody', 'else'], ['fact', 'that', 'our', 'world', 'not', 'this', 'hellish', 'nightmare', 'but', 'one', 'which', 'most', 'people', 'cooperate', 'and', 'help', 'each', 'other', 'and', 'respect', 'one', 'another', 'equals', 'countless', 'ways', 'that', 'take', 'much', 'for', 'granted', 'that', 'dont', 'think', 'about', 'them', 'even', 'notice', 'them', 'this', 'fact', 'has', 'huge', 'significance', 'shows', 'that', 'most', 'ordinary', 'people', 'are', 'positive', 'force', 'world', 'force', 'that', 'challenges', 'capitalist', 'values', 'and', 'that', 'ought', 'shape', 'all', 'society'], ['how', 'ruling', 'class', 'uses', 'left', 'divide', 'and', 'rule'], ['have', 'written', 'whole'], ['heres', 'how', 'ruling', 'class', 'uses', 'left', 'for', 'divideandrule'], ['ruling', 'class', 'takes', 'invents', 'hot', 'button', 'potentially', 'very', 'divisive', 'social', 'issue', 'and', 'with', 'its', 'control', 'mainstream', 'and', 'alternative'], ['media', 'imposes', 'very', 'particular', 'framework', 'public', 'debate', 'about', 'issue'], ['framework', 'designed', 'maximally', 'divisive'], ['framework', 'made', 'maximally', 'divisive', 'defining', 'two', 'opposing', 'views', 'call', 'them', 'camps', 'way', 'that', 'ensures', 'that', 'people', 'each', 'campwhen', 'they', 'hear', 'about', 'opposing', 'campwill', 'view', 'members', 'opposing', 'camp', 'with', 'utter', 'contempt', 'and', 'possibly', 'fear'], ['ruling', 'class', 'does', 'this', 'providing', 'each', 'camps', 'position', 'with', 'arguments', 'designed', 'maximally', 'offensive', 'other', 'camp', 'and', 'censoring', 'facts', 'that', 'known', 'would', 'cause', 'people', 'opposing', 'camps', 'see', 'that', 'they', 'had', 'far', 'more', 'agreement', 'with', 'each', 'other', 'than', 'they', 'otherwise', 'would', 'realize', 'and', 'that', 'concerns', 'opposing', 'camp', 'were', 'quite', 'reasonable', 'instead', 'deplorable', 'even', 'they', 'still', 'disagreed'], ['here', 'are', 'some', 'examples', 'how', 'ruling', 'class', 'uses', 'left', 'make', 'this', 'work']]\n",
            "Shape of context ids =  (24, 36, 50)\n",
            "Shape of generated embeddings =  (24, 34, 1024)\n",
            "[-0.0037155013662199697, 0.006044997137754156, 0.006478211788362387, 0.0031349656149046723, 0.003877199510528347, 0.006865042331185123, 0.006065063606532324, -0.0032979769037007663, 0.012977281575984989, 0.005520037689551473, 0.0034685454538134763, 0.004711018977458379, -0.0032358180492053634, 0.0005260022048787505, -0.013606432855820257, -0.0011231045126199508, 0.008720281076167876, 0.004377538565781454, -0.0019892280872268616, -0.005992902324828719, -0.003857107505609747, 0.00013114982439219603, 0.004615896396150193, 0.027438049472607418]\n",
            "0\n",
            "Shape of context ids =  (8, 16, 50)\n",
            "Shape of generated embeddings =  (8, 14, 1024)\n",
            "[-0.02554385409985116, 0.004738135321730397, 0.0013381251724159224, -0.0022304870928261757, 0.008327183844458987, -0.004559950887255582, 0.007657734999611421, 0.018318844244504362]\n",
            "0\n",
            "Shape of context ids =  (17, 17, 50)\n",
            "Shape of generated embeddings =  (17, 15, 1024)\n",
            "[0.003323381447406367, 0.007328414808845147, 0.001419537485699865, -0.0068451959949091664, 0.003987126208256895, 0.0008817016559987678, -0.0015385365252768679, 0.003215679179480243, 0.0030059096326340295, -0.012138968633735203, -0.0010869239604795035, 0.00754824841073644, 0.002467324050864287, -0.001804668681318487, 0.01033539248788884, 2.8512258647121296e-05, 0.00010785991562443087]\n",
            "1\n",
            "Shape of context ids =  (10, 28, 50)\n",
            "Shape of generated embeddings =  (10, 26, 1024)\n",
            "[0.00600227059655683, 0.0036815510136420926, 0.012297898406456755, -0.008047193310630973, -0.004417861669196554, 0.019328231915892502, -0.0054434399292787065, 0.0053137635876630345, 0.0041159636011040375, -0.0003243404631207557]\n",
            "1\n",
            "Shape of context ids =  (8, 25, 50)\n",
            "Shape of generated embeddings =  (8, 23, 1024)\n",
            "[0.004309645926866779, 0.0011355548168645012, 0.013029576154064092, 0.0046422035792910024, -0.0026526040740009194, -0.001821448224872155, -0.01087349297131368, -0.0003959000203589572]\n",
            "1\n",
            "Shape of context ids =  (26, 29, 50)\n",
            "Shape of generated embeddings =  (26, 27, 1024)\n",
            "[8.327770055157916e-05, -0.0005067933523867435, -0.0028748887236949537, -0.0025325530377686947, 0.008483518381527383, 0.0060169178368533315, -0.007443511974206383, 0.004235437941940498, 0.0015199840931485495, 0.007984021170841515, 0.009758401857501061, 0.012028725728850987, 0.01829905750666209, 0.009311024820817693, 0.00890977028213261, 0.0006395498363766754, 0.0073490820215658245, -0.0031366843803147682, 0.024917309876911986, 0.0033005956431059694, 0.023722621007573254, 0.010744271184357786, 0.01080391266236802, 0.013096239269038456, 0.005663685101613477, 0.004782673430327122]\n",
            "1\n",
            "Shape of context ids =  (12, 34, 50)\n",
            "Shape of generated embeddings =  (12, 32, 1024)\n",
            "[0.007747856822876342, 0.00547967850010167, -0.0003679547883261118, -0.0159741287236683, 0.006925857088928156, 0.003396240980972228, 0.006204069724110293, -0.012656002848748708, 0.011263540165151952, -0.005190698051440752, 0.004828862681250712, 0.007119826047858169]\n",
            "1\n",
            "Shape of context ids =  (3, 31, 50)\n",
            "Shape of generated embeddings =  (3, 29, 1024)\n",
            "[-0.004162549904825548, 0.0002318379693657209, -0.006781400444465776]\n",
            "0\n",
            "Shape of context ids =  (39, 41, 50)\n",
            "Shape of generated embeddings =  (39, 39, 1024)\n",
            "[0.0031687113778389175, -0.00440042669720242, 0.0006190381521662403, 0.005932997433262699, -0.006135273574822501, 0.00860815901993798, -0.006855513853769193, -0.0021899601102632004, -0.00598758406327501, -0.01046725896018188, -0.002245493644477392, -5.497491668971964e-05, -0.006352613416026998, -0.010125485774324261, 0.0032873311960202045, -0.006617604503503571, 0.0023408597444358747, 0.0042169700043738585, 0.007863633231863787, -0.01692989960565683, 0.009787081377851337, -0.0028440888086657245, 0.006391647093721531, -0.0056339487861805536, -0.012195508825097698, 0.006199918064155822, 0.006172824416732207, 0.0027864564308401896, -0.012589176270012103, -0.013656880102280411, -0.011551555785769909, -0.011144051449136758, -0.0073047054026430585, -0.0188618121739725, 0.001704303375845484, -0.0019140773575448595, 0.0024149280208364743, -0.016200440667189883, -0.015691909382621817]\n",
            "0\n",
            "Shape of context ids =  (12, 26, 50)\n",
            "Shape of generated embeddings =  (12, 24, 1024)\n",
            "[0.005994342594725649, -0.0013947189289069684, 0.0008406277763180532, -0.013983387656079524, 0.006824234972538891, 0.0023011162325369348, 0.001000791498123969, 0.000713380434668969, -0.0011225014191325045, 0.004844991837511342, -0.006580535507418972, -0.00199394957705105]\n",
            "0\n",
            "Shape of context ids =  (12, 25, 50)\n",
            "Shape of generated embeddings =  (12, 23, 1024)\n",
            "[0.009460880836627439, -0.0012376954321666744, -0.004182549464968588, -0.001729453663370884, 0.0017323276748584249, 0.005605155085899433, 0.008086877860143048, -0.00029693274982870815, 0.003875269265794638, -0.0010002338521272495, 0.006245480684356153, 0.00010633326687781164]\n",
            "0\n",
            "Shape of context ids =  (15, 29, 50)\n",
            "Shape of generated embeddings =  (15, 27, 1024)\n",
            "[0.024733771328593928, 0.010460145724437098, 0.008223790433526624, 0.011896432442434464, 0.0030717378629162794, 0.006649796779493044, 0.019172010389278665, 0.007936783295258465, -0.0025853382081452636, -0.003618560160350626, 0.0032244317693042035, 0.020528572242596965, 0.004766154455654504, 0.005357805935483901, 0.007566548141767271]\n",
            "0\n",
            "Shape of context ids =  (6, 32, 50)\n",
            "Shape of generated embeddings =  (6, 30, 1024)\n",
            "[0.009690332664046186, 0.0017380721059090493, 0.004361323475402164, -0.004348193007369143, -0.0011981570654446235, 0.012478231480843403]\n",
            "1\n",
            "Shape of context ids =  (32, 33, 50)\n",
            "Shape of generated embeddings =  (32, 31, 1024)\n",
            "[0.001494472865829266, -0.000521498230208787, 0.0012502611431110771, 0.0088101081912176, -0.00591376955291232, 0.0071326661743064, 0.008510832395846333, 0.002564321361489874, 0.009683577740243468, 0.00040318616417887545, -0.0018427922100272554, 0.005065912589369712, -0.007000503913231013, 0.0015255906512834372, -0.00026714556576695503, -0.01675891641434646, 0.003512806670697031, -0.008581383001893091, -0.006573171700719125, 0.004754174549284633, 0.0006493898629287287, 0.0053861545043056526, 0.0026773659553448264, -0.005834998586755723, -0.00889022803038415, -0.0035438826638255704, 0.0010919472189925728, 0.005866122927987557, -0.004058933066559689, 0.0013065662074609463, 0.001401391544807969, 0.00480512764966079]\n",
            "1\n",
            "Shape of context ids =  (11, 23, 50)\n",
            "Shape of generated embeddings =  (11, 21, 1024)\n",
            "[0.007962969137387128, 0.02505199273823185, 0.0001459242208170508, 0.010523497296844653, 0.011000621991101411, 0.013158148397999813, 0.013018050274955126, -0.0015483846661936695, 0.006110893433287856, 0.004153552408752148, -0.0073031242924723]\n",
            "1\n",
            "Shape of context ids =  (16, 28, 50)\n",
            "Shape of generated embeddings =  (16, 26, 1024)\n",
            "[0.006287962467733148, 0.0022599895960259647, 0.0018904113217410247, -0.004147398382166592, -0.006028871270280853, -0.0018033921988634656, 0.00019463123843100523, 0.002286221565630816, 0.0023809440059442914, 0.007448916346258254, 0.006837781765517031, 0.001855693227732421, 0.0015246472998049804, 0.006410150664396497, -0.0009537514207863751, 0.002199462165110942]\n",
            "1\n",
            "Shape of context ids =  (3, 16, 50)\n",
            "Shape of generated embeddings =  (3, 14, 1024)\n",
            "[0.005770331681585756, -0.0036588607598235156, 0.00494926402713405]\n",
            "0\n",
            "Shape of context ids =  (18, 39, 50)\n",
            "Shape of generated embeddings =  (18, 37, 1024)\n",
            "[0.001068889921456233, 0.0098705919055596, -0.010546712224395162, -0.0026165670338181932, -0.008344170705640863, 0.004365515430019211, 0.0012113075287743414, 0.0013199679646374665, -0.0020520375653454437, 0.0002747585835885203, 0.0069675968448044455, -0.0062739342503583, 0.0030918847186285348, -0.010445982974351864, 0.00012889280281770863, 5.462092413684635e-05, -0.0035660254326515045, 0.0011986136982111355]\n",
            "0\n",
            "Shape of context ids =  (9, 22, 50)\n",
            "Shape of generated embeddings =  (9, 20, 1024)\n",
            "[-0.012744839223722692, 0.0015263910547673731, -0.002122806465263238, 0.005411537363417867, -0.013096760842472577, 0.006952476706162868, 0.009267192396426557, 0.00483782608061271, 0.0025539233018510763]\n",
            "0\n",
            "Shape of context ids =  (28, 50, 50)\n",
            "Shape of generated embeddings =  (28, 48, 1024)\n",
            "[-0.0030795193426725073, 0.007048223586131262, -0.003667878805889099, -0.005394976295779738, 0.004655964318430961, 0.002301054141364981, 0.0014584277320506902, -0.004340992929112275, 0.006665492509455362, 0.010075478166982066, -0.0004214729533451589, -0.003501856446606093, -0.008823215132358862, 0.006724343506273447, 0.0008274822801865866, 0.0011346614617127671, 0.0027748300352262354, 0.0076841241371831915, -0.006050244195840029, 0.0043334091438362735, 0.004082785183811666, 0.0029412242205802087, -0.01027520425891737, 0.0018749676955394535, -0.0016117380071989373, -0.0010398556927611936, -0.005336898451694403, -0.011292111599392656]\n",
            "1\n",
            "Shape of context ids =  (25, 38, 50)\n",
            "Shape of generated embeddings =  (25, 36, 1024)\n",
            "[0.014298574908227033, 0.0016056125534305466, 0.00584602786049615, 0.01593065095590873, -0.0047251479258128325, 0.002034293624262773, 0.0015961519202747354, 0.014592928968189275, -0.005376670837980176, -0.002743604115681007, 0.009048235435026678, 0.007129140900831642, 7.680577385014789e-06, 0.0071640291530684404, 0.010541531296439643, 0.006753466094806981, 0.017233862301106292, -0.0006080223286517139, 0.0058860225357193485, 0.0038569243950860254, 0.002013848817171038, 0.000321735430446779, 0.0007448802123993422, 0.023492098589132284, 0.008982484482011818]\n",
            "1\n",
            "Shape of context ids =  (17, 27, 50)\n",
            "Shape of generated embeddings =  (17, 25, 1024)\n",
            "[0.011079963922246574, 0.014857579498842218, 0.0019395692275362595, -0.003750024746807412, -0.004364802191910138, 0.005457058604791756, -0.007387371648590602, -0.00478865846561247, 0.0029298463055056345, 0.007530600659562809, 0.0007196764919778312, -0.0028488453410363945, 0.0024061240349465152, -0.006237784135359666, 0.008888289824628574, -9.777221929615128e-05, 0.007945519232725929]\n",
            "1\n",
            "Shape of context ids =  (35, 44, 50)\n",
            "Shape of generated embeddings =  (35, 42, 1024)\n",
            "[-0.00271967540516016, 0.0149708830738291, -0.004816799182151499, -0.00227696541989341, -0.004268933192514623, 0.010429167436683429, -0.00345091098859927, 0.00916094057467782, 0.005265305354279397, -0.001608756978227505, 0.008559894494237597, -0.0016861117586207304, 0.0004777188760272111, 0.009362025155655828, -0.0044155477202301495, -0.005520960786719166, 0.0025200967120213138, 0.009915663529091035, -0.002339097333079875, 0.004305131837034943, 0.005674743646275309, -0.0029575486953945075, -0.002279249315630626, 0.013341672099121146, -0.0032107957066500603, 0.002853640989997075, 0.0004898750811522545, -0.007925605315783875, -0.0074899360963058825, 0.00014128929639127817, -0.001283151351502126, -0.0021853595463880993, 0.007270427707172054, -0.00401581032237017, -0.0010669166571706985]\n",
            "1\n",
            "Shape of context ids =  (17, 38, 50)\n",
            "Shape of generated embeddings =  (17, 36, 1024)\n",
            "[-0.007011768931682166, -0.005549961223996433, -0.0023247396541343983, -0.0063233231089547814, 0.01486376438840255, 0.017893269000524015, 0.0019857635666734757, 0.018045396994551766, 0.0004978677800156422, 0.0033793922870017923, 0.008500628668554912, -0.00982111130976667, -0.003393704314627636, 9.753189851835486e-05, 0.0018981819027569851, 0.0013059633080653537, -0.005566897282790251]\n",
            "0\n",
            "Shape of context ids =  (27, 53, 50)\n",
            "Shape of generated embeddings =  (27, 51, 1024)\n",
            "[0.018417777259173818, 0.008617729407906912, -0.00390750292641123, 0.006762350496708016, 0.006396342666486514, 0.005559556154108494, 0.008512951764689957, 0.0008236890834167651, 0.005379368789032345, -0.00048026302347298477, -0.0016333832005476065, 0.004265375751957536, 0.0068138209132939664, -0.008917402838303841, 0.011639156831051878, -0.00012620256800346396, -0.001827115587047956, 0.015949337828244228, 0.005503007648660339, 0.00663390843975571, 0.010248653077805632, -0.0051440380479810055, -0.0029370832776788557, 0.004878337277651899, -0.0021755603217457065, 0.00035254025735004436, 0.005890192356218904]\n",
            "1\n",
            "Shape of context ids =  (33, 28, 50)\n",
            "Shape of generated embeddings =  (33, 26, 1024)\n",
            "[0.01274878694683442, -0.014063014230586646, 0.007663787263456672, -0.009179764067971519, -0.00040148763676265493, -0.007871447786433587, -0.001204117464482124, 0.0003859069604712002, 0.006517949284076307, 0.015284029062854643, 0.009783804259555495, 0.013035777832209007, 0.0017594658437036952, -0.015043483894760356, -0.01283905844158281, -0.010508425039418512, -0.00910537357794965, -0.0119394799270367, 0.004773713373833743, -0.006315626914954464, -0.006504936994557201, 0.013298798598725625, 0.001964447300770189, 0.012612579933225732, 0.012258230232242163, -0.0026928336907249537, -0.0030245418960594575, 0.010140220400899125, 0.004997106677722384, 0.0073693884947563975, 0.0008120751911502128, -0.004408731566665362, -0.010552425494751105]\n",
            "0\n",
            "Shape of context ids =  (1, 29, 50)\n",
            "Shape of generated embeddings =  (1, 27, 1024)\n",
            "[-0.00791098248355916]\n",
            "0\n",
            "Shape of context ids =  (6, 23, 50)\n",
            "Shape of generated embeddings =  (6, 21, 1024)\n",
            "[0.004668583333839359, 0.003140459904544615, 0.010061981912618497, 0.004325912042865336, 0.0021657407734437585, 0.01039858617300874]\n",
            "0\n",
            "Shape of context ids =  (10, 33, 50)\n",
            "Shape of generated embeddings =  (10, 31, 1024)\n",
            "[0.01520775989706452, 0.015350610026652807, -0.0030779513514062272, 0.010274586107297659, 0.014658200373516523, 0.0022101970026757473, -0.0006904366919684435, -0.011805200713612206, 0.009919704497509856, 0.003639190411892438]\n",
            "0\n",
            "Shape of context ids =  (114, 41, 50)\n",
            "Shape of generated embeddings =  (114, 39, 1024)\n",
            "[0.005200109893117326, 0.008048028683418806, -0.0033978638737721667, 0.0015898309138674448, -0.0016345644019111205, 0.008678623156583853, -0.005125444093784929, -0.005691589401810513, 0.0024666687412112274, -0.0010534277576714256, -0.006595351929036042, -0.00696840342016003, -0.007031068534723772, 0.0011068530632201146, -0.005698612383156387, -0.00739274113011561, 0.00019821879998794934, -0.004395404878727681, 0.0011068530632201146, 0.011802634406726043, 0.019702960074331106, 0.0061978347369517905, 0.015889758204252757, 0.004976622792696617, -0.00236942175959598, 0.0034146707336049076, 0.002169177852378058, -0.005138390055056637, 0.0003774149312483552, 0.009735702808370661, 0.002317977457226204, 0.019702960074331106, -0.005219357847143631, -0.012670997623705002, 0.011178499195612599, -0.0044582509321150115, 0.0031965589513163195, 0.0040505244560335996, 0.004885206192767555, -0.0013397041111683653, 0.0024044572308715337, -0.006432505540877693, -0.004577527974712818, 0.0024044572308715337, -0.006432505540877693, 0.015432453899791199, -0.003158044831779576, -0.009224780139058046, -0.0003916809528163867, 0.004126474255340579, -0.00238819516782011, 0.006466540893289415, 0.0006650823838299403, -0.001517600761543138, 0.006561536992545702, -0.005229444314216557, -0.0033978638737721667, 0.005431923250043837, -0.0022122567472074983, 0.007390639160741392, 0.0020962739108654205, -0.0028753492331729294, 0.011411166966581732, 0.00834159417241732, 0.011767932080715582, -0.0019236054672167786, -0.003681142363389385, 0.009378133611676276, 0.0007804218623732595, 0.00315671721806865, 0.008225354187275383, -6.515652671623684e-05, 0.01342364435109289, 0.00478024896038785, 0.0009363327257384905, -0.012790336506441236, 0.00478024896038785, 0.002939949001829105, -0.00033331887635337364, -0.001327062315067451, 0.0022912591606048713, -0.000695588480804569, -0.012515624161824234, -0.0024303412255449073, -0.003125447351294497, -0.005658002993101263, 0.005045548169960057, 0.005465369515339565, 0.018463556729254076, -0.0012441597979935587, 0.010741892975753823, -0.008059893279191025, 2.2929056303137957e-05, 0.00596767416327566, 0.0036566185545832642, 0.004608723210873222, 0.006241438296365231, 0.007659202306887678, 0.0028114708575230907, -0.0040688204011808515, 0.0036102754683766266, 0.011462140565004119, 0.01226729165099035, 0.002988374758140046, 0.0028950729752068582, -0.010544719044196427, 0.0028114708575230907, -0.0040688204011808515, -0.001222941582424634, 0.010789736868294616, 0.010146104761645347, -0.0062639205207768315, 0.0051794764974602, 0.009735702808370661]\n",
            "0\n",
            "Shape of context ids =  (46, 35, 50)\n",
            "Shape of generated embeddings =  (46, 33, 1024)\n",
            "[0.011467072077365352, 0.0063345519169691515, -0.005923834455015253, -0.01122458113330064, 0.007316420139341062, 0.003502313124217284, -0.008575116957338954, 0.004715267296660386, 0.009299998529195363, -0.003494507678957579, 0.026972186519742536, -0.003340234728089594, 0.004667454390335899, -0.0038105955385034918, -0.010312738483094108, -0.0029361477240854583, -0.004630530527135436, 0.0032292123264502, 0.005442008599175097, -0.00583825150249595, -0.011936526912165846, -0.008511931944700077, -0.00681848322031848, -0.0030819073321628606, -0.012944511363168038, -0.01123392909208373, 0.0010458793377191948, -0.013670303341226687, -0.008161248109830082, -0.006804049502717037, -0.0035183085786627544, -0.006587290582103833, -0.004012549646794079, -0.003692791819718734, 0.00089183921621346, -0.009304642063852953, -0.004107425229999961, -0.003722481039858394, -0.010694507553520643, -0.010653959044134353, -0.00311977380434111, -0.0112042256866971, -0.0007515833553043194, 0.0008496790729092633, 0.004540972839095048, 0.00030624212563452603]\n",
            "0\n",
            "Shape of context ids =  (19, 24, 50)\n",
            "Shape of generated embeddings =  (19, 22, 1024)\n",
            "[0.004983284758282025, 0.0031289097835080306, 0.003857548812334244, -0.031082634196006136, 0.009234976736962608, 0.0020168937146536337, 0.013730321929006094, 0.008662802283424753, -0.008561434385626399, -0.0050516435568397355, -0.005267311057442233, 0.009490602645994077, 0.008800176595218544, -0.00013097088238467336, -0.00025500593625496195, 0.00994434943061151, 0.0059044890584638255, 0.007005240549255455, 0.003897203185942999]\n",
            "0\n",
            "Shape of context ids =  (47, 29, 50)\n",
            "Shape of generated embeddings =  (47, 27, 1024)\n",
            "[0.006641013054458459, 0.004070315021367192, 0.001966533572897333, 0.002251880177103279, -0.012721105076944164, 0.011434246421913485, 0.01877706890945774, 0.011163768888280856, -0.0015860363245420476, 0.003927333808695204, 0.0027941097832808737, -0.0081012072671131, -0.01192174938695795, -0.0001437897267351218, -0.005334518245990694, -0.005189811667287358, 0.003118640418316924, 0.0013417743286200836, 0.0030512680744670755, -0.005227688833732221, 0.006238868727551663, 0.016913852701046988, 0.012529971993686218, 0.0029562413814346656, 0.018033669334239937, -0.0024468196675115905, 0.006358695867926431, -0.009679793084139021, -0.0041417085466982344, -0.011817653523038985, 0.0017110113105294053, -0.0048855383294587095, 0.0005270926967243993, 0.014269743156753313, -0.007028750084134572, 0.004945502434964055, -0.0017795132170653637, 0.0033325299139050912, -0.002245292904016575, 0.00656253416252639, -0.0024342369945884457, -0.001887338484060308, 0.006748932910899053, -0.008412046515138627, 0.002131176027938232, 0.014007383878947621, -0.014126189768985569]\n",
            "1\n",
            "Shape of context ids =  (22, 37, 50)\n",
            "Shape of generated embeddings =  (22, 35, 1024)\n",
            "[0.017128742315419134, 0.013279798577525526, 0.015311580452771523, 0.004405217000468534, 0.018593017385488304, 0.01947888682411758, 0.0054099109651620635, -0.005186036377140751, 0.028718575428956682, 0.0027248893295563903, 0.004330756425057795, -0.00660730538432172, -0.00046196800517842956, 0.006439591881196196, 0.0018086607455900419, 0.0017226668093018008, -0.002348150779350059, 0.004249884024829953, 0.010872399089407736, 0.0014957584649550881, 0.007963107504713208, -0.007218068308101725]\n",
            "0\n",
            "Shape of context ids =  (11, 27, 50)\n",
            "Shape of generated embeddings =  (11, 25, 1024)\n",
            "[0.007564776400158735, 0.0033388265352414237, -0.0005417792569197014, -0.004116536936525041, 0.009416432427595002, 0.00023579520273415256, 0.012492133866973947, 0.011550497519486023, 0.006825029892903937, 0.006042848505460695, 0.006022991574279028]\n",
            "1\n",
            "Shape of context ids =  (17, 30, 50)\n",
            "Shape of generated embeddings =  (17, 28, 1024)\n",
            "[0.006050246221253902, -0.0036782265456420443, 0.0003870716436722432, -0.004398925223516639, -0.0017692778565105982, 0.003922400971112858, -0.00038181475579079915, -0.002485970018938133, 0.005752269110985253, 0.0004431116801904202, 0.01076909227507665, 0.012302134205857452, 0.006097348516277634, -0.0016902740742271557, -0.007265668920159182, 0.003646319197438667, 0.013036285113912527]\n",
            "0\n",
            "Shape of context ids =  (13, 44, 50)\n",
            "Shape of generated embeddings =  (13, 42, 1024)\n",
            "[0.01550588179964052, 0.0077274542930657235, 0.004890427913875156, 0.0038109665510270524, 0.0034776293839953606, 0.010958932559702816, 0.004907222240781377, -0.0006836483941635214, 0.0034682138525701754, -0.0005892406537794967, -0.015194021145362058, -0.003261027883216424, 0.005278635695377589]\n",
            "0\n",
            "Shape of context ids =  (14, 38, 50)\n",
            "Shape of generated embeddings =  (14, 36, 1024)\n",
            "[0.012119517204988975, 0.008875311765090524, 0.003329474371184915, 0.00947592279140963, -0.00016675617958602137, -0.00880077780711872, 0.007361164067371344, 0.020293272176607906, 0.007859156985789055, 0.0033743411233692973, 0.0178256952412994, 0.004251799717637065, -0.0015072521510546722, -0.009385978117705918]\n",
            "1\n",
            "Shape of context ids =  (21, 36, 50)\n",
            "Shape of generated embeddings =  (21, 34, 1024)\n",
            "[0.0056659902921710045, 0.006113065901053637, -0.0014989437942318773, -0.0012537722764343264, -0.00302168690450344, -0.007429326279569588, -0.004120428347644318, -0.0001593924459465749, -0.00472344163820612, 0.00770752737435032, -0.007157849343457201, 0.01209482273578581, 0.004920718854904749, 0.017279409415875437, 0.002795489944703963, -0.0020810983097295254, 0.013180972102915689, 0.00910764148327713, 0.0014507358965829553, -0.004444248476613666, 0.00124423177149257]\n",
            "0\n",
            "Shape of context ids =  (21, 27, 50)\n",
            "Shape of generated embeddings =  (21, 25, 1024)\n",
            "[0.005838498061869111, -0.006020578395018674, -0.005103268842655477, -0.0007821472833363848, 0.002900254360516404, -0.0001387082380551874, 0.011431921803269537, 0.003202850969645309, 0.011368146191986082, -0.002202159040962215, -0.006510907708138803, 0.008805568040088474, -0.0016972455999036487, -0.0007057043979870059, -0.0007845182600350301, -0.006512036100761047, -0.0002877576243918156, 0.0005861120894548678, -0.008410221066988015, -0.00056267249841001, -0.010448353883837379]\n",
            "1\n",
            "Shape of context ids =  (8, 15, 50)\n",
            "Shape of generated embeddings =  (8, 13, 1024)\n",
            "[0.019046704906259038, -0.0022939898382219326, 0.02627079827501196, 0.01411262545371983, 0.00966925780281258, 0.007137996550507244, 0.014112626226051361, 0.004532439265663665]\n",
            "0\n",
            "Shape of context ids =  (8, 16, 50)\n",
            "Shape of generated embeddings =  (8, 14, 1024)\n",
            "[0.019046704906259038, -0.0022939898382219326, 0.017185195512037614, 0.01411262545371983, 0.010282778712746677, 0.010577334438266917, 0.014977508659853811, 0.017718259575872253]\n",
            "0\n",
            "Shape of context ids =  (12, 38, 50)\n",
            "Shape of generated embeddings =  (12, 36, 1024)\n",
            "[0.01202452325254247, -0.004301090512280387, 0.009029827827725967, -0.0035846598690996404, 7.471979909468018e-05, 0.004997977470385318, 0.0032067200584564985, 0.031329468092735624, 0.00898021006392153, 0.020093727731288407, 0.016559339498940062, 0.011360096849640204]\n",
            "0\n",
            "Shape of context ids =  (11, 44, 50)\n",
            "Shape of generated embeddings =  (11, 42, 1024)\n",
            "[0.012288058697464521, 0.0028641240884705135, 0.006166900811234407, 0.004977835786121432, 0.013352322030889562, 0.0008148659680414095, 0.00126483557116444, 0.013261553321887517, -0.005581897166774164, 0.004898986422025094, 0.014019198959346113]\n",
            "0\n",
            "Shape of context ids =  (31, 49, 50)\n",
            "Shape of generated embeddings =  (31, 47, 1024)\n",
            "[-0.0022256614772459215, 0.010079271552740465, -0.004588680701030363, -0.0064933506042734734, -0.009595678688967268, -0.0015670810696411493, 0.0004835564572860878, 0.006896294316646845, 0.006454872404219714, -0.00012637211163605983, 0.0001909113803119706, -0.006968299218754587, -0.008205696415692338, -0.006585108231980658, -0.006867792085154178, -0.011161960327171982, -0.0046177841958703015, -0.007149354811459537, -0.011577176644346638, -0.0032447024375313405, 0.004060971724629781, -0.006278416156760613, -0.007962417803494444, -0.0013143994198204522, -0.007640276297978842, -0.006919908294230481, 0.005077665106076286, -0.005435932913791302, -0.0028016578513156026, -0.004445205899173743, 0.008943678323153867]\n",
            "1\n",
            "Shape of context ids =  (20, 36, 50)\n",
            "Shape of generated embeddings =  (20, 34, 1024)\n",
            "[0.010436878383188741, -0.0029287789261616126, 0.01391693227833457, -0.012302951707435264, -0.009617959502350004, 0.008310200783216714, -0.003814671208601794, -0.003680220351149425, -0.006018382339951651, 0.001204355621602815, 0.006691447837766873, 0.007433416947753813, -0.0023222409217851236, 0.007734233757543864, 0.002215342595770367, 0.004467866902105551, 0.00947520323918, 0.011154388740427143, 0.004258691018674199, -0.0001476607246086832]\n",
            "0\n",
            "Shape of context ids =  (3, 24, 50)\n",
            "Shape of generated embeddings =  (3, 22, 1024)\n",
            "[0.009270298499473029, -0.0020468111736366133, -0.0014191365446653106]\n",
            "1\n",
            "Shape of context ids =  (32, 39, 50)\n",
            "Shape of generated embeddings =  (32, 37, 1024)\n",
            "[0.011369384228519916, 0.01200328917971525, 0.004031322765786172, 0.007910772135200464, -0.013761069136648985, 0.010652699734055204, 0.0067019898066670676, 0.00819173719087808, 0.0009498319845420156, 0.00263813741935337, -0.007545482824374024, 0.001144127126875197, 0.00265876076119984, 0.004471107718750823, -0.005050196924761015, 0.006691726743537986, -0.004328409061266332, 0.0013279564832527212, 0.0006559699627738761, 0.008716215539967228, 0.0014846736636075417, 0.0003952594560511595, -0.002107774573293142, 0.006123094519851362, -0.0010617102617137182, 0.00822988136493071, 0.007924899695960145, -0.001955720116670405, -0.009117084190565948, -0.007880495157274304, -0.00670446203444044, 0.002635098351610005]\n",
            "1\n",
            "Shape of context ids =  (17, 22, 50)\n",
            "Shape of generated embeddings =  (17, 20, 1024)\n",
            "[0.006878677271402012, -0.005640076772383256, -0.0021370305233176625, 0.0005403141811776939, -0.0050856807546135014, 0.005559511469651771, 0.0015947253469619227, -0.005254955330150956, 0.0037945317456647256, 0.0014244242374843452, 0.005170720456931122, 0.007142104281431077, 0.0168752449458907, 0.004532163230337841, 0.004124516409582122, -0.0029605550013162858, 0.0016448666519011113]\n",
            "0\n",
            "Shape of context ids =  (47, 35, 50)\n",
            "Shape of generated embeddings =  (47, 33, 1024)\n",
            "[-0.0035384598707347927, -0.0007880947036310223, 0.0031273280800784655, 0.00473617506323675, -0.007210363949330453, 0.006393984371925399, -0.003669611320347599, 0.000523262041099315, -0.001977588265436612, 0.003081874770158619, 0.00318661814111465, 0.005105726076362771, 0.002523705232033535, -0.003258573041670423, 0.00466051722166508, 0.0026338701354851374, -0.0012514095995660075, 0.0038923730704937044, 0.0020607614014393635, -0.0009170901689685707, -0.003983014464347434, 0.007165924503704659, 0.0005066512643705007, 0.006366251562174814, -0.0035103985081677406, 0.003419512737025343, 0.0028065544587813442, -0.002379733026042562, 0.010360725977989205, 0.005255278834937371, 0.0002313491805740769, 0.005614376384091184, 0.009269395505498323, -0.005549458794474858, 0.0065281155429488535, -0.005634713782141121, 0.0036966862149160748, 0.003999786667009175, 0.0024442146432280564, -0.013692794106191286, 0.004773440590972975, -0.00479377859297377, -0.0007023098232009163, -0.008747737461687975, 0.008161614844993892, 0.002139402596147496, -0.004087415270362271]\n",
            "1\n",
            "Shape of context ids =  (48, 35, 50)\n",
            "Shape of generated embeddings =  (48, 33, 1024)\n",
            "[0.010002135378385901, 0.006208534312493516, 0.015720427599717368, 0.02051965005881584, 0.004617105061432388, 0.01637408281035846, 0.0077828176029015594, 0.007964420779008682, -0.0008119220393799272, -0.011094448816470504, 0.003048724389580694, 0.0062898443904487065, -0.00025670153883794455, -0.003676453362637793, 0.0016144661731990102, -4.5468742121446475e-06, -0.006907832122239501, -0.000393422102661134, -0.005595776223117355, 0.0026102262167936575, 0.013915266970340926, -0.004326843385418518, -0.002292711157224403, 0.005875186856095687, -7.132815572832542e-05, 0.000270985723564839, 0.013288601177376992, 0.008765618360365579, 0.0031968180501605404, 0.0010333666689803067, 0.0005371293661150608, 0.0013823826371989248, 0.0021865664002581027, 0.008669311353222449, 0.012882186957142494, 0.0040554671169275025, 0.0010450637626036041, -0.0030632484847088067, 0.013207880738147222, 0.004548652020730515, 0.005119100889070675, 0.003781263578235894, 0.001684319519275353, 0.0017312416788487239, 0.005706876276297573, 0.012868687154423242, -0.00016179025313931562, 0.00985407352324658]\n",
            "0\n",
            "Shape of context ids =  (60, 44, 50)\n",
            "Shape of generated embeddings =  (60, 42, 1024)\n",
            "[0.013055030164528707, 0.0010628837265045377, 0.007702590084515275, -0.002328733857876404, -0.0002876999622528204, -0.00012433466842291332, -0.005144821813388489, 0.013654889187648678, -0.0037994326967236702, -0.0008249569872759821, 0.009404763709625286, -0.007418892282357774, -0.0021892991640671566, 0.008836365865136031, -0.0018666557700726116, 0.017784662646401255, 0.00520403571373663, 0.007147604073315961, 0.008999423123011892, 0.011720826287122085, -0.00029050636760530324, 0.0009888144201681826, -0.0034724363144050586, -0.0009701901387870748, -0.0025734116432626513, 0.0026722302060685856, -0.006713527603853566, 0.013458731487427636, -0.005350959175147677, -0.0008794418853658894, 0.012347210855568846, 0.0007154283130574868, -0.004601970588821488, 0.008162983584232583, 0.0009764752720002434, -0.004873654722700849, 0.003682513356011441, 0.0018011762137705642, -0.004902454439647127, 0.004586666626112544, 0.0004192626070107508, 0.002054424203781589, 0.0013706398210331372, 0.002013052231420302, 0.004257045534944025, 0.0041980224380751, 0.007710330829449201, 0.009054438075793314, 0.007672303067651724, -0.0069887426352916344, 0.0013365522739756366, 0.030102494605102947, -0.0022877204880084414, -0.0027149676312888003, -0.0018482862838027359, 0.011381027603920301, -0.0023482681250264, -0.008767604514605409, -0.0006645700490740378, -0.0012003552749617831]\n",
            "1\n",
            "Shape of context ids =  (12, 26, 50)\n",
            "Shape of generated embeddings =  (12, 24, 1024)\n",
            "[0.00968593540517304, -0.013573353867178123, -0.005109580870542854, -0.016390875733642524, 0.005773277416990043, -0.005085977921491273, -0.010680760771634823, -0.017580044642261327, -0.007097552115108276, -0.004763972117499096, -0.005583591122634364, 0.005517163873784219]\n",
            "0\n",
            "Shape of context ids =  (43, 30, 50)\n",
            "Shape of generated embeddings =  (43, 28, 1024)\n",
            "[0.003990035222609886, 0.00012405928812313504, -0.002388040768195765, 0.0031780152278315654, 0.009120761518090603, 0.00021766789207807355, -0.015005663813250672, 0.011841873737466813, -0.005252677342295577, 0.007786719285491017, -0.006100580251576933, 0.011564860481121287, -0.0005478386421676381, -0.0030282777839450623, 0.0017609139201620284, -0.00814844911706637, -0.02103451443836235, -0.0016804066955111402, -0.011409802134229116, -0.008302295255489867, -0.0005412259609753081, 0.0029617982816034782, 0.008252454646537899, -0.014043815725290187, -0.001902959813544872, -0.0006471863455601579, -0.0033547737322313274, -0.0004241969939446632, 0.002092715811795642, 1.5749472868265003e-05, -0.010312046374565398, 0.006262058848346896, -0.0023295471365827325, 0.0030911307283076894, -0.009975626144388891, -0.005252148486761143, -0.011502362435036655, -0.0054082936175334564, 0.007203600792157279, 0.007875394391703594, 0.01354075148626066, 0.023146401446439313, 0.026073375929428266]\n",
            "1\n",
            "Shape of context ids =  (20, 27, 50)\n",
            "Shape of generated embeddings =  (20, 25, 1024)\n",
            "[9.983507041195278e-05, 0.011242150544325745, -0.005795957274071953, 0.004646750237580735, -0.007851401503995267, 0.005808253699721415, 0.002546452055503323, 0.012502866027347181, 0.017340915969157322, -0.002580885037970246, 0.007939403793983502, 0.015210075353024877, 0.02493715126190312, -0.014917240489218386, -0.002709952150572311, -0.004475009697764964, -0.0010882896965156038, -0.00047819644237279135, -0.014939902549883755, -0.0035395247141802124]\n",
            "1\n",
            "Shape of context ids =  (5, 18, 50)\n",
            "Shape of generated embeddings =  (5, 16, 1024)\n",
            "[-0.0016004010050494344, -0.009249613242354826, 0.006936635828272604, 0.00645598372527445, 0.007687379067697798]\n",
            "0\n",
            "Shape of context ids =  (38, 46, 50)\n",
            "Shape of generated embeddings =  (38, 44, 1024)\n",
            "[0.0014924410183398539, 0.00258656708797389, -0.001275163151973402, 0.004522729776734228, 0.0006856978310127358, -0.002782169112781328, 0.005019478125321852, -0.0033368377847377167, 0.001614062950314595, 0.013587168789115367, -0.0040532304684708885, -0.0026583169616520605, 0.0004237141349351857, 0.0010572720888367608, -0.0022656676763376923, -0.008391027342611324, -0.0005650583910272127, -0.006082688906692131, -0.005524155103546491, 0.014901558328152273, 0.009621785753242048, 0.0044318131597265165, -0.0003302383938635752, -0.003494571867236118, -0.006681536148880696, 0.00734474544378827, -0.004377695605164433, 0.0029474665678890233, -0.0029505836672933583, 0.0077484176597408805, 0.005547720972161257, 0.0036686178819991255, -0.003488885264384104, 0.008968470669784486, 0.003996335611134327, -0.005518095482323458, 0.005698000975371542, 0.016863954702785122]\n",
            "1\n",
            "Shape of context ids =  (17, 29, 50)\n",
            "Shape of generated embeddings =  (17, 27, 1024)\n",
            "[0.008096463678296258, 0.016906609404259143, 0.024661526150490925, 0.020766879507527848, 0.008445834529781374, 0.011077819772318824, 0.015669887635673754, 0.017380636430354052, 0.00938874032728639, 0.018394509860900143, 0.007529722395664369, 0.00859776329811676, 0.006711043417461345, 0.013426489657615549, 0.0019059156506738787, 0.0084539768151941, 0.00038556623019303515]\n",
            "0\n",
            "Shape of context ids =  (12, 53, 50)\n",
            "Shape of generated embeddings =  (12, 51, 1024)\n",
            "[-0.0030835209998751147, 0.0022120440479430465, 0.00036584756519285013, -0.01122458113330064, 0.007316420139341062, 0.0019631799935413913, 2.461419278286205e-05, 0.000616781487466748, -0.0011767241628827013, -0.004257049371768555, -0.0027656262174542254, -0.00638071259300735]\n",
            "0\n",
            "Shape of context ids =  (13, 22, 50)\n",
            "Shape of generated embeddings =  (13, 20, 1024)\n",
            "[0.0009856257136505065, 0.004331435995140964, 0.002690727203013342, -0.011919301966455268, -0.0069325357381373465, -0.002840792618951582, 0.01762727216953408, 0.0020901270895024027, 0.019551833399229206, 0.002504032718316499, 0.006143436935644786, -0.0023194696578722565, 0.00752718416845255]\n",
            "0\n",
            "Shape of context ids =  (10, 25, 50)\n",
            "Shape of generated embeddings =  (10, 23, 1024)\n",
            "[-0.01251831298192201, -0.0023930397518518516, -0.022382140215825075, 0.006191463252480131, -0.006012252569613945, -0.016022641257620762, -0.00419436077656125, -0.0007317671170745772, -0.005846900817817057, -0.00908764679687124]\n",
            "0\n",
            "Shape of context ids =  (10, 44, 50)\n",
            "Shape of generated embeddings =  (10, 42, 1024)\n",
            "[0.007165116631518509, -0.0014561337250501624, -0.0040559620230256905, 0.009342716414209917, 0.008118082464293633, 0.0012847255991824855, -0.001088707628150587, 0.004941001398006764, 0.008053420068693282, 0.0014842087207398436]\n",
            "0\n",
            "Shape of context ids =  (23, 48, 50)\n",
            "Shape of generated embeddings =  (23, 46, 1024)\n",
            "[0.015080851650978389, 0.011770799218660007, 0.0024936356989585943, 0.008065305780216173, 0.0059444832950492, 0.026400259056363968, 0.0030289347738390563, 0.009150999278335802, -0.0011948204364969008, 0.005684616936591169, 0.0053405269706714035, -0.0048811404572869175, 0.004117874297139679, 0.004934751965929535, -0.00543936888858525, 0.00023117041816724603, 0.0050668725254542114, 0.00018031483843033666, -0.0014445586075225946, -0.004812731012216112, -0.008219973424007442, 0.010840797139849201, 0.012037398527536426]\n",
            "1\n",
            "Shape of context ids =  (15, 36, 50)\n",
            "Shape of generated embeddings =  (15, 34, 1024)\n",
            "[0.010883989689688178, 0.0025767353549781546, 0.0035206817173415775, 0.006604935014162325, 0.00461407793467572, 0.004069319547895624, -0.006512317695342063, 0.014070883720154807, -0.009024893510684251, 0.003271130200713602, 0.0013930651250859682, 0.0034322596764541557, 0.0005002167243289407, 0.009852776031030836, 0.02049588015711379]\n",
            "0\n",
            "Shape of context ids =  (59, 58, 50)\n",
            "Shape of generated embeddings =  (59, 56, 1024)\n",
            "[0.008086597757124094, -0.004282362460685363, 0.0032610543700381336, -0.0022378312080491014, -0.005829278240720929, 0.0028401112498061465, -0.0016514578191618057, 0.004820665256254131, -0.0013805023015846826, 0.009172343998610444, 0.004004161858220969, 0.008856225739529171, -0.0009641482175278984, 0.00649424620978607, -0.004771066423245429, -0.0013501862746731301, 0.011515551176225254, 0.0009998712345833383, -0.0015651557108261234, -0.0038724629568491764, 0.02249458637038515, -0.0016571018829741508, 0.003052741114894767, 0.002672108225523415, 0.00466389100240822, -0.008269603516808388, 0.004576812296227218, -0.0003503209332090288, 0.004900589193312044, 0.0038589948110606762, 0.006071054001768062, -0.005029361358168671, 0.006117978930617036, 0.00047795383911264366, -0.0072139039758267985, 0.011028961776955407, -0.00010833774635006403, -0.006283212492058333, 0.003368200993114787, 0.007239044102650638, -0.0005099757207021453, 0.002446097765653121, 0.008666882516276278, 0.016182690564255607, 0.0018710250722365188, 0.00694094806497312, -0.0003339723970692135, -0.0016184306711769143, 0.010042432789987288, 0.0039893053906000986, -0.0028401836164751635, 0.023765223870473813, 0.011740563221857363, 0.00407685531831703, -0.0025396389501111116, -0.005720485711776746, -0.003901409093765551, -0.0042025688785543025, -0.0029459044892282313]\n",
            "1\n",
            "Shape of context ids =  (17, 21, 50)\n",
            "Shape of generated embeddings =  (17, 19, 1024)\n",
            "[0.0197795832930209, 0.008498768458139239, 0.016290548754957612, 0.016174928365558117, -0.003692791819718734, 0.00089183921621346, -0.009304642063852953, -0.004107425229999961, -0.003722481039858394, -0.010694507553520643, -0.010653959044134353, -0.00311977380434111, -0.0112042256866971, -0.0007515833553043194, 0.0008496790729092633, 0.01301908732125412, 0.005161739605227922]\n",
            "0\n",
            "Shape of context ids =  (26, 30, 50)\n",
            "Shape of generated embeddings =  (26, 28, 1024)\n",
            "[0.0037043933163846197, -0.00016420078281953465, 0.005030473422667616, -0.0011757435147744996, -0.006962348971759032, -0.005605540443715047, 0.01441094898132178, 0.008264264605012764, -0.008743648917819277, -0.004461675811524935, 0.0053208625024732704, 0.006098937447253168, -0.007496678680490731, -0.0011757435147744996, -0.006962348971759032, -0.0038285100748680634, 0.007764799742387497, 0.015122051189450758, -0.004209819014060183, -0.010876578447104228, -0.002082717495306077, -0.005004526461107162, 0.012666573547738319, 0.011415671728551994, -0.009330877937372861, 0.0019454875425992668]\n",
            "1\n",
            "Shape of context ids =  (98, 60, 50)\n",
            "Shape of generated embeddings =  (98, 58, 1024)\n",
            "[0.017202287196475177, 0.011318850869247398, -0.003982235092337305, -0.009627546774379426, 0.013237151694056593, 0.030620937625667467, 0.0027292640603463507, 0.022235769364063646, 0.015814476382001886, -0.006466108478161914, 0.0018026380512310425, 0.01627532505922318, -0.0004005988221251755, 0.00492306255944186, 0.007951888640491234, 0.005285778760082849, 0.010131209737664904, 0.0026821915960454135, 0.019052610044468565, 0.0021291481946263957, 0.012537205576109045, 0.005578669069677744, -0.007471016893987326, 0.02056247939443286, -0.0005807074598465078, 0.002363505979752113, 0.011932084265208687, 0.011694494664981094, 0.00906515733345259, -0.0017951310144831546, -0.0012309704786730435, 0.0021757096608015754, 0.007727908529545857, 0.001866074244743585, 0.01644894209721315, 0.001369490687011421, 0.0026033885884260144, 0.000430033759471371, 0.004549980063870862, 0.017210277565800423, 0.00628349848813059, 0.005197128005158902, 0.002919777568962445, 0.0003106318584245442, -0.006584752320673459, 0.0012980297588001122, 0.0011119434071203544, -0.008495985394823774, 0.013738185156440026, 0.008987787093550045, 0.005702418438835998, 0.008273191913139676, 0.018067250573949423, 0.004339273037809714, 0.0005289540475948396, 0.005023822065822969, 0.00862410585023099, -0.004410787695593064, 0.01130344377770598, 0.011159342394194027, 0.0033481242964323124, 0.01102706403821685, -0.0011184467866200976, -0.0032608387557382613, 0.0002209112359640217, 0.004809568635006431, -0.0008575211337529254, 0.0032931731673215836, -0.009439604552335367, -0.006052983355577733, -0.0040586742832431355, -0.011738334157892978, -0.007331635343072256, 0.005106472953229968, 0.005221561264193042, 0.0029007577608067864, -0.009441183256058139, -0.005715943950885308, -0.0068066590335547515, -0.002845486401329972, -0.0070498939823551154, -0.0024917257535140313, 0.005246901887934048, 0.0052791261809943535, -0.00649431694522491, 0.0015490198861698445, 0.0045043219773494205, -0.002843319208934377, 0.011120482104767385, 0.005583186798495027, 0.002736293021371239, 0.004663824595096147, 0.0150068639222809, 0.004968441710911975, -0.00869735835298826, -0.0011542125378412038, 0.00317024107647213, -0.002097128016414858]\n",
            "1\n",
            "Shape of context ids =  (58, 33, 50)\n",
            "Shape of generated embeddings =  (58, 31, 1024)\n",
            "[0.00012047999230575938, -0.011483026941372524, 0.0012733706300878112, 0.01735417675138251, -0.008278394682556131, 0.004250312116290353, -0.0012897776435433375, 0.00046297307525968617, -0.00023500298134747157, -0.002465836572355329, 0.0027335656542391007, 0.017831815840319603, -0.005227873766674453, -0.005929556992896323, -0.004814894741298303, 0.016945983458716302, -0.009773107061727902, 0.003600136402864711, -0.00039658283737235953, 0.003429354899552843, -0.00837873194761111, -9.614266229798505e-05, 0.013941879103185784, -0.0031608377879820183, 0.006194559245651969, 0.001951376539737895, 0.0076276106806669, -0.0051186069351198665, 0.0017317261126284695, -0.0014160816981042704, 0.005403106957260206, -0.008901281107407493, 0.006135904636160679, -0.000818919702680887, 0.010199779188269531, 0.0017841210661799778, 0.004802124607557254, -0.0008944092556220085, -0.0024471280016613987, -0.00166383637245169, -0.009986216682894641, -0.00027358605183718074, -0.003542146774975663, 0.006141392103018006, -0.004347151479186727, 0.00483974184642193, -0.002148778227488416, -0.0055053564640275, -0.0005552225921746867, -0.0029111637437419327, -0.0041947128009572525, -0.024695800913104905, 0.0051183980643448495, 0.002971984439764955, 0.021143924197809208, 0.004920098806223905, 0.003007014870197628, 0.00906767415115913]\n",
            "1\n",
            "Shape of context ids =  (42, 31, 50)\n",
            "Shape of generated embeddings =  (42, 29, 1024)\n",
            "[-0.0031233333350931054, -0.0039392763829558435, 0.0034011535579003592, -0.004733057602582643, 0.00022033813706912042, -0.02157649659812301, -0.0021888194243782732, -0.0020441619459139323, 0.0021159149837168506, 0.00417926850987745, 0.0015928733896811644, 0.010066578073596994, 0.005603929175473847, 0.0017616111338851523, 0.010994160060468298, 0.003748849897809018, 0.0071616855163613635, 0.021889018921748566, 0.012258974656125096, -0.004935754406733395, -0.0002891423975877562, 0.004699797045063292, -0.005681747112873836, 0.010958929258436001, 0.016949654963696048, -0.000179738868913167, -0.0032954188944201565, -0.004494351312435659, -0.01033938327451806, 0.010700737623670605, 0.006889545947691052, 0.01602359709889356, -0.0015087266731370619, 0.010362502314559189, -0.003987263499204667, -0.003367692277841818, 0.004261604657358475, 0.0059444372971029225, -0.00010689299198121362, -0.0039618637291823685, 0.006330385592438968, 0.024550373890532582]\n",
            "1\n",
            "Shape of context ids =  (21, 46, 50)\n",
            "Shape of generated embeddings =  (21, 44, 1024)\n",
            "[0.017880594822437552, 0.019000992780336543, -0.0029959615046285157, -0.002349605001603033, -0.0033690283026105916, -0.0022432998373695793, -0.006467574017127238, 0.004062966942564858, -0.002428197310507585, -0.006065868511711869, 0.007629850184144971, -0.011619137478680324, -0.0015814881600072618, 0.0011253951579626366, 0.00538742663413289, -0.0011701578277107199, -0.007808813711903895, 0.0004161187091420671, -0.0037867411348752986, -0.003948163971776353, -0.0002625243021712591]\n",
            "1\n",
            "Shape of context ids =  (34, 31, 50)\n",
            "Shape of generated embeddings =  (34, 29, 1024)\n",
            "[0.0022559012655060193, 0.009236701118879864, -0.018602631592784746, 0.010492858923628643, 0.00040015967563092623, -0.014458049649585353, 0.007597444234030653, 0.0005917149931846666, 0.013923153590440052, 0.0081383104781269, -0.006075576617666395, -0.004439316155063959, 0.003163902226346823, 0.004084228648447866, -0.002672411026846281, 0.0013475884248578041, -0.0021282286838949665, -0.005455611572033376, 0.001896545332488131, -0.00786486262162119, 0.0008983727603890657, -0.004875513700511647, 0.004590713943730407, -0.0027647627759771845, -0.006469757488568055, 0.0014944675623453918, -0.0024346732911908475, -0.002590166056279486, -0.007576072124936673, -0.00458883404114245, -0.005852325816363191, 0.012076573655219493, -0.012530928184745705, 0.024550373890532582]\n",
            "1\n",
            "Shape of context ids =  (24, 32, 50)\n",
            "Shape of generated embeddings =  (24, 30, 1024)\n",
            "[-0.0028626857592522962, -0.01215325551350361, -0.008190088854941482, 0.0018976016586691458, 0.005269844555400027, 0.011879780192550564, -0.0005676985539691616, -0.0088730839343782, -0.007126555162176374, -0.004622854228447674, 0.002905660992715079, -0.011433388825480506, -0.013835440500088225, 0.0005966380473012122, -0.0075938088250243, -0.01336327289163819, -0.0027348899147909833, -0.001194242055930772, -0.0046808653946159426, 0.00164946405159712, 0.002789047231544828, -0.004504306578987401, 0.00045742237428688287, -0.005815229667708384]\n",
            "0\n",
            "Shape of context ids =  (2, 22, 50)\n",
            "Shape of generated embeddings =  (2, 20, 1024)\n",
            "[-0.0024694444320999764, 0.006977257564955153]\n",
            "0\n",
            "Shape of context ids =  (16, 31, 50)\n",
            "Shape of generated embeddings =  (16, 29, 1024)\n",
            "[0.017190449195038583, 0.013007826956305103, 0.001581434751512591, -0.006105213255244218, -0.004853356028639703, -0.008265580310175361, 0.013733206996205767, -0.0025251386728396856, -0.002263268666136956, -0.0011220998115277325, 0.005506110110612402, 0.00032256863082343794, -0.0038751240074694922, 0.002543763876164778, -0.005622243069162571, -0.0005937183221552308]\n",
            "0\n",
            "Shape of context ids =  (9, 36, 50)\n",
            "Shape of generated embeddings =  (9, 34, 1024)\n",
            "[-0.000631129189590259, 0.0009380686161364338, -0.008475169730034208, -0.000670020680800576, 0.0071834949485113, -0.004782370823006333, -0.0028806187899887013, 0.015537437320631398, 0.0033112568357864802]\n",
            "0\n",
            "Shape of context ids =  (39, 37, 50)\n",
            "Shape of generated embeddings =  (39, 35, 1024)\n",
            "[-0.006219695896561461, -0.006254345069172424, -0.0059889067009711045, 0.005648422934064002, 0.005371362171172222, -0.008538820502373312, 0.005859900912241756, 0.0006043687596199258, 0.006434806609831867, 0.012170807749943047, -0.005626047932196343, -0.0014141992442470535, 0.00889922320543844, -0.005343863024791062, -0.00937482759619949, 0.008705342515213488, 0.011120686139292957, 0.009329457411502063, 0.016285681064670956, 0.012397912800419622, 0.0001665608170437086, 0.0030467250677150204, 0.004993447349070616, -0.003910367701337236, -0.006478320366090884, 0.005476611647630136, -0.001529888463744061, 0.0031898260290940277, 0.0020934651470270182, -0.010896977863088372, -0.001939457022152575, 0.0054472627853101585, 0.0025921379285402204, -0.00043382804024076903, 0.01134279034397423, 0.009352150175345741, 0.0009265065228563882, 0.0007800053952616344, 0.0050383931882151956]\n",
            "1\n",
            "Shape of context ids =  (41, 35, 50)\n",
            "Shape of generated embeddings =  (41, 33, 1024)\n",
            "[0.01647189325182229, -0.006180907599327251, 0.0010083691533282035, 0.00677946231027298, 0.0004674067372927008, 0.013507853811148607, 0.00748284382197281, 0.0016671555532639104, -0.012875361582298584, -0.009707253021305763, 0.0008634290043119108, 0.0023894199498310322, 0.004889853310563315, -0.003001919056866124, -0.002884679884548152, 0.0010077420935691148, -4.096494672012341e-05, 0.013870451915636295, -0.0029615500877601636, 0.01418555011088074, -0.002893706989673526, -0.0046981521151760065, 0.0036451004062598713, 0.008733979962908752, -0.0031039162963767152, 0.004267197777807041, 0.0012853988602308584, 0.0005848992464962066, 0.004325028873216235, 0.003969188415697188, 0.0025513093165727696, 0.00740380331196017, -0.004592116641561006, 0.005041884585834491, 0.0031296685795420367, 0.00918935475112903, 0.0011076282592057396, -0.0016896488018574018, 0.004062847332647834, 0.03582246371115616, 0.010563199056569772]\n",
            "1\n",
            "Shape of context ids =  (4, 47, 50)\n",
            "Shape of generated embeddings =  (4, 45, 1024)\n",
            "[0.0052375630873029875, 0.003245157399657149, 6.754410291149624e-05, -0.001070526168659569]\n",
            "0\n",
            "Shape of context ids =  (6, 41, 50)\n",
            "Shape of generated embeddings =  (6, 39, 1024)\n",
            "[-0.002539122105279578, 0.012683200008218086, -0.003026545181298318, 0.010100258005119636, 0.0008532628151501299, 0.0056317179827374275]\n",
            "0\n",
            "Shape of context ids =  (8, 38, 50)\n",
            "Shape of generated embeddings =  (8, 36, 1024)\n",
            "[-0.004452043461043331, -0.002237372280600564, -0.0014306228936938226, 0.002366246737121206, 0.007696010929350905, -0.003060322562471531, 0.00034262100756104303, -0.003432114160546007]\n",
            "0\n",
            "Shape of context ids =  (4, 34, 50)\n",
            "Shape of generated embeddings =  (4, 32, 1024)\n",
            "[0.006795644568758992, 0.007285549347150422, 0.00464813656945338, 0.002855272884150303]\n",
            "0\n",
            "Shape of context ids =  (82, 52, 50)\n",
            "Shape of generated embeddings =  (82, 50, 1024)\n",
            "[0.009171376086000878, 0.013702533453897558, 0.00987728701471724, -0.0001571538867892741, 0.011676448618426807, 0.009708240732985965, -0.004221714746127721, -0.0014380962447957143, -0.0015907572703781625, 0.006157423541722551, 0.007717007748971427, 0.0009856292352568826, -3.242870325091364e-05, -0.003160618097439283, -0.013370885990661918, -0.0027786946845123695, -0.002652028804740675, 0.011141345758005627, -0.0012760255325784701, 0.006921016417308579, -0.0021390943391187043, 0.002271835454621396, 0.0036190705517482355, -0.0012328346641226062, -0.004240716931334987, -0.00516634122309938, 0.003290041323940126, 0.013872157932054405, -0.0006342919457237632, 0.003308443542463143, -0.003066800295956131, -0.0037695409040026107, 0.000577346074351226, -0.011280538595331433, -0.008587982018298135, -0.0077405736318523636, 0.0009768340372014943, -0.009211094372858497, -0.004295065876249282, 0.006668155420883295, 0.001708678911854584, 0.0050780056446456, -0.005375997186244301, -0.00955225309600652, -0.0050433682347375, 0.0018260468186781509, 0.006236680610787256, -0.001774443104477541, -0.0014156565331404636, -0.016002134062854827, -0.000803648592990511, 0.0001225068280245978, -0.002819755731486061, -0.004989667658199843, 0.004900426474437479, 0.009243023011487656, -0.01383211928413175, -0.0020698237894976046, -0.0032893891871804285, -0.02380179982833397, -0.005305957585811672, -0.004226399983661489, 0.00038546191131689947, 0.014327327355886155, -0.003745655178136076, -0.00045270954031669436, 0.006951972744491286, -0.0008932968480053205, -8.039754508596768e-05, 0.008307177086862794, 0.01619604206618013, -0.008846429630466446, 0.0021816113795694037, 0.016824945343159925, -0.0017992753161024666, -0.002836306574991454, -0.005332677559135845, 0.004372546500538495, -0.002853740694757789, -0.02335965999554901, -0.013080020101900422, 0.0071207859885475955]\n",
            "1\n",
            "Shape of context ids =  (6, 23, 50)\n",
            "Shape of generated embeddings =  (6, 21, 1024)\n",
            "[0.004668583333839359, 0.003140459904544615, 0.010061981912618497, 0.004325912042865336, 0.0021657407734437585, 0.01039858617300874]\n",
            "0\n",
            "Shape of context ids =  (5, 29, 50)\n",
            "Shape of generated embeddings =  (5, 27, 1024)\n",
            "[0.003810734974919683, 0.01676233241136331, 0.005901861330138908, 0.009354696821267345, -0.0012050784958941413]\n",
            "0\n",
            "Shape of context ids =  (14, 30, 50)\n",
            "Shape of generated embeddings =  (14, 28, 1024)\n",
            "[-0.002261591809326546, -0.000827837454494329, 0.01635261179747734, 0.005142224830275441, 0.0079687313169714, -0.008924741780458049, 0.0004045284334941763, -0.005274951815977147, -0.010763533789556207, -0.00772319671626873, 0.0029044754542155715, -0.009546102226105782, 0.011262020524756937, -0.0017629125217979436]\n",
            "0\n",
            "Shape of context ids =  (44, 22, 50)\n",
            "Shape of generated embeddings =  (44, 20, 1024)\n",
            "[-0.0010030723785929593, 0.00267910560377432, 0.011401308802707177, -0.0025392190590577336, -0.0006355496499736546, -0.006843964921017687, 0.0017501577990515216, -0.005567755068098753, 0.00419165249045631, 0.01618282008581673, -0.000894835112982643, -0.0016244212716003403, 0.00224376027936427, -0.0014180745576595655, -0.0007744697400994483, -0.012165011765984803, 0.0032472658282657854, 0.007642395676707804, 0.0031267496524568137, 0.005511521799917318, -0.015576600680143807, 0.004748610835074866, 0.006659356690731424, -0.00997675970909313, 0.005924683484522575, -0.011328668750365978, 0.0003469884261591005, 0.009783214693584341, -0.0027947884317806406, -0.011256077205857196, 0.000999985965063388, 0.0011189280958855566, 0.015272993644335505, -0.009178750273463265, -0.016264228166953804, -0.0073142777175310885, 0.008248320844057844, 0.0020628712980396815, 0.0006171346494738827, -0.00986478902958273, 0.004163010798139213, 0.006258580773322008, -0.0010429535682609033, 0.0010892950499510334]\n",
            "0\n",
            "Shape of context ids =  (16, 35, 50)\n",
            "Shape of generated embeddings =  (16, 33, 1024)\n",
            "[0.007477364542052912, -0.004206784998662745, -0.0037232199571847627, -0.003139108802224655, 0.005122928856199646, -0.008383419243216395, -0.005790561472824468, 0.011896558615634685, 0.012169406370414594, 0.008226538441270102, -0.003796960112468797, 0.002393550831476731, -0.009831593333274213, 0.002194481864796671, -0.003956527692783614, 0.010046055961879574]\n",
            "1\n",
            "Shape of context ids =  (86, 30, 50)\n",
            "Shape of generated embeddings =  (86, 28, 1024)\n",
            "[-0.0018615116964610934, 0.00011428012504666185, 0.018553394288733215, 0.0023348689056070897, -0.006317589398804557, 0.0013453865147653233, -0.007370882895577325, 0.001458721954986686, 0.0042659961402478075, 0.0007219795587453908, 0.005318165981407219, -0.0010246457426112763, 0.01264146303184235, 0.012237265106705308, 0.014487814964752488, 0.0031059555857382293, -0.0035501974782619072, 0.007941230572669156, -0.0018300091115138043, -0.002853193478296651, 0.007555370868885802, 0.0041994685785766706, -0.0070788152122531756, 0.005516180284553229, -0.0012394640118600364, 0.007725821063180168, -0.0014662371749523118, 0.003513894508326023, 0.01070359179203706, 0.01191159753670945, -0.003883143079065121, 0.009272233895509479, 0.017875827845955428, 0.007485337016987614, -0.0035306185456344488, 0.007914913670219903, 0.0009478176776781311, 0.017838847117548084, 0.013205926202431328, 0.0012638066562569452, 0.012953142334163203, -1.4130313653974251e-06, -0.00519181483302514, -0.00012330700133134087, -0.0029502502240575266, -0.004693324166311186, -0.001784686862407625, 0.004125201572252182, 0.0005862524226813548, 0.004234012306272105, 0.003999531156873322, 0.007107605767162438, 0.0008624130274321422, -0.002342146408636836, 0.016065609366478384, -0.006878474806436922, 0.004015568796603475, 0.007028569451999071, 0.004591319819870218, 0.006518019880388692, 0.007520360347781561, 0.02373011332171397, -0.0019919082214892112, 0.007211672625392869, 0.009652446116206193, 0.0015824402963744433, -0.003998934617918755, -0.00035345078273556804, 0.0028223207547853233, -0.004416054429005574, 0.007110696704575485, 0.005002690948155457, -0.000317495562694603, 0.0077348605193037654, 0.0035047275619035645, 0.009501457272411548, 0.0048403809827505025, 0.00046876817454436344, -0.005539879526509139, -0.0035841090030771738, 0.0049882668130294405, -0.0059041659286776845, 0.0012844993093711395, -0.0062411188710679456, -0.0018792823726163773, 0.007287238172352772]\n",
            "1\n",
            "Shape of context ids =  (53, 30, 50)\n",
            "Shape of generated embeddings =  (53, 28, 1024)\n",
            "[-0.001420422174601299, 0.00011428012504666185, -0.003971472954348159, -0.007718674940914592, 0.004327201291005167, 0.01065520914337665, 0.005085168989828823, -0.014573399537864264, 0.003832886278530623, 0.012068559132274004, -0.0009954040228876693, -0.00436518689868232, 0.009364811409596996, -0.006902030496955073, 0.007025644516002356, -0.007113095420966904, -0.0075148092996641935, 0.006090297641514133, 0.01020779181440048, 4.172719451389639e-05, 0.015489022468955227, 0.004662171728909925, -0.009529217077343333, -0.007252906295331162, -0.01564876245479354, -0.0044493158654480185, 0.002313425954846273, -0.005752241489593264, -0.0008916542666156602, 0.012887913947477299, -0.0030702858038613853, -0.0021145947761656964, 0.010849575181699342, -0.0024650426365951717, 0.00280031032059469, -0.005208696336564701, 0.0019633433275127268, 0.00037503748482663467, 0.006950497632772112, -0.012438751411176932, 0.008373880575883655, -0.00418996844502999, -0.0014779512707718823, 0.00674711090675828, 0.014314756565909192, 0.002058503726038907, 0.011177103715908743, -0.004695738350741456, 0.0006226222174916529, 0.003425552263706777, -0.007084085005869513, 0.007287241437779812, -0.007372943342488725]\n",
            "1\n",
            "Shape of context ids =  (99, 38, 50)\n",
            "Shape of generated embeddings =  (99, 36, 1024)\n",
            "[0.002716226069028578, 0.00011428012504666185, 0.018553394288733215, 0.012659882433126768, 0.013433708931453717, 0.0024037398628024677, 0.011011727036020602, 0.004315830290427887, -0.0012725805347867315, 0.0014068608224988566, -0.0013394346599852724, 0.004057442731790515, -0.0026324544034650897, 0.010971201663061527, -0.003442262798092667, -0.0037417167249316208, -0.0066126008097313616, 0.003893819084083816, 0.005917813378891879, 0.0023795665155148527, 0.005810755008875883, 0.015480932606616685, 0.010808560087809838, 0.017242688504438775, 0.0020485671750107444, -0.002329274981796914, 0.0035276268430332416, -0.006910228528790247, -0.0038975647750589815, 0.003041685241498726, 0.00047226162561336035, -0.003901725920457011, -0.0031387159263545072, 0.004607463611819185, 0.006451572877494982, 0.003941296072625278, 0.012453814865369037, -0.0011282983050989515, 0.003980517207935463, 0.002524430391887715, -0.0024151285506945896, -0.0029836760417034066, 0.004042925742464831, 0.0013766339335461453, -0.006532545422321559, -0.0009409428615280527, -0.0066715621085071085, 0.012625356255688934, -0.0025030029896296424, -0.00904448347764978, 0.0006090972860429626, 0.0019357883265124305, 0.004970404148139096, -0.0012705826964349853, 0.013323765773937643, 0.0024622448406773855, -0.00038025302085742396, 0.004080193934252445, -0.010283475272262876, 0.01683725209492574, 0.019324177205089655, 0.0017114338533209168, -0.007427773474394901, -0.0006156636524110581, -0.00023959972977536382, 0.011202072788273653, 0.0007152647928127077, 0.007213303214666666, -0.008622343066167559, 0.00779088020741862, -0.004203496588316243, -0.007074385189424801, -0.012004220796825393, 0.010787744964588342, 0.0003117596039904432, -0.012800791023209968, 0.003509730925840743, 0.011668863762406546, -0.0045244419011964965, -0.0037494531684842515, 0.004369529210987366, -4.2819217393722886e-06, 0.00838959444484999, 0.009447179387783373, -0.005138348837850312, 0.004562629073188873, 0.005096340465115645, 0.004402297810018423, -0.0007993821167247006, 0.004067129719677117, 0.0030960811704972002, 0.0028923415478467568, 0.013087526850589322, 0.011681199320321412, -0.00980171505227645, 0.0003149645593708783, -0.006446984222861829, 0.0072872368292943674, -0.007372949926017706]\n",
            "1\n",
            "Shape of context ids =  (43, 32, 50)\n",
            "Shape of generated embeddings =  (43, 30, 1024)\n",
            "[-0.007016237340792486, 0.00011428012504666185, 0.018553394288733215, -0.008093151811688888, -0.014711537927798172, 0.007970538472619637, 0.03049327211306263, 0.00499901289232899, 0.0031092436772913365, 0.007033075746474222, 0.0025078738211569934, 0.010701021487648177, 0.00030158221156026144, 0.012030054525268952, 0.0028938474718376464, 0.002673087632496904, -0.002905927496775413, -0.0038557940838266154, -0.0011474524753793958, 0.004606601787509134, -0.012114151996987252, 0.0003307121467514662, 0.005078943350099507, -0.006875802468414349, 0.009189774787955685, -0.0027882039967852715, 0.014999487792124455, 0.0015088909163978315, -0.0033415259157891343, 0.0038101358172752953, -0.002215887886425504, -0.0022460801893761195, -8.803151175535666e-05, 0.004461239602846945, -0.002019221782650978, -0.0022936885839501624, -0.006691704636169662, -0.002944002355295794, 0.006784490376977222, 0.00468774017144824, -0.008014155269574986, 0.007287241437779812, -0.007372943198068545]\n",
            "1\n",
            "Shape of context ids =  (121, 50, 50)\n",
            "Shape of generated embeddings =  (121, 48, 1024)\n",
            "[0.007971323587298684, 0.012939764536732972, 0.00011428012504666185, 0.012620571596016816, 0.006343098307934269, 0.0012286421886895165, -0.00405843974108393, -0.0011299730960507243, 0.008686728884034286, 0.009364557569142562, -0.0026789162906339925, -0.003189117832245315, -0.0010594559824852468, 0.010068821466676679, -0.003524233469045157, -0.011256733053126201, 0.005799324503489818, 0.009218769908210604, -0.00512080554044199, 0.004104094255581003, 0.00647728855785447, 0.00833915484814535, 0.0015832099240599615, 0.005015775108649205, 0.00881757103631268, -0.0025474647268310946, -0.0007724941064959869, 0.0004285123614574166, -0.0019314462359354613, 0.0010565739726820943, 0.001285857919501956, -0.0050975997033061585, 0.00856669576007569, -0.003403121058306624, 0.00871462439551413, 0.0030594957132734635, 0.0032018447210563094, 0.005462691778370122, 0.0010637524366591772, 0.012850860576475642, -0.011166625497789287, 0.02298333728973982, 0.019965512340576197, -0.0018508107523555533, 0.01139073477573523, 0.005005554827523507, 0.018865909959848586, 0.0021125133396332064, 0.0033768211074482893, 0.016313936383204462, 0.008484865656397587, -0.006237912709430678, 0.004076255591417066, 0.006042734243692394, 0.0023964205749780376, 0.010068821466676679, -0.003524233469045157, -0.011256733053126201, 0.005799324503489818, 0.014661559803698765, 0.005462691778370122, 0.0010637524366591772, 0.012850860576475642, 0.0023259077930619983, 8.224775066878465e-05, 0.006648114495624214, 0.0019531543527591564, 0.026951417071510757, -0.002471056488445811, 0.013748642477366957, 0.021596211954450457, -0.008337986302706213, -0.009217452888258038, -0.014778267332815176, 0.015828918323467615, 0.00765379694053081, -0.0052605279408383535, 0.007930264512560825, 0.004579920288392714, -0.011166625497789287, -0.004065588890544599, -0.007689433026421789, -0.0005719620901345479, 0.006569206983090226, 0.005001667699378487, 0.015913593409536856, 0.001553360125853942, 0.010729513200658403, -0.0020435056550078506, 0.0010773935701536175, 0.006053829866573324, 0.0010180510424409779, 0.003795701234196258, -0.0012802343154102605, 0.0016660257430430648, 0.0013541174243333184, 0.002902289592498164, -0.004962164379776368, 0.01072752236694896, 0.005349042710587009, -0.00477939974310478, 0.011462802100799271, 0.016404413582124886, 0.008797264251825254, 0.009453523226142124, -0.0024332336328001247, -0.008791046414072216, -0.00223462092081458, 0.0033386634693540274, 0.009498545821164347, -0.008546492981035195, 0.02184463158679743, 0.0021963641115689825, 0.007021685816122651, 0.003524456809698457, -0.005456828741671416, -0.001353292214637556, 0.012401869315086654, 0.0017822336023982643, 0.004695465348580304, 0.0012722151415606017]\n",
            "1\n",
            "Shape of context ids =  (34, 37, 50)\n",
            "Shape of generated embeddings =  (34, 35, 1024)\n",
            "[0.0014142971810877881, 0.00011428012504666185, 0.018553394288733215, 0.006317880811025134, -0.003956055705174322, 0.0053451099582717786, -0.00244179110359255, 0.011530985630467208, 0.00043431135655306496, 0.0030826770266271938, 0.0022305483388986285, -0.013904627919714585, -0.0017252977039155276, 0.02282710596199422, 0.0046490001842964075, 0.009990844231367646, -0.0015080050828311703, -0.0021359690139396057, 0.0012902884156253756, 0.005369896735341432, 0.010386799981845867, 0.005215199506242243, -0.006224544796266075, 0.0012310030699230385, 0.000809247593191945, -0.006176203944537816, -0.002096227394019934, -0.0036887792073625665, -0.006544520815068341, -0.012935876083346898, 0.001811631352110352, -0.00978844739682115, 0.008354704905431472, 0.007287241437779812]\n",
            "0\n",
            "Shape of context ids =  (66, 27, 50)\n",
            "Shape of generated embeddings =  (66, 25, 1024)\n",
            "[0.003662801790195963, 0.00011428012504666185, 0.018553394288733215, -0.0018024710347314492, 0.006071560808024401, 0.0014068608224988566, 0.005253591236210427, 0.034062152965968075, 0.01484616141724473, -0.00021554404293055995, 0.0019354038627233826, -0.008991703415389907, -0.01571737422862422, -0.0021368764504548685, -0.001779304692331607, 0.0009532010815860303, -0.016502685284439603, 0.006014348029371571, -0.02129077439001037, -0.00246899763374131, 0.004482254186617259, -0.010771246411983763, 0.017963224603287625, 0.008197381411832794, 0.0009981981945332205, -0.0015608359715382474, -0.0029319146325027154, 0.00031161815574023424, 0.0033829381537884727, -0.012222146185697133, -0.007429188726394965, 0.0031090873008410695, 0.005100528956791095, 0.007646039986127562, -0.0034963938012992912, -0.0064550776466073025, -0.01016386483560051, 0.007573299099021824, 0.022412239964436455, 0.0014912325616389666, 0.0018808252177551468, -0.007119793157016829, 0.01203446777384172, -0.0020044926840891244, 0.0009288712718102943, 0.003968307553675133, -0.004670652908589546, -0.008080631329306698, 0.005682986151557456, -0.006907928959817582, -0.0009632469819583397, 0.002791299757670155, -0.0006930088608883392, -0.006634475095472681, 0.00940094534932238, -0.006809662665136784, 0.0009665034553412018, -0.012008054439320404, -0.005206159031483064, 0.005911390741175637, -0.002180956357005925, 0.01960598324546936, 0.01796315903982304, 0.025005861285535502, 0.007085441756620033, 0.007287241437779812]\n",
            "1\n",
            "Shape of context ids =  (20, 27, 50)\n",
            "Shape of generated embeddings =  (20, 25, 1024)\n",
            "[0.0035498999475294113, -0.008703996612566173, -0.0015768952010876093, -0.0006910473572361298, 0.020672961967449055, -0.00534758415133183, -0.007893850009850212, 0.0016545753039411335, -0.0011720877160769304, 0.010121030006121145, -0.000761081381194179, -0.0023040450857934047, -0.0006586257021581332, -0.0030005734341974253, 0.0037171884851575575, 0.005535460709725726, -0.0016841584897520079, 0.0009129782170619269, 0.003867855850240668, 0.0006510744733141394]\n",
            "1\n",
            "Shape of context ids =  (13, 18, 50)\n",
            "Shape of generated embeddings =  (13, 16, 1024)\n",
            "[0.0034370617095191847, -0.00035190737836338873, 0.009322387651423014, 0.011092733369292337, 0.011944437994134204, 0.009069038824785972, -3.441098423146676e-05, 0.0020868615168296856, 0.0006011130199112813, -0.016802917933972594, 0.0014941759027351509, 0.01103810321806772, -0.006410864405324901]\n",
            "1\n",
            "Shape of context ids =  (4, 64, 50)\n",
            "Shape of generated embeddings =  (4, 62, 1024)\n",
            "[0.010980345242890403, -0.005485023596791859, 0.004095610258445959, -0.0019497118991641368]\n",
            "1\n",
            "Shape of context ids =  (3, 21, 50)\n",
            "Shape of generated embeddings =  (3, 19, 1024)\n",
            "[-0.003831265629359175, 1.0341552512583899e-05, 0.0014136938150196936]\n",
            "1\n",
            "Shape of context ids =  (3, 25, 50)\n",
            "Shape of generated embeddings =  (3, 23, 1024)\n",
            "[0.005239322930428305, 0.002707224321789504, 0.013055242875553732]\n",
            "1\n",
            "Shape of context ids =  (7, 19, 50)\n",
            "Shape of generated embeddings =  (7, 17, 1024)\n",
            "[0.0019091409481916343, 0.026422666272878814, -0.004333110504195048, 0.006302219091683777, 0.003043040918278032, -0.0016758605218986607, 0.00036573389715499616]\n",
            "1\n",
            "Shape of context ids =  (31, 34, 50)\n",
            "Shape of generated embeddings =  (31, 32, 1024)\n",
            "[0.016153404856210658, 0.0020560680605140906, 0.0033628602797437924, 0.0084135971078511, 0.005446280517105606, -0.005813491085844995, -0.003927198906939822, 0.005471625156166771, 0.015762031259317733, 0.002159129986623043, 0.010474806033315912, 0.009052654338006505, 0.0045082466417079555, 0.001409535727565239, 0.010438500260261208, 0.009706712409316273, 0.004547869087849677, 0.01860319675546028, -0.004147458421189903, -0.001365491799361962, 0.0031119989542087723, 0.01978834136784826, -0.025469265209653712, -0.0006347905373900176, 0.015226708442705112, 0.011819372953982565, 0.0006109740497706184, 0.0016445099839899058, 0.011103050376360361, 0.007122810707132885, 0.006148229583111649]\n",
            "0\n",
            "Shape of context ids =  (5, 14, 50)\n",
            "Shape of generated embeddings =  (5, 12, 1024)\n",
            "[0.005556963830012289, 0.03219096430425452, 0.016679179123502762, 0.018736145848947672, 0.002732724557813526]\n",
            "1\n",
            "Shape of context ids =  (4, 6, 50)\n",
            "Shape of generated embeddings =  (4, 4, 1024)\n",
            "[0.0030552496565405818, 0.01585422126057286, 0.007740362525510136, -0.0003212371920350658]\n",
            "1\n",
            "Shape of context ids =  (42, 36, 50)\n",
            "Shape of generated embeddings =  (42, 34, 1024)\n",
            "[0.0006960333839157663, -0.0028799020356455704, 0.006893193858033442, 0.0033279412955380394, -0.004985141865593808, 0.003746248696253523, -0.01354614972049717, -0.00410481344058411, 0.004109610939876267, -0.005845028685019894, -0.01010595976276818, 0.004885099451060645, -0.008232019977680572, -0.006472109086433063, 2.7000135408646504e-05, 0.005712033113681514, 0.003799594813153817, -0.007584357721668766, -0.0042507188819714565, 0.0035403268485652006, -0.012809890961472609, -0.005003077199424817, 0.0029069963160119577, 0.005827034821663801, -0.0004526621466766301, 0.002110302816163312, -0.004237090023151622, 0.006430675658316431, -0.007932402093880834, -0.003318596231358904, -0.005806035833596551, -0.006215875030715796, -0.0013310213068077953, 0.0027250246454124344, 0.000527383882594482, -0.0023924121793470476, 0.004458495521951988, 0.0005338718180913323, -0.0028614032184274643, 0.008378984044308405, -0.0018849120028789912, 0.00857703203496385]\n",
            "1\n",
            "Shape of context ids =  (56, 46, 50)\n",
            "Shape of generated embeddings =  (56, 44, 1024)\n",
            "[-0.009066386925269398, -0.006954531767892799, -0.004014977486139497, -0.01377418966010282, 0.0027914950272689668, -3.344450128266048e-05, -0.007620963233435824, 0.006445910597171355, 0.002505594300070394, 0.012647879237533743, 0.005598171709038979, 0.015028241769732631, -0.002063669694708691, -0.0013729588597091909, 0.0034570656590403813, -0.011487962339361956, 0.009026513945354964, -0.006825025192050643, 0.001257550146435449, 0.006713220129843951, -0.0012370780903438571, -0.006976106174853295, 0.0017826343442510944, -0.007992608285919136, -0.001924041726709902, 0.0027525311323188363, 0.0007436021513740343, -0.00336888166622076, 0.0020399037754052847, -0.0039046724905726173, -0.009789051427503637, -0.007007252650964801, -0.013556167421995724, -0.0021316638859048, -0.0026537349846320365, -0.001212869015863102, -0.010659356068547114, 0.012182269052257668, 0.00016633175569798672, -0.0055338002048728185, -0.0027854156285022987, -0.005186395520197385, -0.002972674627163282, 0.019309305594073782, 0.001301500023259905, -0.00614980791601738, 0.0037009791131026757, -0.001350162093744571, -0.007228026768229136, -0.0059039451235523505, 0.0014214482548335166, -0.002724948681797912, 0.014487820559176206, -0.009732795505215108, 0.00045641234602003224, 0.0027723513395964496]\n",
            "0\n",
            "Shape of context ids =  (12, 25, 50)\n",
            "Shape of generated embeddings =  (12, 23, 1024)\n",
            "[-0.006823918310512259, 0.0020085788780141393, -0.0003839019242290166, 0.011404985145627222, 0.007007380433560684, -0.004535636586162184, 0.016114878788458655, -0.0003317355647928147, 0.010488129060237182, 0.0019385342267923989, -0.0029538259668796577, -0.001590447472131018]\n",
            "0\n",
            "Shape of context ids =  (48, 30, 50)\n",
            "Shape of generated embeddings =  (48, 28, 1024)\n",
            "[-0.00226055320161536, 0.016184929964119667, -0.0020735475099032696, 0.0035725675556174488, 0.008860026652410181, 0.003714809277880704, 0.003714809277880704, 0.0022050017698044635, 0.0205489667873735, 0.008860026652410181, 0.003714809277880704, 0.003714809277880704, -0.008203237019589133, 0.008860026652410181, 0.003714809277880704, 0.003714809277880704, 0.0009192585222081107, -0.01014455731558428, 0.008860026652410181, 0.003714809277880704, 0.003714809277880704, 0.005153319773674931, 0.02867329916724657, 0.00708123370264957, 0.016031808594107133, 0.0193841331720364, 0.006577451045814087, 0.008860026652410181, 0.003714809277880704, 0.003714809277880704, 0.00231363680652071, 0.013411620788663944, 0.008860026652410181, 0.003714809277880704, 0.003714809277880704, -0.009898242755677225, 0.006052881398716181, 0.008860026652410181, 0.003714809277880704, 0.003714809277880704, 0.004518063954694501, 0.008860026652410181, 0.003714809277880704, 0.003714809277880704, -0.005331107444169448, 0.010778497319279268, 0.003714809277880704, 0.003714809277880704]\n",
            "0\n",
            "Shape of context ids =  (14, 21, 50)\n",
            "Shape of generated embeddings =  (14, 19, 1024)\n",
            "[0.004782914876606981, 0.012160640203632056, 0.0008852094207441041, -0.0022306392425321063, -0.004286526751229758, -0.0034885791569422508, 0.004890797277337495, 0.005242467368134385, 0.0005077606171855425, -0.004270790352670417, 0.0007773662427249898, 0.0008627065427554549, -0.004334370315348224, 0.008860025770990146]\n",
            "0\n",
            "Shape of context ids =  (31, 36, 50)\n",
            "Shape of generated embeddings =  (31, 34, 1024)\n",
            "[0.005463930062562993, -0.0016331788957359094, -0.000578407463469451, 0.0015063890666004393, 0.010623323735051765, -0.003217955656907634, 0.006418577747960323, -0.004205710528140116, -0.000730435451887821, -0.004273661221702696, -0.007233463577904331, 0.002438823182097217, -0.008007639301786185, 0.006862427016077769, -0.0033526656210369765, 0.0009265155273078563, 0.013263426032939275, 0.0060741770478453345, 0.0007290699805516373, 0.0013491000071098823, -0.0002444025255006939, 0.0019388624815989935, 0.008541747683613229, 0.00492351135431711, 0.006335657755372873, 0.009130039757524976, 0.012498470016714022, 0.00538551051209879, 0.001852919027956695, 0.01831110956622221, 0.008860025898139898]\n",
            "0\n",
            "Shape of context ids =  (8, 30, 50)\n",
            "Shape of generated embeddings =  (8, 28, 1024)\n",
            "[0.003643149573907646, 0.015357422311834713, -0.0048656477275572894, 0.006746305350911068, 0.002479545500743067, 0.006511945075127794, -0.004048197663564679, 0.005027197194658583]\n",
            "0\n",
            "Shape of context ids =  (15, 34, 50)\n",
            "Shape of generated embeddings =  (15, 32, 1024)\n",
            "[-0.007042547278255522, -0.013010480037337402, -0.005476864234651657, -0.007436040096387422, -0.00961504567022609, -0.008406844286469095, -0.012084531055205029, -0.019045632933931245, -0.004791960968751141, -0.012312976779791521, -0.016658201027057982, 0.000551512080505745, 1.2299071530915997e-06, -0.007955078409185471, -0.0024110633699289488]\n",
            "1\n",
            "Shape of context ids =  (17, 27, 50)\n",
            "Shape of generated embeddings =  (17, 25, 1024)\n",
            "[0.013190300599186836, 0.006452297058615386, -0.006593614491314862, 0.007333872506519997, 0.010797240027868076, 0.0008794157042757433, -0.0029721805751478313, 0.004409844716106996, -0.004765934132042276, 0.011844616301488031, 0.008013520721825833, -0.0026022665556411084, -0.0046361325565101195, 0.0038636508462685823, 0.003252243278518563, 0.01831110956622221, 0.008860026652410181]\n",
            "0\n",
            "Shape of context ids =  (5, 26, 50)\n",
            "Shape of generated embeddings =  (5, 24, 1024)\n",
            "[0.007003785899512883, -0.0018374922991281689, 0.0068107131509123064, -0.0005558385672562357, 0.008860025469612322]\n",
            "0\n",
            "Shape of context ids =  (8, 24, 50)\n",
            "Shape of generated embeddings =  (8, 22, 1024)\n",
            "[-0.011666994479296281, -0.01823369821918656, 0.0002988401490407947, -0.0036717663871286277, 0.008552227607765417, 0.008566651262867708, -0.008340811616431222, -0.0013865264936342963]\n",
            "0\n",
            "Shape of context ids =  (14, 24, 50)\n",
            "Shape of generated embeddings =  (14, 22, 1024)\n",
            "[0.002796771272528531, 0.0042380129309094626, 0.003726181136276604, -0.0007136126964269352, 0.014310637847643193, -0.01205035485676175, 0.0019495758318571047, -0.007626666951898642, -0.009781740540450879, 0.00230522951524866, 0.002576967217692072, 0.021041721309791858, 0.009080186270264475, -0.0039584599678429795]\n",
            "0\n",
            "Shape of context ids =  (22, 9, 50)\n",
            "Shape of generated embeddings =  (22, 7, 1024)\n",
            "[0.01269288656030767, 0.031186953261851613, 0.03413258397046093, 0.003727244240465666, 0.012909916121770948, 0.017882881890136558, 0.0004631949372348269, 0.015317892684890921, 0.021305838251805653, 0.024809119204007857, 0.014661457544252698, 0.02399834895769004, 0.017882881890136558, -0.006694769935597833, 0.011656368190382895, 0.019609821150500768, 0.028218174957146402, 0.017856777819361014, 0.014292355815996416, 0.017882881890136558, -0.002596064105773621, 0.0035125191097904462]\n",
            "0\n",
            "Shape of context ids =  (59, 51, 50)\n",
            "Shape of generated embeddings =  (59, 49, 1024)\n",
            "[0.01719945880574869, 0.01080085440794805, 0.008938810773884143, 0.003253868921900802, 0.0058733352978848075, 0.0017422836474376405, 0.010788879611155267, 0.0018515398877146556, 0.004942465738758983, 0.0006945878702329841, 0.002902037468402341, -0.0002875986457573682, -0.0031775626817885827, 0.005758416955915082, -0.00372658549719397, 0.005658639637369395, -0.0008296968397998069, 0.0016479264765621338, 0.0089977605583762, 0.0077101702408908165, 0.013945221300526315, 0.00547478106187898, 0.009815315248225978, 0.004634493196803187, 0.0034032946526935753, 0.010686443594408956, 0.006452947350403257, 0.005726402493024807, 0.015576127391496232, 0.00931807593928132, 0.016008976682, 0.011833593291441957, 0.0026738366397824264, 0.005608286493201297, 0.011356479138535746, -0.006434086419219619, 0.012162819425464022, 0.004311591765286948, -0.0017538281289404267, 0.0010428239266526236, 0.006201970338281626, -0.00018573125823743742, 0.0034818356241223887, 0.008638566199124398, 0.016077542949005874, 0.010368785714338932, 0.012551168982781746, 0.007658341724174114, -0.009187603134705569, 0.006537200292334753, -0.002714500611394518, -0.0016714306838991888, -0.0012423135277054422, 0.007580517610620063, -0.011521298573181108, -0.007959040771614431, -0.0005569553910618197, 0.011653273837899698, -0.004552742183932423]\n",
            "1\n",
            "Shape of context ids =  (44, 24, 50)\n",
            "Shape of generated embeddings =  (44, 22, 1024)\n",
            "[0.0035831748117037647, 0.004987263509178774, 0.003856266875724638, 0.0027964922892026933, 0.00295069457797581, 0.0026495836351614344, -0.00669575004959988, -0.002737780581095909, 0.002973359106533735, 0.006345539389048309, -0.006377660338216629, 0.0005794514388336817, -0.004587781279610681, -0.006775795362149968, -0.011513233941690891, 0.0007079160949284745, -0.01101551792292715, -0.007667753980854286, -0.004850678145913889, 0.004318212349077536, -0.010198439566238449, 0.0040344873093545175, -0.0017127576033999503, 0.00795511054123684, -0.0010148632305712313, 0.0020039368545326395, -0.0046840574631359135, 0.0048326814705509, 0.0057876695268532785, 0.004750606366030752, -0.0032917568062527736, 0.0010838053241968737, -0.00305478884361321, -0.0035459240252099073, 0.00011643169036688051, 0.002146029857802508, -0.001676405581141201, -0.008760460474301604, 0.012020664670308179, -0.0022695131212628894, 0.005888884567246516, -0.00022286303785470162, 0.00758510862044659, 0.015095435024704784]\n",
            "0\n",
            "Shape of context ids =  (11, 21, 50)\n",
            "Shape of generated embeddings =  (11, 19, 1024)\n",
            "[-0.0023156270786159894, -0.019824164465469286, -0.017798105970151874, -0.008981563446259076, 0.0010514645132957412, -0.013420014133782843, 0.001805069027909667, 0.0001431387261488583, -0.0005569553910618197, 0.011653273837899698, -0.004552742183932423]\n",
            "1\n",
            "Shape of context ids =  (59, 40, 50)\n",
            "Shape of generated embeddings =  (59, 38, 1024)\n",
            "[0.014212025134781925, 0.00014184909137640033, 0.007918944965441509, 0.0007988745861073609, 0.00017869078845251352, 0.008300569854100104, 0.002909026124962895, -0.0007318613298694901, -0.006099307836267245, -0.007547931220869941, 0.00025506588595665863, -0.005120077088553157, 0.017875489022647646, 0.010785263041725557, -0.004688935397995111, -0.012824076381668369, 0.006712966906775364, 0.004608273167255343, 0.0050434354794560935, 0.01156729125275433, -0.0008150146839398075, 0.011430386183682069, 0.009855090318239945, 0.00767479135235631, 0.0017524316840839067, 0.015553267431005224, 0.007896146153370864, 0.00011885208039785766, 0.0011727446576552817, 0.005798091844380709, 0.007392435884798943, 0.005201063537597861, -0.006599549808802644, -0.0020871367901690975, -0.004894736546500806, -0.008376894194498163, -0.0037682668946672493, 0.0009905151354359988, -0.009807501123001808, 0.004493642653373668, 5.876974407783564e-05, -0.002693721223019046, 0.008240674144207542, 0.010197891337156761, -0.002299607613287612, 0.007474010943042231, 0.0002805084332067054, -0.003853888185030233, 0.0008633493965476191, 0.007781091879583831, 0.003592178593617763, -0.0039767583303387255, 0.01475762338258489, 0.007106193774368628, 0.019834511344495494, 0.0026178538906454682, -0.0005569553910618197, 0.016040511784824827, -0.004552742183932423]\n",
            "1\n",
            "Shape of context ids =  (12, 56, 50)\n",
            "Shape of generated embeddings =  (12, 54, 1024)\n",
            "[0.010763842106589787, -0.005977512696993607, 0.014575983099817336, 0.007383032165662939, -0.0032541308034001303, -0.005977512696993607, 0.012292451557998034, 0.02431479639047514, 0.006755671034284205, 0.006755671034284205, -0.0032541308034001303, 0.02063496946012882]\n",
            "0\n",
            "Shape of context ids =  (59, 33, 50)\n",
            "Shape of generated embeddings =  (59, 31, 1024)\n",
            "[0.016008962229716418, 0.014720945625231251, 0.010583014077212738, 0.02338746140821968, -0.003338512766140411, -0.004591815710182345, 0.003246129140325138, -0.009125301797510588, -0.006938742354274534, 0.006172412890445382, -0.0066103061963644905, -0.009940463974023336, 0.007429921540854423, -0.0003642384147951816, -0.0019727776232988012, -0.0037428363695629456, -0.005912642552606447, -0.0005470419842292055, 0.0036947602309932597, 0.011979664920943378, -0.015470103166154558, 0.004229744988866254, -0.004167287512291296, 0.009610160587109411, -0.0009706808689315949, 0.0007666496374838516, -0.0009404803914126855, -0.011077452378094677, -0.017280803192802938, 0.0036539976005899788, -0.005832053793864945, 0.01231017621026922, 0.00985078779203482, 0.007502750563503469, -0.007762922526353577, 0.008562551830482334, -0.0009447600779329454, -0.008470116582270749, -0.001254381693513551, -0.011733188741800404, -0.0031727759880292674, -0.007484911578837289, -0.009719144484203449, 0.003972649504118765, -0.004765825105302859, -0.001298117141297033, -0.0011122170346311577, -0.006934999438477286, 0.0017388487570239401, -0.01905298918313747, -0.00710594694120914, 0.0064529962183428324, 0.004197112110716716, -6.279213621382951e-05, -0.0004641466513106707, 0.016136099269715487, -0.0037671981675202913, -0.0017638798335123543, 0.0007166485591483251]\n",
            "1\n",
            "Shape of context ids =  (22, 23, 50)\n",
            "Shape of generated embeddings =  (22, 21, 1024)\n",
            "[0.0035532659301225067, -0.0019069822216847983, 0.0014929892032465762, -5.2637715653920745e-05, 0.00037259135877740424, -0.0005482291201970886, 0.0002570652209215041, 0.00578970682806812, -0.006501735544967839, -0.0091472099635439, 0.006242805060833234, 0.0003284727146592559, -0.0005835689274040066, -0.014823351840732357, -0.014935207699545571, 0.010526044847097182, -0.004674499292799997, 0.0002719502941772589, -0.0049161780174244996, -0.0015525266294030427, 0.010737549548821335, -0.003144311124287924]\n",
            "1\n",
            "Shape of context ids =  (34, 21, 50)\n",
            "Shape of generated embeddings =  (34, 19, 1024)\n",
            "[-0.002711431147146798, 0.0011541638355581085, -0.006717584525548856, -0.01606963251712538, 0.014498881523505506, -0.0017461640046576576, -0.006074687886410857, -0.015751506777384995, -0.01558610039283589, -0.0016066914582969123, 0.0003979692376980473, -0.0011346773023092282, -0.00993044234877516, -0.0009372093788897473, 0.009609864696740673, 0.003488513626637411, 0.0030475382177049446, 0.00369208009537529, 0.015138504011069642, 0.0071054720655752135, -0.011798887228178501, 0.003968972426082473, 0.013839166441569736, 0.0104734709841523, 0.004866179367455616, -0.0034726821458600007, 0.006277709874575521, 0.007052128125713529, 0.005490826999135834, 0.0056541446459629115, 0.007184191567384795, -0.0047836830620034175, 0.007091054507236549, 5.845217194178076e-05]\n",
            "0\n",
            "Shape of context ids =  (38, 33, 50)\n",
            "Shape of generated embeddings =  (38, 31, 1024)\n",
            "[0.0054014356599812645, 0.00596696724329996, 0.001613530506991386, 0.003836650347588707, 0.01443005988980417, 0.0055295783422195655, 0.0009528678047217909, 0.0007053005728418308, 0.008055301874264842, 0.0002907211019191891, 0.018983230492267467, 0.017361731558366955, -0.0017214811012280506, 0.0028744796942501787, 0.015049450704585373, 0.0033988077399009432, 0.02183667553056523, 0.00892277665903001, -0.006090465351462626, 0.008358963671351095, 0.004551790945470202, 0.018376982437985134, 0.00472723052693406, 0.0002623357668696258, 0.009890565531524469, 0.024660617345404034, 0.0023666011338718818, 0.0018965442144589259, 0.0030831534052812126, -0.002046732620085225, -0.004552669888913706, 0.005820507230787876, 0.03526459734439413, 0.017005492023372426, 0.006528751797115244, 0.0027809444413626557, -0.00357914584671965, 0.011308963474473584]\n",
            "1\n",
            "Shape of context ids =  (14, 36, 50)\n",
            "Shape of generated embeddings =  (14, 34, 1024)\n",
            "[0.003402180681405298, 0.00696095675161601, 0.012323911275188948, -0.014191707000160628, 0.004046473245277109, 0.004346410453251792, 0.011271368988643546, 0.010001859076873223, 0.011367676310141284, 0.013263394502246229, -0.004913714843370245, -0.0010996366394135431, 0.011638947037580592, -0.00011321222088072853]\n",
            "1\n",
            "Shape of context ids =  (7, 18, 50)\n",
            "Shape of generated embeddings =  (7, 16, 1024)\n",
            "[0.013328129405999789, 0.0031253344686845708, 0.02371929405024695, 0.006293160019860504, -0.011914340463173781, 0.004394016314427063, 0.011887491472407419]\n",
            "1\n",
            "Shape of context ids =  (42, 48, 50)\n",
            "Shape of generated embeddings =  (42, 46, 1024)\n",
            "[-0.002725106035427416, -0.0024031059382423337, 0.011672941738943803, 0.03465095982774073, -0.002118810479994219, 0.005100944439777777, -0.005312829253780778, -0.011762193553538833, -0.009721971176093445, 0.004145305904421548, 0.001885499253916123, -0.0014472742820241062, -0.006330549801599345, -0.010604997366966252, -0.0009523910466080859, -0.011261547209425193, 0.00354714171322712, 0.005681034426809599, -0.003282851064633568, -0.0005431746951015926, 0.0017862036855472308, 0.003001531837341531, 0.0030806593515406307, 0.019150335734063145, -0.006220114675812738, 0.0003808380658878569, 0.004595855258935444, -0.007985723765614239, 0.0012956571157325886, 0.002593981741222251, -0.0014523439308026067, 0.0003545369634966019, 0.004872055874054345, -0.004433049267711741, 0.005939030948714692, 0.0008058152831500079, 0.003524993145943385, 0.019250778928380896, 0.005948192408027353, 0.005154011056959007, 0.0020067749557545703, -0.002264961159141876]\n",
            "1\n",
            "Shape of context ids =  (4, 13, 50)\n",
            "Shape of generated embeddings =  (4, 11, 1024)\n",
            "[0.00036993363371746254, -0.001360347558023601, 0.00937195836117358, 0.013082433934391702]\n",
            "1\n",
            "Shape of context ids =  (59, 20, 50)\n",
            "Shape of generated embeddings =  (59, 18, 1024)\n",
            "[0.007694250765780453, -0.010819033329971717, -0.0006105104089139483, 0.003928235809970222, 0.0022015635490301327, -0.009999709457133577, 0.013489767048971165, 6.3559930967787495e-06, -0.006212713873407795, 0.0052266061611589976, -0.0009615432297020258, 0.0020107475086585205, 0.0016593037445545634, 0.006787530543590492, -0.002275129553898599, -0.0029261225443519834, 0.001530676346040612, -0.009838880572978971, 0.0033922650592709638, -0.008308807533921936, -0.0059882801862158885, -0.0014661438918210478, -0.008610661146425022, -0.003368155199570566, 0.009176949017910375, 0.004831823454375288, -0.007266346293144059, -0.00235946137092166, 0.007818038347068068, -0.005793651132876221, -0.004833291744439016, -0.020789046935306033, 0.007184782117178656, -0.012801525131571623, -0.0015658729042115737, 0.01344560634892231, 0.003655931372463783, 0.0041594161148623245, -0.0027465606744448857, -0.004342201645476014, -0.012896986450262679, -0.00215424078610719, -0.007823771023680592, -0.0011339396539066608, -0.009741371357601262, -0.005425475599531637, -0.012828781215224202, 0.00017778973299679515, -0.005517962278592956, 0.012612165866660993, 0.007032858283234115, 0.004607926909865715, -0.0073730562366191325, -0.0008450952796778211, 0.003083694260405017, -0.015335572031391267, 0.006627455456509779, -0.0006730603647611133, 0.0033506918515740836]\n",
            "0\n",
            "Shape of context ids =  (22, 27, 50)\n",
            "Shape of generated embeddings =  (22, 25, 1024)\n",
            "[0.006100661975179636, 0.007351998156873378, -0.0018718100565365604, -0.005734955920745831, 0.00029512471147228323, -0.0067975831257773974, -0.009570820606091214, -0.003374587844285471, -0.008358382924856958, 0.00014104453006630617, -0.006660820909524369, -0.010504345822096185, 0.01084006632117962, -9.874036946655451e-05, -0.00601840896952126, -0.008647993385301965, -0.010223775474574884, -0.0011035111272609097, -0.0035764761189873502, -0.005553220857291308, -0.009598096164302206, 1.2508284023417879e-05]\n",
            "1\n",
            "Shape of context ids =  (6, 77, 50)\n",
            "Shape of generated embeddings =  (6, 75, 1024)\n",
            "[-0.0005531711694629849, 0.008344399957868868, 0.0098529724330092, 0.0013185549408945008, -0.023161229551004303, 0.0007153925859896797]\n",
            "1\n",
            "Shape of context ids =  (60, 37, 50)\n",
            "Shape of generated embeddings =  (60, 35, 1024)\n",
            "[-0.003847553546772057, -0.004394995569668936, 0.021082678769744234, -0.0009758642938725808, -0.00265000022037043, 0.0006822495679898565, -0.001345282203298363, 0.005377049706724661, -0.0009153568086427791, -0.004685957786773542, -0.006241206174901696, 0.00602091588124883, -0.004883606276021882, 0.008399306742083874, 0.0026384193208416817, 0.005789360455812704, 0.009564718023284513, -0.001991279355020684, -0.0012636263878827473, 0.005490268349649341, 0.0007733654868335916, 0.004994023780000134, -0.0011850340407515128, 0.0033649418410764804, -0.0005726999030528646, 0.004038756097788092, -0.006797271102186642, -0.0066461637604680575, 0.00641650833795831, -0.00047194615146176706, -0.006706853502718483, -0.0009355961539004706, 0.0005972564018423197, -0.006336306375104073, -0.0021088966861108407, 0.00382574911536984, 0.007574935511523033, -0.004244579777171318, -0.0032706809306546347, -0.004755670042520839, -0.010879023557317851, -0.006627888487102496, -0.005197019799337258, -0.003129941283388785, 0.0037923622574178232, -0.004950797410242558, 0.003355289322352443, 0.00917836384426416, -0.0031268511218185166, -0.005943939973408739, -0.0076283144426543, -0.0033393464000790333, -0.005523070445163588, 0.008907146354047768, 0.0061610668788641, 0.006687282924740429, -0.0006476295089972458, 0.0005816331271504354, 0.014053257481312661, -0.003144311124287924]\n",
            "1\n",
            "Shape of context ids =  (88, 37, 50)\n",
            "Shape of generated embeddings =  (88, 35, 1024)\n",
            "[0.011681151936864415, -0.006826712262341062, -0.005541203407381965, -0.015137944024399986, 0.0018069467408248089, 0.01458452409099209, -0.014842562673436532, -0.0036811563949868285, -0.0076619098204641235, -0.0028201734675431826, -0.0056852309638227025, 0.0015977350297544035, -0.016049989138120207, 0.011220874593031263, 0.009227229825424389, -0.007482586025616911, -0.007332669229879828, -0.005064772149899, 0.0005922240564359526, -0.004266848975646553, -0.010583578188516185, -0.0031353471701815274, 0.000788559126769022, -0.004557500991950292, 0.005911538605313841, -0.006150130400048207, -0.00696635088468156, 0.01382173886552047, -0.01860438961057298, 4.798022814611613e-06, 0.006406829803310237, -0.006858975631666908, 0.0039797463860806945, -0.013146069897440308, 0.0008575834247039893, -0.010698425668258758, 0.0067644859420677396, 0.0018556894856753086, -0.0003223416006221669, -0.008008907565770483, -0.005347724587621391, -0.0005366520292176978, 0.005484546881834004, -0.01674314873110916, -0.0029192068951260806, -0.011726009090138819, -1.969295817616512e-05, -0.005398064870102341, -0.0027535415086706256, -0.016772300400134554, -0.019010667048746654, -0.012310560032915419, -0.01249241576829263, -0.01573545318727226, -0.013204389898106683, -0.010336638070869715, 0.0015572910807956457, -0.002942372612112974, 0.011038499397614032, -0.015063841977710423, -0.0087308701023782, -0.005761115825094976, 0.002998095100565479, 0.005915045802036427, 0.0038670383904510735, -0.011400495869429506, 0.006033180620192979, 0.0008700266629126929, 0.00459376742276163, -0.02052129362462416, 0.0014277451706675493, 0.0004914813685515512, -0.007733645278402518, -0.0010668838125211016, -0.0014035399844726185, -0.0002788466180921508, 0.007599729568634454, -0.004332467732057387, -0.008274373709902895, -0.009645397621094768, 0.004946566035035478, 0.0022284943194463835, 0.006328360608842232, 0.005660769236669694, -0.0048835335307688054, -0.002897604691847496, -0.011407754567105459, 0.01133133449256921]\n",
            "0\n",
            "Shape of context ids =  (20, 31, 50)\n",
            "Shape of generated embeddings =  (20, 29, 1024)\n",
            "[0.0013089111310819134, 0.0043423560866888995, -0.0006172203515066748, 0.0037248866510870876, -0.0015410807221829408, 0.0036432859300518992, 0.007757539492361806, -0.005685089259473256, -0.006570690962156544, -0.0067145889130794485, 0.0007111874754883729, 0.014934449885012262, -0.008985912323423155, -0.006885171069686496, -0.0011977155852491705, -0.01026129567476346, 0.000753782084858459, 0.0007681085867545789, -0.010590881122845985, 0.0006462072768954385]\n",
            "1\n",
            "Shape of context ids =  (33, 46, 50)\n",
            "Shape of generated embeddings =  (33, 44, 1024)\n",
            "[-1.746852338631773e-05, 0.009340564190637224, -0.0021578488549115113, -0.010888919027547673, -0.0066768784663107745, -0.009062468905347907, -0.006826202310026862, -0.012153151329645848, -0.0002393444222832386, 0.005240742024042788, -0.008381301225540483, 0.0004937875034224467, -0.002883688038853701, -0.00920266549153439, -0.0009467280350804686, -0.005982518045501903, -0.004640391541119453, -0.014254630220150943, 0.0030008976316651115, -0.007444996129899999, -0.004460513718002671, -0.007239469123438387, -0.006174176600365756, 3.778034737024427e-05, 0.0002301561792462183, -0.004228141489785945, -0.004571567708257805, -0.0037626287649080345, -0.016767046386902962, -0.007808729766793476, -0.003261113827972752, -0.004585913632467964, 0.024694891927902064]\n",
            "1\n",
            "Shape of context ids =  (17, 37, 50)\n",
            "Shape of generated embeddings =  (17, 35, 1024)\n",
            "[-0.0016043647613059875, 0.011497463163574426, 0.011530011068082656, 0.005689245202368263, 0.0018068941456022003, 0.012975104092978048, 0.004475482130646924, -0.0012388963881069988, 0.007357228314129529, -0.007564540668628676, -0.006737194446688793, 0.01175490271725721, 0.014673002888457631, -0.01088913209984336, 0.003750980310577745, -0.0028378355129007105, 0.0010074142695278472]\n",
            "1\n",
            "Shape of context ids =  (8, 24, 50)\n",
            "Shape of generated embeddings =  (8, 22, 1024)\n",
            "[0.0021926029693391824, -0.0036175016709497263, 0.006510717278230844, 0.002795880827958089, 0.0024124878877028336, 0.001598149451082362, 0.007324471540300692, -0.007503305376696351]\n",
            "0\n",
            "Shape of context ids =  (109, 73, 50)\n",
            "Shape of generated embeddings =  (109, 71, 1024)\n",
            "[0.004334106357585459, -0.0017626765092649697, 0.019920013116878483, 0.015147927129711596, -0.005461915813460412, 0.012933332674200366, 0.0055125661576767016, 0.015649289209000015, -0.016514178905405668, 0.01755944220363662, 0.000477581048698994, 0.005980909137926054, -0.007713015591548356, 0.009156708870295915, 0.006479125700748641, -0.005582659340825557, 0.013640535812555754, 0.01567025540222338, 0.008126162425905173, -0.0016536878739922638, 0.005153804012642078, 0.0039835083949431764, 0.006053100756541123, 0.007584537584079953, 0.00414255184364265, 0.019338913653783152, 0.011667034968365898, -0.0007273451276716969, 0.0046751998834793085, 0.005362687893097018, 0.009238613052229994, -0.023772885766220497, -0.0026244139861167546, 0.009664430720439062, 0.0015731250865087532, 0.004293706236629597, 0.012632355862308486, 0.015064808594073699, -0.0004705288793047657, 0.025973054560154196, 0.012976767301741651, 0.005672104093014241, 0.009449623715826501, 0.008753285559412854, 0.010681698031371175, 0.005585462466983286, 0.008993066893584579, 0.012675593610055103, 0.013940906041956292, 0.015651134542669826, 0.010472516683036632, 0.01245838636117469, 0.00815635625062896, 0.01507044963506649, 0.002281499719765634, 0.008169325009437975, 0.005206125108315973, -0.002781239644582456, -0.004357946291224835, -0.0014819828987368863, 0.0005506581759391338, 0.001626162547103781, -0.004571307039952899, -0.0015624602634431994, 0.0036349516220626457, 0.0023722750099055803, 0.0002487957208683968, 0.0011927356667058575, -7.615354462586765e-06, -0.005052814075595181, -0.0017007073738852796, 0.0026230631583909294, -0.0008286536203993617, -0.005046012446382519, 0.015362983189106671, 0.0021589222929248664, -0.00121166516712492, -0.005809538721223362, 0.010766654586859659, -0.0005978379284897528, 0.01448524539990581, 0.009649273971123105, 0.010363813327254926, 0.02143524676034758, 0.0156082807144545, 0.013221177717882298, 3.691321637688816e-05, 0.014170140539287482, 0.008320937020967407, -0.006090060324165986, 0.010684065912300866, 0.007858047214568842, 0.011248180878820594, -0.005291296051912771, 0.007489691105007523, 0.011301205143672633, 0.012383193230258863, -0.01377079502984202, 0.006000141845015605, 0.007234031149513005, 0.011233224133005794, 0.0016052433533388921, 0.0029833685611890814, -0.006417817672367424, 0.0027731129414405586, 0.012056096245613743, 0.013010224234949418, 0.009673919659879479, 0.010006950815341042]\n",
            "0\n",
            "Shape of context ids =  (23, 39, 50)\n",
            "Shape of generated embeddings =  (23, 37, 1024)\n",
            "[0.007274231006340415, -0.0031305733653425706, 0.006098098800940477, 0.0103765940632267, 0.0017483780912294202, -0.0053182869354107725, 0.0032863380977914856, 0.0005686245187544516, -0.0001210945426919352, 0.013140006139624546, 0.00622367210827081, 0.0020243262993180277, 0.002585600977652022, 0.016398346420402277, 0.004044806025003059, 0.012533116259135113, 0.009569328004640738, 0.002420082201338532, 0.010662118665116793, 0.0007762479050800696, 0.007083738656547212, 0.013719281320220489, 0.012842361011507819]\n",
            "0\n",
            "Shape of context ids =  (45, 37, 50)\n",
            "Shape of generated embeddings =  (45, 35, 1024)\n",
            "[0.002237598182070144, 0.01818447650196357, -0.0062068992701370005, 0.0015430060029432621, -0.014353928261870172, 0.004246642576321038, -0.003358982505460517, 0.004207420553354625, 0.0004351457150374029, -0.006052596383813125, -0.0041208517290124294, 0.014048076365434604, 0.0049485518073908, 0.0069465463591456, 0.021557666375383634, 0.025014253136882523, -0.004432117724400086, 0.0074483240575204945, -0.004603833074617414, -0.01421867735388787, -0.015824716107711842, 0.0018725242501318462, 0.006572247684194584, 0.0038532617440166306, -0.003679227080121044, 0.010098803417680425, -0.0032468464905041797, -0.004041861602642408, 0.005958451341546772, -0.004383872581115611, -0.0001686103242839465, -0.007840642606879555, 0.005650019160952979, 0.006100995298197631, 0.0010067599255307869, -0.0018720781102274486, -0.006793540844455492, 0.0005400406083329775, -1.0322638672732865e-05, 0.0013546725089226028, 0.003915546001981814, -0.008125666272690069, -0.003731809624888718, -0.004892011110920673, 0.010895594291620606]\n",
            "0\n",
            "Shape of context ids =  (43, 33, 50)\n",
            "Shape of generated embeddings =  (43, 31, 1024)\n",
            "[0.01086413720847506, 0.009656201566031086, -0.0029691137926079136, -0.00845229165308107, -0.005410335520897054, 0.010062019681021816, 0.0006751107188268758, -0.0052669922649026075, 0.0066784823042667085, 0.006455154028816861, 0.0026315182763028133, 0.010152114552359611, 0.00027161924658685165, -0.002303057331067748, -0.0050410261276852, 0.012541488240526633, 0.001914629149657306, 0.011534914633602966, 0.007221528724869586, 0.006031014072453383, 0.008783041869365762, 0.0033499671985737223, 0.00021851961776064854, 0.007297836097835257, 0.0025174353300296084, 0.014109924784577288, 0.00854050797909925, -0.00530157378155612, 0.0006547102013259533, 0.007279976313535978, 0.006920919220746051, -0.0014597730066498115, 0.01273675246284256, 0.0019462375127414606, 0.0019105268936679446, 0.016455677087719778, -0.008610771771993148, -0.0036539198757536188, 0.0019330480710753985, -0.0012730635783100297, -0.0031298551021905043, 0.006694704507253846, 0.011360451297423423]\n",
            "0\n",
            "Shape of context ids =  (16, 28, 50)\n",
            "Shape of generated embeddings =  (16, 26, 1024)\n",
            "[0.006682326898305746, 0.005902101973823357, 0.006700013897693679, 0.00812482926676239, -0.0017605964099981395, 0.002654703487489011, -0.004606875993886206, 0.016671570180127066, 0.007967165594163817, 0.0014024139153055633, 0.013913112204565752, 0.003829731008128571, -0.007724892005717266, 0.004302638976392483, 0.003620476034744622, 0.004900944867372078]\n",
            "0\n",
            "Shape of context ids =  (91, 44, 50)\n",
            "Shape of generated embeddings =  (91, 42, 1024)\n",
            "[-0.007303142521436712, 0.002750410228687682, 0.015933886662120738, 0.012046321127651314, -0.0006673617403888644, 0.007876759006963906, -0.0039366851826352035, -0.004244295457283442, 0.006012022726433012, -0.008827681188799823, -0.010260481384315361, -0.0047220462771261655, -0.002922638013217238, -0.006358047826927305, -0.003377804037721516, -0.006321268549031215, 0.00103917985874928, 0.008508321237865279, 0.0034289612049065, 0.00426011695199949, 0.011412445776262426, 0.003945758517886588, 0.0037384628747997254, 0.004348867012247673, 0.013231332924636841, -0.004490842124397432, 0.004654296102580701, -0.0006897319231939037, 0.012148824745622733, 0.009695964925049339, 0.00813389923162807, 0.010871431873965776, 0.007612493933862652, 0.0023476806617540287, 0.006678947973091454, 0.0005286939632393721, -0.0005751820781689787, 0.0015788256393989286, 0.009569840173490718, -0.00200132860351232, 0.0032378122158649666, -0.00742515909439934, -0.0029462815292681122, -0.009037054950946791, -0.0043253741640551895, -0.007009732423130442, -0.007829420121511346, 0.011926298389198564, 0.0016077538358331366, -0.0025773235664538724, 0.004128199384808795, -0.004096446382713263, 0.0034756277333561534, 0.011526012096832497, 0.008457115271130532, -0.0020182784259835294, -0.00045420010787387984, -0.005905526626163139, 0.005711982265660253, -0.007815337199735433, 0.0005621078802909728, -0.00046245877797446155, 0.0022363372321741247, 0.0008291769600646149, -0.006745543071483203, -0.007336448257774464, -0.000452714559571632, 8.662422991771261e-05, 0.0034599976399173706, -0.0019281398419406872, -0.002872853368049988, 0.005337012976724509, 0.009050123803899624, 0.005335455523663768, 0.0024075358935533586, -0.009548981176370338, -0.01536556555267799, -0.003859029573711516, -0.0034088138877450547, 0.004404509892358539, 0.007194972146291118, -0.004972416492667738, 0.008537138459359994, -0.0031759533888058894, 0.002544237502878456, -0.00033684370607932665, -0.002864389791791557, -0.0025575268422386443, -0.0030502105746563757, -0.0025327905137828566, 0.009814501314394874]\n",
            "1\n",
            "Shape of context ids =  (30, 36, 50)\n",
            "Shape of generated embeddings =  (30, 34, 1024)\n",
            "[0.01041873888216822, -0.004483049514951951, 0.01101246772907416, -0.00024305914320355744, 0.011134073803098297, 0.00033807134739921216, 0.004351290386390853, 0.0061988792325564646, -0.00095460614631841, 0.006921118146995771, 0.006449293210997504, -0.0046135194592848575, -0.0034831972614840978, 0.006059796956833452, -0.0008880900663427837, -0.001305206340884979, 0.005676021543119229, 0.008302461579140592, -0.007158756742728656, 0.0036108611377130726, 0.006594963516780202, -0.002864129752557195, 0.009352769260544846, -0.004176369692691589, -0.014115116564141772, -9.532859869902192e-05, -0.002616536052621942, -0.011341852746985145, 0.006421441144931867, 0.000961161079279312]\n",
            "1\n",
            "Shape of context ids =  (1, 10, 50)\n",
            "Shape of generated embeddings =  (1, 8, 1024)\n",
            "[-0.012374279993906612]\n",
            "1\n",
            "Shape of context ids =  (28, 58, 50)\n",
            "Shape of generated embeddings =  (28, 56, 1024)\n",
            "[0.006796253016740853, 0.011412630122572409, 0.018264847842146992, -0.0035956807264128088, 0.004918107292724017, 0.0059231866710141344, -0.003605024309177009, -0.005875467814129715, 0.0022805873316428917, -0.005589621748868012, 0.005494433687542182, -0.0009170013066127026, -0.00029128823207429376, -1.3931030589783742e-05, -0.002586563914090018, -0.005887029789711825, 0.00488236188209612, 0.008540314847959963, -0.00304782932535343, -0.0005614848013441914, -0.00165577154966968, 0.005096833310744842, 0.002448418948347353, -0.0005590944888714216, 0.0013736251054751846, -0.002414152945781704, -0.005793177229260696, -0.003403856790111025]\n",
            "1\n",
            "Shape of context ids =  (23, 29, 50)\n",
            "Shape of generated embeddings =  (23, 27, 1024)\n",
            "[0.006796253016740853, 0.011412630122572409, 0.018264847842146992, -0.007782720419336329, 0.005667913605537121, 0.004394109737025549, 0.0018525938498441974, -0.00021845410935839027, 0.005683004227591937, 0.0025243123145867827, 0.007702483517667653, 0.008194898818866628, 0.027157333248283066, -0.00014042602353280624, -0.006418940984287002, -0.011361034728452069, -0.008667647706559478, -0.007442267938245095, 0.005417860518264206, 0.0058442859627575675, 0.010407243557324364, -0.007472372048238997, 0.027819743329837367]\n",
            "0\n",
            "Shape of context ids =  (45, 49, 50)\n",
            "Shape of generated embeddings =  (45, 47, 1024)\n",
            "[0.006796253016740853, 0.011412630122572409, 0.018264847842146992, 0.005244626692420492, 0.02487111994683541, 0.002574141568553993, 0.0030043916934232584, 0.0008985102131240953, -0.005983515120762077, -0.01002408436733817, 0.007430502743858369, 0.01971177798499796, 0.0021836929614344113, -0.00028298101779000717, 0.0010352233389880894, 0.008945356520954469, -0.007743793029531432, -0.011078886234393792, 0.001933875137041241, -0.004938074914764457, -0.0031191733096519506, -0.010949905920028868, -0.0002851469161363696, -0.0026342036356869786, 0.012858131172568696, -0.007300797966160693, 0.0043450612387019305, 0.003894830431391938, -0.0007774715144781415, 0.014784621646413143, -0.005987172944135939, -0.001283507522482698, 0.007000856008312439, 0.016124629130032986, -0.0008706181735836557, -0.004517418882915081, -0.006525906047077764, -0.008162532680747367, -0.006017238729063479, -0.0014228864067254781, 0.010618425051416126, 0.009944529251242784, -0.007349664839834914, 0.0005590883266987393, 0.015331396306419266]\n",
            "1\n",
            "[['internet', 'censorship', 'hurting', 'conservative', 'websites', 'like', 'clothesline'], ['you', 'enjoy', 'our', 'articles', 'please', 'consider', 'making', 'small', 'donation', 'today'], ['thank', 'you'], ['paper', 'entitled'], ['effect', 'current', 'global', 'warming', 'software', 'models', 'used', 'ipcc', 'and', 'cited', 'media', 'wildly', 'overestimate', 'warming', 'effects', 'emissions'], ['how', 'much', 'they', 'overestimate', 'warming'], ['where', 'software', 'models', 'predicted', 'rise', 'average', 'global', 'temperatures', 'only', 'rise', 'about', 'has', 'actually', 'been', 'recorded', 'and', 'many', 'data', 'points', 'that', 'average', 'have', 'course', 'been', 'fabricated', 'climate', 'change', 'scientists', 'push', 'political', 'narrative'], ['other', 'words'], ['climate', 'change', 'poses', 'less', 'immediate', 'threat', 'planet', 'than', 'previously', 'thought', 'because', 'scientists', 'got', 'their', 'modelling', 'wrong'], ['other', 'words', 'climate', 'change', 'threat', 'has', 'been', 'wildly', 'overstated'], ['fear', 'mongering', 'gore', 'and', 'governmentfunded', 'science', 'community', 'can', 'truly', 'only', 'described', 'junk', 'science', 'hoax'], ['paper', 'concedes', 'that', 'now', 'almost', 'impossible', 'that', 'doomsday', 'predictions', 'made', 'last', 'ipcc', 'assessment', 'report', 'degrees', 'warming', 'above', 'preindustrial', 'levels', 'will', 'come', 'true', 'writes'], ['one', 'researcher', 'from', 'alarmist', 'side', 'argument', 'not', 'skeptical', 'one', 'has', 'described', 'papers', 'conclusion'], ['hes', 'right'], ['scientists', 'whove', 'written', 'this', 'paper', 'arent', 'climate', 'skeptics'], ['theyre', 'longstanding', 'warmists', 'implacable', 'foes', 'climate', 'skeptics', 'and', 'theyre', 'also', 'actually', 'people', 'responsible', 'for', 'producing', 'ipccs', 'carbon', 'budget'], ['other', 'words', 'this', 'represents', 'most', 'massive', 'climbdown', 'from', 'alarmist', 'camp'], ['are', 'about', 'see', 'climate', 'change', 'alarmists', 'owning', 'fact', 'that', 'realworld', 'data', 'show', 'their', 'software', 'models', 'rooted', 'junk', 'science'], ['unraveling', 'has', 'begun', 'but', 'there', 'much', 'political', 'capital', 'already', 'invested', 'false', 'climate', 'change', 'narrative', 'that', 'will', 'take', 'years', 'fully', 'expose', 'depth', 'scientific', 'fraud', 'and', 'political', 'dishonesty', 'underpinning', 'global', 'warming', 'hoax'], ['whats', 'clear', 'from', 'all', 'this', 'that', 'ipcc', 'software', 'models', 'were', 'deliberately', 'biased', 'favor', 'worstcase', 'doomsday', 'predictions', 'order', 'terrorize', 'world', 'with', 'fake', 'climate', 'change', 'hoax'], ['but', 'now'], ['software', 'models', 'way', 'were', 'fraudulently', 'programmed', 'with', 'dishonest', 'model', 'weights', 'produce', 'alarming', 'warming', 'predictions', 'matter', 'what', 'temperature', 'data', 'points', 'were', 'entered', 'into', 'system'], ['this', 'best', 'explained'], ['same', 'leftwing', 'media', 'outlets', 'that', 'fabricated', 'russian', 'hacking', 'conspiracy', 'curiously', 'have', 'remained', 'totally', 'silent', 'about', 'real', 'legitimate', 'hacking', 'that', 'took', 'place', 'almost', 'two', 'decades', 'earlier'], ['ipcc', 'global', 'warming', 'software', 'models', 'now', 'know', 'were', 'hacked', 'from', 'very', 'beginning', 'programmed', 'falsely', 'produce', 'hockey', 'stick', 'visuals', 'from', 'almost', 'any', 'data', 'set', 'include', 'random', 'noise', 'data'], ['what', 'follows', 'are', 'selected', 'paragraphs', 'from', 'fascinating', 'book', 'that', 'investigated', 'this', 'vast', 'political', 'and', 'scientific', 'fraud'], ['heres', 'what', 'booker', 'found', 'when', 'investigated', 'hacking', 'temperature', 'data', 'computer', 'models'], ['from', 'real', 'global', 'warming', 'disaster', 'christopher', 'booker', 'bold', 'emphasis', 'added'], ['nothing', 'alerted', 'more', 'curious', 'nature', 'global', 'warming', 'scare', 'than', 'peculiar', 'tactics', 'used', 'ipcc', 'promote', 'its', 'orthodoxy', 'brooking', 'dissent'], ['more', 'than', 'once', 'its', 'series', 'mammoth', 'reports', 'ipcc', 'had', 'been', 'caught', 'out', 'very', 'serious', 'attempts', 'rewrite', 'scientific', 'evidence'], ['most', 'notorious', 'instance', 'this', 'was', 'extraordinary', 'prominence', 'gave', 'socalled', 'hockey', 'stick', 'graph', 'mysteriously', 'produced', 'relatively', 'unknown', 'young', 'scientist', 'which', 'completely', 'redrew', 'accepted', 'historical', 'record', 'purporting', 'show', 'temperatures', 'late', 'twentieth', 'century', 'having', 'shot', 'upwards', 'level', 'far', 'higher', 'than', 'had', 'ever', 'been', 'known', 'before'], ['although', 'hockey', 'stick', 'was', 'instantly', 'made', 'central', 'icon', 'ipccs', 'cause', 'was', 'within', 'few', 'years', 'become', 'one', 'most', 'comprehensively', 'discredited', 'artefacts', 'history', 'science'], ['similarly', 'called', 'into', 'serious', 'doubt', 'was', 'reliability', 'some', 'other', 'temperature', 'figures', 'which', 'ipcc', 'based', 'its', 'case'], ['most', 'notably', 'these', 'included', 'those', 'provided', 'nasas', 'goddard', 'institute', 'for', 'space', 'studies', 'giss', 'run', 'james', 'hansen', 'gores', 'closest', 'scientific', 'ally', 'which', 'were', 'one', 'four', 'official', 'sources', 'temperature', 'data', 'which', 'ipcc', 'relied'], ['these', 'were', 'shown', 'have', 'been', 'repeatedly', 'adjusted', 'suggest', 'that', 'temperatures', 'had', 'risen', 'further', 'and', 'more', 'steeply', 'than', 'was', 'indicated', 'any', 'other', 'three', 'main', 'datasources'], ['out', 'blue', 'britains', 'leading', 'science', 'journal', 'nature', 'long', 'supportive', 'warming', 'orthodoxy', 'published', 'new', 'paper', 'global', 'temperature', 'changes', 'over', 'previous', 'years', 'back'], ['its', 'chief', 'author', 'was', 'michael', 'mann', 'young', 'physicistturnedclimate', 'scientist', 'university', 'massachusetts', 'who', 'had', 'only', 'completed', 'his', 'phd', 'two', 'years', 'before'], ['and', 'his', 'colleagues', 'published', 'further', 'paper', 'based', 'only', 'north', 'america', 'but', 'extending', 'their', 'original', 'findings', 'over', 'years'], ['their', 'computer', 'model', 'had', 'enabled', 'them', 'produce', 'new', 'temperature', 'graph', 'quite', 'unlike', 'anything', 'seen', 'before'], ['instead', 'previously', 'familiar', 'rises', 'and', 'falls', 'this', 'showed', 'trend', 'average', 'temperatures', 'having', 'gently', 'declined', 'through', 'nine', 'centuries', 'but', 'then', 'suddenly', 'shooting', 'twentieth', 'century', 'level', 'that', 'was', 'quite', 'unprecedented'], ['manns', 'graph', 'such', 'familiar', 'features', 'mediaeval', 'warm', 'period', 'and', 'little', 'ice', 'age', 'had', 'simply', 'vanished'], ['all', 'those', 'awkward', 'anomalies', 'were', 'shown', 'having', 'been', 'illusory'], ['only', 'real', 'anomaly', 'which', 'emerged', 'from', 'their', 'studies', 'was', 'that', 'sudden', 'exponential', 'rise', 'appearing', 'twentieth', 'century', 'culminating', 'warmest', 'year', 'millennium'], ['would', 'eventually', 'emerge', 'there', 'were', 'several', 'very', 'odd', 'features', 'about', 'manns', 'new', 'graph', 'soon', 'known', 'hockey', 'stick', 'because', 'its', 'shape', 'long', 'flattish', 'line', 'curving', 'sharply', 'end', 'was', 'reminiscent', 'stick', 'used', 'ice', 'hockey'], ['but', 'initially', 'none', 'might', 'have', 'seemed', 'odder', 'than', 'speed', 'with', 'which', 'this', 'obscure', 'study', 'comparatively', 'unknown', 'young', 'scientist', 'came', 'taken', 'new', 'orthodoxy'], ['radically', 'did', 'hockey', 'stick', 'rewrite', 'all', 'accepted', 'versions', 'climate', 'history', 'that', 'initially', 'carried', 'all', 'before', 'leaving', 'knowledgeable', 'experts', 'stunned'], ['was', 'not', 'yet', 'clear', 'quite', 'how', 'mann', 'had', 'arrived', 'his', 'remarkable', 'conclusions', 'precisely', 'what', 'data', 'had', 'used', 'what', 'methods', 'ipcc', 'had', 'used', 'verify', 'his', 'findings'], ['sensational', 'new', 'graph', 'which', 'ipcc', 'made', 'centrepiece', 'its', 'report', 'had', 'been', 'sprung', 'world', 'out', 'left', 'field'], ['yet', 'when', 'over', 'years', 'that', 'followed', 'number', 'experts', 'from', 'different', 'fields', 'began', 'subject', 'manns', 'two', 'papers', 'careful', 'analysis', 'some', 'rather', 'serious', 'questions', 'came', 'asked', 'about', 'basis', 'for', 'his', 'study'], ['for', 'start', 'although', 'mann', 'and', 'his', 'colleagues', 'had', 'cited', 'other', 'evidence', 'for', 'their', 'computer', 'modelling', 'historical', 'temperatures', 'became', 'apparent', 'that', 'they', 'had', 'leaned', 'particularly', 'heavily', 'proxy', 'data', 'provided', 'study', 'five', 'years', 'earlier', 'treerings', 'ancient', 'bristlecone', 'pine', 'trees', 'growing', 'slopes', 'californias', 'sierra', 'nevada', 'mountains'], ['proxies', 'used', 'calculate', 'temperature', 'consist', 'data', 'other', 'than', 'direct', 'measurement', 'such', 'tree', 'rings', 'stalactites', 'ice', 'cores', 'lake', 'sediments'], ['according', 'paper', 'used', 'mann', 'these', 'bristlecone', 'pines', 'had', 'shown', 'significantly', 'accelerated', 'growth', 'years', 'after'], ['but', 'purpose', 'this', 'original', 'study', 'had', 'not', 'been', 'research', 'into', 'past', 'temperatures'], ['was', 'made', 'clear', 'its', 'title', 'detecting', 'aerial', 'fertilisation', 'effect', 'atmospheric', 'enrichment', 'treering', 'chronologies', 'had', 'been', 'measure', 'effect', 'trees', 'growth', 'rate', 'twentiethcentury', 'increase', 'levels'], ['tree', 'rings', 'are', 'notoriously', 'unreliable', 'reflector', 'temperature', 'changes', 'because', 'they', 'are', 'chiefly', 'formed', 'during', 'only', 'one', 'short', 'period', 'year', 'and', 'cannot', 'therefore', 'give', 'full', 'picture'], ['this', 'study', 'one', 'group', 'trees', 'one', 'untypical', 'corner', 'seemed', 'remarkably', 'flimsy', 'basis', 'which', 'base', 'estimate', 'global', 'temperatures', 'going', 'back', 'years'], ['then', 'transpired', 'that', 'order', 'show', 'twentiethcentury', 'section', 'graph', 'terrifying', 'upward', 'flick', 'temperatures', 'end', 'hockey', 'stick', 'spliced', 'with', 'treering', 'data', 'had', 'been', 'set', 'twentiethcentury', 'temperature', 'readings', 'recorded', 'more', 'than', 'weather', 'stations', 'across', 'earths', 'surface'], ['was', 'these', 'which', 'more', 'than', 'anything', 'helped', 'confirm', 'most', 'dramatic', 'conclusion', 'study', 'that', 'temperatures', 'closing', 'decades', 'twentieth', 'century', 'had', 'been', 'shooting', 'levels', 'unprecedented', 'history', 'last', 'years', 'culminating', 'warmest', 'year', 'millennium'], ['not', 'only', 'was', 'far', 'from', 'clear', 'that', 'for', 'this', 'allimportant', 'part', 'graph', 'two', 'quite', 'different', 'sets', 'data', 'had', 'been', 'used'], ['also', 'accepted', 'without', 'qualification', 'was', 'accuracy', 'these', 'twentiethcentury', 'surface', 'temperature', 'readings'], ['but', 'picture', 'given', 'these', 'was', 'already', 'being', 'questioned', 'many', 'expert', 'scientists', 'who', 'pointed', 'evidence', 'that', 'readings', 'from', 'surface', 'weather', 'stations', 'could', 'become', 'seriously', 'distorted', 'what', 'was', 'known', 'urban', 'heat', 'island', 'effect'], ['majority', 'thermometers', 'such', 'stations', 'were', 'proximity', 'large', 'and', 'increasingly', 'builtup', 'population', 'centres'], ['was', 'wellestablished', 'that', 'these', 'heated', 'atmosphere', 'around', 'them', 'significantly', 'higher', 'level', 'than', 'more', 'isolated', 'locations'], ['nowhere', 'was', 'this', 'better', 'illustrated', 'than', 'contrasting', 'temperature', 'readings', 'taken', 'earths', 'surface', 'with', 'those', 'which', 'since', 'had', 'been', 'taken', 'nasa', 'satellites', 'and', 'weather', 'balloons', 'using', 'method', 'developed', 'roy', 'spencer', 'responsible', 'for', 'climate', 'studies', 'nasas', 'marshall', 'space', 'centre', 'and', 'john', 'christie', 'university', 'alabama', 'huntsville'], ['surprisingly', 'these', 'atmospheric', 'measurements', 'showed', 'that', 'far', 'from', 'warming', 'last', 'two', 'decades', 'twentieth', 'century', 'global', 'temperatures', 'had', 'fact', 'slightly', 'cooled'], ['spencer', 'was', 'pains', 'point', 'out', 'these', 'avoided', 'distortions', 'created', 'surface', 'readings', 'urban', 'heat', 'island', 'effect'], ['reluctance', 'ipcc', 'take', 'proper', 'account', 'this', 'observed', 'confirmed', 'suspicion', 'many', 'scientists', 'involved', 'process', 'that', 'ipccs', 'stance', 'global', 'warming', 'was', 'guided', 'more', 'policymakers', 'and', 'politicians', 'than', 'scientists'], ['what', 'was', 'also', 'remarkable', 'about', 'hockey', 'stick', 'was', 'again', 'widely', 'observed', 'was', 'how', 'contradicted', 'all', 'that', 'mass', 'evidence', 'which', 'supported', 'generally', 'accepted', 'picture', 'temperature', 'fluctuations', 'past', 'centuries'], ['was', 'pointed', 'out', 'treerings', 'are', 'not', 'most', 'reliable', 'guide', 'assessing', 'past', 'temperatures'], ['scores', 'more', 'direct', 'sources', 'proxy', 'evidence', 'had', 'been', 'studied', 'over', 'years', 'from', 'africa', 'south', 'america', 'australia', 'pakistan', 'antarctica', 'every', 'continent', 'and', 'ocean', 'world'], ['whether', 'evidence', 'was', 'taken', 'from', 'lake', 'sediments', 'ice', 'cores', 'glaciers', 'andes', 'boreholes', 'every', 'continent', 'huang', 'results', 'had', 'been', 'remarkably', 'consistent', 'confirming', 'that', 'familiar', 'view', 'was', 'right'], ['there', 'had', 'been', 'little', 'ice', 'age', 'across', 'world'], ['there', 'had', 'similarly', 'been', 'mediaeval', 'warm', 'period'], ['furthermore', 'mass', 'data', 'confirmed', 'that', 'world', 'had', 'been', 'even', 'warmer', 'middle', 'ages', 'than', 'was'], ['first', 'comprehensive', 'study', 'review', 'this', 'point', 'was', 'published', 'january', 'willie', 'soon', 'and', 'his', 'colleague', 'sallie', 'baliunas', 'harvardsmithsonian', 'center', 'for', 'astrophysics'], ['they', 'had', 'examined', 'expert', 'studies', 'climate', 'history', 'past', 'years', 'based', 'every', 'kind', 'data'], ['some', 'had', 'given', 'their', 'findings', 'only', 'local', 'regional', 'context', 'others', 'had', 'attempted', 'give', 'worldwide', 'picture'], ['but', 'between', 'them', 'these', 'studies', 'had', 'covered', 'every', 'continent'], ['question', 'two', 'researchers', 'had', 'asked', 'every', 'study', 'was', 'whether', 'not', 'showed', 'discernible', 'climate', 'anomaly', 'time', 'little', 'ice', 'age', 'and', 'mediaeval', 'warm', 'period', 'and', 'whether', 'had', 'shown', 'twentieth', 'century', 'warmest', 'time', 'millennium'], ['their', 'conclusion', 'was', 'unequivocal'], ['only', 'two', 'studies', 'they', 'looked', 'had', 'not', 'found', 'evidence', 'for', 'little', 'ice', 'age'], ['only', 'seven', 'studies', 'had', 'denied', 'existence', 'mediaeval', 'warm', 'period', 'while', 'had', 'confirmed'], ['crucial', 'question', 'whether', 'not', 'twentieth', 'century', 'had', 'been', 'warmest', 'past', 'thousand', 'years', 'only', 'studies', 'including', 'that', 'mann', 'himself', 'had', 'unambiguously', 'agreed', 'that', 'was'], ['vast', 'majority', 'accepted', 'that', 'earlier', 'centuries', 'had', 'been', 'warmer'], ['conclusion', 'soon', 'and', 'baliunas', 'was', 'that', 'across', 'world', 'many', 'records', 'reveal', 'that', 'twentieth', 'century', 'probably', 'not', 'warmest', 'nor', 'uniquely', 'extreme', 'climatic', 'period', 'last', 'millennium'], ['but', 'mann', 'and', 'his', 'colleagues', 'had', 'got', 'picture', 'wrong', 'this', 'survey', 'literature', 'suggested', 'nothing', 'did', 'more', 'expose', 'just', 'how', 'this', 'might', 'have', 'come', 'about', 'than', 'remarkable', 'feat', 'analysis', 'carried', 'out', 'later', 'same', 'year', 'two', 'canadians', 'and', 'published', 'october'], ['mcintyre', 'and', 'mckitrick', 'corrections', 'mann'], ['proxy', 'databse', 'and', 'northern', 'hemispheric', 'average', 'temperature', 'series', 'energy', 'and', 'environment'], ['analysis', 'mcintyre', 'and', 'mckitricks', 'work', 'which', 'follows', 'reference', 'will', 'also', 'made', 'their', 'later', 'paper', 'mcintyre', 'and', 'mckitrick', 'amp', 'critique', 'mbh', 'northern', 'hemisphere', 'climate', 'index', 'update', 'and', 'applications', 'energy', 'and', 'environment', 'and', 'also', 'mckitrick', 'what', 'hockey', 'stick', 'debate', 'about'], ['stephen', 'mcintyre', 'who', 'began', 'their', 'study', 'was', 'financial', 'consultant', 'and', 'statistical', 'analyst', 'specialising', 'minerals', 'industry', 'and', 'was', 'later', 'joined', 'ross', 'mckitrick', 'professor', 'economics', 'guelph', 'university'], ['neither', 'made', 'any', 'pretensions', 'being', 'climate', 'scientist', 'but', 'where', 'they', 'did', 'have', 'considerable', 'expertise', 'was', 'knowing', 'how', 'computers', 'could', 'used', 'play', 'around', 'with', 'statistics'], ['they', 'were', 'also', 'wearily', 'familiar', 'with', 'people', 'using', 'hockey', 'sticklike', 'curves', 'showing', 'exaggerated', 'upward', 'rise', 'end', 'sell', 'business', 'prospect', 'prove', 'some', 'tendentious', 'point'], ['intrigued', 'shape', 'ipccs', 'now', 'famous', 'hockey', 'stick', 'graph', 'spring', 'mcintyre', 'approached', 'mann', 'and', 'his', 'colleagues', 'ask', 'for', 'look', 'their', 'original', 'data', 'set'], ['after', 'some', 'delay', 'mann', 'arranged', 'provision', 'file', 'which', 'was', 'represented', 'one', 'used', 'for', 'his', 'paper'], ['but', 'turned', 'out', 'not', 'include', 'most', 'computer', 'code', 'used', 'produce', 'their', 'results'], ['this', 'suggested', 'mcintyre', 'who', 'was', 'joined', 'later', 'that', 'summer', 'mckitrick', 'that', 'one', 'else', 'had', 'previously', 'asked', 'examine', 'should', 'have', 'been', 'required', 'both', 'peerreviewers', 'for', 'paper', 'published', 'nature', 'and', 'above', 'all', 'ipcc', 'itself'], ['this', 'account', 'hockey', 'stick', 'saga', 'based', 'several', 'sources', 'particular', 'ross', 'mckitricks', 'paper', 'already', 'cited', 'what', 'hockey', 'stick', 'debate', 'about', 'and', 'his', 'evidence', 'house', 'lords', 'committee', 'economic', 'affairs', 'economics', 'climate', 'change', 'vol'], ['see', 'also', 'david', 'holland', 'bias', 'and', 'concealment', 'ipcc', 'process', 'hockey', 'stick', 'affair', 'and', 'its', 'implications'], ['when', 'mcintyre', 'fed', 'data', 'into', 'his', 'own', 'computer', 'found', 'that', 'did', 'not', 'produce', 'claimed', 'results'], ['heart', 'problem', 'was', 'what', 'known', 'principal', 'component', 'analysis', 'technique', 'used', 'computer', 'analysts', 'handle', 'large', 'mass', 'data', 'averaging', 'out', 'its', 'components', 'weighting', 'them', 'their', 'relative', 'significance'], ['one', 'first', 'things', 'mcintyre', 'had', 'discovered', 'was', 'that', 'principal', 'component', 'analysis', 'used', 'mann', 'could', 'not', 'replicated'], ['process', 'looking', 'all', 'data', 'sources', 'and', 'rebuilding', 'manns', 'data', 'set', 'from', 'scratch', 'discovered', 'quite', 'few', 'errors', 'concerning', 'location', 'labels', 'use', 'obsolete', 'editions', 'unexplained', 'truncations', 'various', 'series', 'etc', 'for', 'instance', 'data', 'reported', 'from', 'boston', 'mass', 'turned', 'out', 'from', 'paris', 'france', 'central', 'england', 'temperature', 'data', 'had', 'been', 'truncated', 'leave', 'out', 'its', 'coldest', 'period', 'and', 'forth'], ['but', 'real', 'problem', 'lay', 'with', 'principal', 'component', 'analysis', 'itself'], ['turned', 'out', 'that', 'algorithm', 'had', 'been', 'programmed', 'into', 'manns', 'computer', 'model', 'which', 'mined', 'for', 'hockey', 'stick', 'shapes', 'whatever', 'data', 'was', 'fed', 'into'], ['mckitrick', 'was', 'later', 'explain', 'had', 'ipcc', 'actually', 'done', 'kind', 'rigorous', 'review', 'that', 'they', 'boast', 'they', 'would', 'have', 'discovered', 'that', 'there', 'was', 'error', 'routine', 'calculation', 'step', 'principal', 'component', 'analysis', 'that', 'falsely', 'identified', 'hockey', 'stick', 'shape', 'dominant', 'pattern', 'data'], ['flawed', 'computer', 'program', 'can', 'even', 'pull', 'out', 'spurious', 'hockey', 'stick', 'shapes', 'from', 'lists', 'trendless', 'random', 'numbers'], ['mckitrick', 'house', 'lords', 'evidence'], ['using', 'manns', 'algorithm', 'two', 'men', 'fed', 'pile', 'random', 'and', 'meaningless', 'data', 'red', 'noise', 'into', 'computer', 'times'], ['more', 'than', 'per', 'cent', 'time', 'graph', 'which', 'emerged', 'bore', 'hockey', 'stick', 'shape'], ['they', 'found', 'that', 'their', 'replication', 'manns', 'method', 'failed', 'all', 'basic', 'tests', 'statistical', 'significance'], ['when', 'they', 'ran', 'programme', 'again', 'properly', 'however', 'keeping', 'rest', 'manns', 'data', 'but', 'removing', 'bristlecone', 'pine', 'figures', 'which', 'had', 'heavily', 'relied', 'they', 'found', 'that', 'mediaeval', 'warming', 'once', 'again', 'unmistakably', 'emerged'], ['indeed', 'their', 'major', 'finding', 'according', 'mckitrick', 'was', 'that', 'manns', 'own', 'data', 'confirmed', 'that', 'warming', 'fifteenth', 'century', 'exceeded', 'anything', 'twentieth', 'century'], ['one', 'example', 'how', 'this', 'worked', 'they', 'later', 'quoted', 'was', 'based', 'comparing', 'two', 'sets', 'data', 'used', 'mann', 'for', 'his', 'second', 'paper', 'confined', 'proxy', 'data', 'from', 'north', 'america'], ['one', 'was', 'drawn', 'from', 'bristlecone', 'pines', 'western', 'north', 'america', 'other', 'from', 'tree', 'ring', 'chronology', 'arkansas'], ['their', 'raw', 'state', 'californian', 'series', 'showed', 'hockey', 'stick', 'shape', 'other', 'typical', 'most', 'north', 'american', 'tree', 'ring', 'series', 'showed', 'irregular', 'but', 'basically', 'flat', 'line', 'with', 'final', 'upward', 'spurt'], ['when', 'these', 'were', 'put', 'together', 'however', 'algorithm', 'emphasised', 'twentiethcentury', 'rise', 'giving', 'times', 'much', 'weight', 'bristlecone', 'pines', 'trees', 'from', 'arkansas'], ['other', 'words', 'although', 'mann', 'had', 'used', 'hundreds', 'tree', 'ring', 'proxies', 'from', 'all', 'over', 'north', 'america', 'most', 'showing', 'flattish', 'line', 'like', 'that', 'from', 'arkansas', 'pcas', 'used', 'determine', 'their', 'relative', 'significance', 'had', 'given', 'enormously', 'greater', 'weight', 'those', 'californian', 'bristlecones', 'with', 'their', 'anomalous', 'hockey', 'stick', 'pattern'], ['furthermore', 'mcintyre', 'and', 'mckitrick', 'found', 'that', 'mann', 'had', 'been', 'well', 'aware', 'that', 'removing', 'bristlecone', 'pine', 'data', 'hockey', 'stick', 'shape', 'his', 'graph', 'would', 'vanish', 'because', 'had', 'tried', 'himself'], ['one', 'files', 'they', 'obtained', 'from', 'him', 'showed', 'results', 'his', 'own', 'attempt', 'this'], ['file', 'was', 'marked', 'censored', 'and', 'its', 'findings', 'were', 'nowhere', 'mentioned', 'published', 'study'], ['what', 'however', 'concerned', 'mcintyre', 'and', 'mckitrick', 'much', 'anything', 'else', 'about', 'this', 'extraordinary', 'affair', 'was', 'what', 'revealed', 'about', 'methods', 'ipcc', 'itself'], ['why', 'had', 'not', 'subjected', 'manns', 'study', 'kind', 'basic', 'professional', 'checks', 'which', 'they', 'themselves', 'had', 'been', 'able', 'carry', 'out', 'with', 'such', 'devastating', 'results'], ['furthermore', 'having', 'failed', 'exercise', 'any', 'proper', 'quality', 'control', 'why', 'had', 'those', 'top', 'ipcc', 'then', 'gone', 'out', 'their', 'way', 'give', 'such', 'extraordinary', 'prominence', 'hockey', 'stick', 'data', 'canonical', 'representation', 'earths', 'climate', 'history'], ['due', 'combination', 'mathematical', 'error', 'and', 'dysfunctional', 'review', 'process', 'they', 'ended', 'promoting', 'exact', 'wrong', 'conclusion'], ['how', 'did', 'they', 'make', 'such', 'blunder'], ['continue', 'reading'], ['what', 'all', 'this', 'reveals', 'course', 'that', 'global', 'warming', 'hockey', 'stick'], ['ipcc', 'turns', 'out', 'used', 'science', 'fraud', 'promote', 'global', 'warming', 'and', 'climate', 'change', 'narratives', 'hoping', 'one', 'would', 'notice', 'that', 'entire', 'software', 'model', 'was', 'essentially', 'hacked', 'from', 'very', 'beginning', 'deliberately', 'engineered', 'produce', 'alarming', 'temperature', 'trend', 'worlds', 'bureaucrats', 'wanted', 'they', 'could', 'terrorize', 'world', 'into', 'compliance', 'with'], ['russians', 'didnt', 'hack', 'election', 'case', 'you', 'were', 'wondering'], ['but', 'dishonest', 'scientists', 'really', 'did', 'hack', 'global', 'warming', 'modeling', 'software', 'deceive', 'entire', 'world', 'and', 'launch', 'whole', 'new', 'brand', 'climate', 'change', 'fascism', 'that', 'has', 'now', 'infected', 'minds', 'hundreds', 'millions', 'people', 'across', 'planet'], ['everything', 'theyve', 'been', 'told', 'about', 'climate', 'change', 'turns', 'out', 'was', 'all', 'based', 'software', 'hack']]\n",
            "Shape of context ids =  (12, 20, 50)\n",
            "Shape of generated embeddings =  (12, 18, 1024)\n",
            "[-0.01484103072484307, 0.018004799657357278, 0.00761132652193434, 0.007370263160282775, 0.0013109791796068748, 0.002550033362922477, 0.0023783654510983374, 0.012936627299811536, -6.674520998078353e-05, 0.0014995123998005511, -0.0005569553910618197, 0.011653273837899698]\n",
            "0\n",
            "Shape of context ids =  (18, 36, 50)\n",
            "Shape of generated embeddings =  (18, 34, 1024)\n",
            "[0.006796253016740853, 0.011412630122572409, 0.018264847842146992, -0.0012361284912045718, -0.00604011028532625, 0.0015259457011072503, 0.005363741739714627, -0.007116133601373674, -0.0022378240329317123, -0.001808160107549113, 0.0043600744192847036, 0.016420930610852986, -0.0038539407391808443, 0.014392012001925992, -0.002452789303071348, 0.008129520511474198, -0.0005019479190501932, 0.015331401837511294]\n",
            "1\n",
            "Shape of context ids =  (31, 34, 50)\n",
            "Shape of generated embeddings =  (31, 32, 1024)\n",
            "[-0.0048930842867171975, 0.0022944247045818093, -0.002473509592691285, 0.010250205473312235, 0.002384689135588758, 0.007036713377434012, 0.014522169152238954, 0.011235210984978039, 0.0031023364781503915, -0.0004902274727450836, -0.0029619971612204507, -0.0029065765523371644, -0.00359998094877767, -0.002872826770411708, 0.005186151931869887, 0.001010781281553029, 0.004433935222482433, -0.00016834770096610637, 0.001774832685525421, -0.007326140041957135, -0.008452122937991849, 0.0015121649472900703, 0.0008405840707568627, 0.003930284399042908, -0.005896072919294208, 0.002621850137245474, -0.0077572530011025265, -0.012282208002014395, -0.005644885080062609, 0.0033429836094700685, 0.004631429115007498]\n",
            "1\n",
            "Shape of context ids =  (30, 29, 50)\n",
            "Shape of generated embeddings =  (30, 27, 1024)\n",
            "[0.025005317270938576, 0.00971427658661079, -0.004149635453317118, -1.5554318414009078e-06, 0.0061566480868350485, -0.0025629673641560657, 0.007761293848813823, 0.004801398476401018, 0.020659477519768644, 0.0030589483333420212, 0.010053387959866692, 0.013674521546439186, -0.0007729337276513293, -0.004639162038020437, 0.009676219711650447, 0.009603810448144193, 0.007148666186708397, 0.004152462589064164, 0.009394904823108976, 0.00015371403696917696, 0.0011822294575070016, 0.011686436525148261, -0.0027450074328498886, -0.0023040450857934047, 0.0041442843245628564, -0.004888366003204477, 0.007366043771595641, 0.0007115152990688026, -0.0030005734341974253, -0.009837657062979071]\n",
            "1\n",
            "Shape of context ids =  (16, 35, 50)\n",
            "Shape of generated embeddings =  (16, 33, 1024)\n",
            "[-0.0025373409929960126, -0.006274266681202789, 0.004148183638517366, 0.0002751379761775752, 0.0018282141459773507, 0.010175409227919374, 0.004644729028253399, -0.0036998525896933645, -0.0007772176672915521, 0.003284518008968007, 0.0033261761346068397, 0.0014641614992190928, 0.002766028574414618, 0.0025693746988129837, 0.010962631214264698, -0.0016637122367137635]\n",
            "1\n",
            "Shape of context ids =  (24, 76, 50)\n",
            "Shape of generated embeddings =  (24, 74, 1024)\n",
            "[0.001411470859147812, -0.00327089874167541, 0.003580870951623183, 0.00954901737605951, -0.005090872650915419, -0.0017730785057624003, 0.005501008842202282, -0.008834819642351653, 0.016058857009587275, 0.0014783478882723752, 0.0016412258620325578, -0.0145320371947264, -0.002792124899457349, -0.0092994535791604, -0.008684586986518021, 0.0015175259441573274, -0.005663170221348916, 0.002482850626902842, 0.005027906469535992, 0.01525027674432522, -0.0002453001726020635, -0.00042428633560120943, -0.004485173908364004, -0.002815308678356132]\n",
            "1\n",
            "Shape of context ids =  (22, 32, 50)\n",
            "Shape of generated embeddings =  (22, 30, 1024)\n",
            "[0.015984982415223687, 0.009368990216660763, -0.001543773270100246, 0.0035363029253782465, 0.002035594201818943, 0.009933381038458882, 0.01117548995849044, 0.020802879011295194, -0.0008940163329904342, 0.011931379844624574, 0.00537381839558293, -0.0021803800824045537, 0.013862380349417497, -0.0011903417972569897, -0.006682622958399926, 0.00963361785604396, 0.005972990493328704, -0.009657907945230212, 0.0069006845711945585, 0.011162055843764543, 0.016471966350877665, 0.01297258968550826]\n",
            "1\n",
            "Shape of context ids =  (11, 33, 50)\n",
            "Shape of generated embeddings =  (11, 31, 1024)\n",
            "[-0.0002664079446704444, 0.006940361644208476, 0.002920805117179454, -0.0026041845964452173, -0.0022364927425257974, -0.0013288022957870756, 0.0018977147250594545, -0.0026082263853766108, -0.0048944120808300795, -0.007281992946142661, 0.0018298944753496471]\n",
            "1\n",
            "Shape of context ids =  (15, 23, 50)\n",
            "Shape of generated embeddings =  (15, 21, 1024)\n",
            "[0.008200344638270154, 0.0022308710151719424, 0.005712952046224018, 0.011166547617638875, 0.005877238133761613, -0.002781438537771177, -0.012991469846042492, -0.010588087695006314, 0.01421367385034955, -0.00486472463426253, -0.005190544344335042, -0.0017119543689929628, 0.0009219932228006656, -0.0042637486675809145, 0.0234801223737447]\n",
            "0\n",
            "Shape of context ids =  (38, 33, 50)\n",
            "Shape of generated embeddings =  (38, 31, 1024)\n",
            "[0.006796253016740853, 0.011412630122572409, 0.018264847842146992, 0.0025687375630565968, 9.004047948716712e-06, 0.004423850330545065, 0.010274976963728477, 0.014561737146234167, 0.010179672185764892, 0.007147118701515372, 0.00044196495719006634, 0.013024130139139547, -0.001507347314502892, -0.006795822120676138, -0.002621120210576356, -0.0015921613543535005, 0.00836944020108256, -0.0016402653546844124, -0.0011987875594253897, -0.011879509796017373, 0.004846208250060242, 0.014049665849061707, 0.01887043149545, 0.01608477660948622, 0.007138598528827596, 0.010887866152415882, 0.00238672415525798, -0.006090465351462626, 0.004292733661505584, 0.0006839650669689945, 0.006532956507953713, 0.01858237658632807, 0.0010542910521590702, -0.004780406535341323, 0.009853951133673036, -0.00599516979859042, 0.0008910023092132752, 0.014599839391257774]\n",
            "1\n"
          ]
        }
      ]
    },
    {
      "cell_type": "code",
      "source": [
        "print(len(train_X))"
      ],
      "metadata": {
        "colab": {
          "base_uri": "https://localhost:8080/"
        },
        "id": "cW1SScGMfxaI",
        "outputId": "4bf659b5-a264-4a16-bc40-902fb1d93759"
      },
      "execution_count": 20,
      "outputs": [
        {
          "output_type": "stream",
          "name": "stdout",
          "text": [
            "197\n"
          ]
        }
      ]
    },
    {
      "cell_type": "code",
      "source": [
        "test_X = []\n",
        "test_Y = []\n",
        "\n",
        "sum = 0\n",
        "for i in range(len(testing_data)):\n",
        "  sentences = []\n",
        "  for j in range(len(testing_data[i])):\n",
        "\n",
        "    if testing_data[i][j] is None:\n",
        "      continue\n",
        "    if(len(testing_data[i][j])<3):\n",
        "      continue\n",
        "\n",
        "    # print(data[i][j])\n",
        "    lst = sent_tokenize(testing_data[i][j])\n",
        "\n",
        "    for k in range(len(lst)):\n",
        "      sentences.append(lst[k])\n",
        "\n",
        "  tokenized_context_send = []\n",
        "\n",
        "  for j in range(len(sentences)):\n",
        "\n",
        "    raw_context = sentences[j]\n",
        "    tokenized_context1 = raw_context.split()\n",
        "\n",
        "    new_list = []\n",
        "    for word in tokenized_context1:\n",
        "      word1 = word.lower()\n",
        "\n",
        "      new_word = \"\"\n",
        "\n",
        "      for p in word1:\n",
        "        if (p.isalpha()):\n",
        "          new_word+=p\n",
        "\n",
        "      if(len(new_word)>2 and new_word!=\"the\"):\n",
        "        new_list.append(new_word)\n",
        "\n",
        "    if(len(new_list)>1):\n",
        "      tokenized_context_send.append(new_list)\n",
        "\n",
        "  # print(tokenized_context_send)\n",
        "  \n",
        "  if(len(tokenized_context_send)>=130):\n",
        "    print(tokenized_context_send)\n",
        "    continue\n",
        "  \n",
        "  if(len(tokenized_context_send)>0):\n",
        "    embeddings = calc_embeddings(tokenized_context_send)\n",
        "\n",
        "  feature_vector = []\n",
        "  for j in range(len(tokenized_context_send)):\n",
        "    matrix = []\n",
        "    tot_sum = 0\n",
        "    length_tot = len(tokenized_context_send[j])\n",
        "\n",
        "    for k in range(len(tokenized_context_send[j])):\n",
        "\n",
        "      sm = 0\n",
        "      for p in embeddings[j,k,:]:\n",
        "        sm = sm+p\n",
        "\n",
        "      length = len(embeddings[j,k,:])\n",
        "\n",
        "      num = sm/length\n",
        "      tot_sum+=num\n",
        "    \n",
        "    final_val = tot_sum/length_tot\n",
        "    feature_vector.append(final_val)\n",
        "    \n",
        "\n",
        "  print(feature_vector)\n",
        "  print(testing_labels[i])\n",
        "\n",
        "  test_X.append(feature_vector)\n",
        "  test_Y.append(testing_labels[i])"
      ],
      "metadata": {
        "colab": {
          "base_uri": "https://localhost:8080/"
        },
        "id": "8qj7-2QzOuA5",
        "outputId": "e4befd0a-8e96-4258-dd5d-f68d4a8f9039"
      },
      "execution_count": 21,
      "outputs": [
        {
          "output_type": "stream",
          "name": "stdout",
          "text": [
            "Shape of context ids =  (43, 34, 50)\n",
            "Shape of generated embeddings =  (43, 32, 1024)\n",
            "[-0.0006420704949232458, 0.015201294490376919, 0.005033183171083995, -0.000326347354138275, 0.001130731075136282, -0.004007000956950352, 0.020216199532114842, 0.005422563339209319, -0.010626842178908191, -0.00462732627427916, -0.000990014400970366, -0.009220668995730819, -0.00356397987065975, 0.010759373224670656, -0.0013454987293641807, -0.007254644315494829, 0.0028566480459955657, -0.006140115020798476, -0.004202361890683903, 0.0008237195837149816, -0.010291815279060756, 0.013042107255591873, 0.014631192968636242, 0.0017750410727141268, -0.005085398239608756, 0.005057182087284673, 0.010136177631833422, 0.0027748208668375205, 0.0016505469646485185, 0.0006338089095202627, 0.002632836646114356, -0.0007839038918558906, 0.0016860788664210056, -0.0011199203774514685, -0.01685705852491992, 0.010759373224670656, -0.0013454987293641807, -0.007254644315494829, 0.0028566480459955657, -0.006140115020798476, -0.004202361890683903, 0.0008237195837149816, -0.010291812858213234]\n",
            "0\n",
            "Shape of context ids =  (19, 22, 50)\n",
            "Shape of generated embeddings =  (19, 20, 1024)\n",
            "[-0.005953038110796172, 0.004983284758282025, 0.017213252737519724, -0.005145296833354173, 0.005761265134890436, 0.01521625017801398, 0.0025456021586478528, -0.006953601090772817, -0.009409583850811032, 0.00959512755840868, 0.005419381522225801, 0.00516756673277996, 0.01403008578655006, 0.013940609284772008, 0.005994366312279453, 0.003355255136235818, -0.004715485511821628, 0.0010787441002548803, 0.005870754637092952]\n",
            "0\n",
            "Shape of context ids =  (14, 50, 50)\n",
            "Shape of generated embeddings =  (14, 48, 1024)\n",
            "[0.010069310229872437, -0.0013242833694372773, 0.0019889618674837225, -0.000861368701713161, 0.009879491488129588, 0.0013901493705118031, 0.006895760936458828, 0.009901440706471476, 0.005346231476153207, 0.004854297230781413, 0.0025832831693800734, 0.013763329156762875, 0.007362178123173635, 0.005078758757349533]\n",
            "0\n",
            "Shape of context ids =  (8, 23, 50)\n",
            "Shape of generated embeddings =  (8, 21, 1024)\n",
            "[0.002849653808529714, 0.00884641129348438, 0.002647153660745971, 0.019381076402714824, -0.006829808044017227, -0.0006582592625515341, -0.007815317024756041, -0.0008797912683904644]\n",
            "0\n",
            "Shape of context ids =  (6, 16, 50)\n",
            "Shape of generated embeddings =  (6, 14, 1024)\n",
            "[-0.008425614522138858, -0.02325633371258216, -0.014724808983544335, -0.012529449416457996, 0.0033112646375836143, -0.020781890117041256]\n",
            "0\n",
            "Shape of context ids =  (17, 17, 50)\n",
            "Shape of generated embeddings =  (17, 15, 1024)\n",
            "[-0.00461315969372523, 4.2137353091220575e-06, -0.0014677559193982093, -0.009224705821522478, 0.006315838492639614, 0.014832603271922077, 0.01205057306310664, 0.014458339482947244, -0.004074559372293151, 0.016953502784272958, 0.013461106640770245, 0.001558629412908307, 0.00970580481878945, 1.8451981873113255e-05, -0.00048694954229075747, 0.001607412461930835, 0.028247146088006048]\n",
            "0\n",
            "Shape of context ids =  (37, 51, 50)\n",
            "Shape of generated embeddings =  (37, 49, 1024)\n",
            "[-0.0013859643794755054, 0.0002112495763422161, 0.006774748167345024, -0.0015555396816740472, 0.0054222489765854386, 0.0027541076600149004, -0.002426981045209686, 0.0035856187763143184, -0.009781362660555714, -0.0018207446060333656, 0.0031580829612052083, 0.006465447201467863, 7.439251966161464e-05, 0.002847290563725632, -0.009191610182213594, 0.003799578311895857, -0.007745844517899059, -0.007272348313499322, 0.004253583492080841, 0.0043699480735237255, 0.001533354221010086, 0.004954968255476974, 0.001683482195403485, -0.01093568561071317, 0.005364298847964511, 0.017162696237392083, 0.0022476305252894235, -0.00885984781893967, 0.008437325427559534, 0.00789859051201347, 0.00308939711014015, 0.0011005556541476835, 0.004037922494958934, 0.016464031627522975, 0.007924327071123116, 0.006071856562387343, 0.0004971385779981574]\n",
            "0\n",
            "Shape of context ids =  (13, 23, 50)\n",
            "Shape of generated embeddings =  (13, 21, 1024)\n",
            "[-0.001900157585805573, 0.003717658732682594, 0.014136752560391739, 0.014437669229437233, -0.006122331505951349, 0.011061849354588888, 0.00757071145089425, 0.009066371441406318, -0.003574584176460702, 0.00462266762639653, 0.009890768223840496, -0.004792270867312709, 0.0020385471520967258]\n",
            "1\n",
            "Shape of context ids =  (3, 16, 50)\n",
            "Shape of generated embeddings =  (3, 14, 1024)\n",
            "[-0.0015630339912954345, 0.002427846591293322, 0.003216534713146757]\n",
            "1\n",
            "Shape of context ids =  (4, 23, 50)\n",
            "Shape of generated embeddings =  (4, 21, 1024)\n",
            "[-0.0007511374338612179, 0.008924545707393062, 0.002536503213147647, 0.0016867983620518078]\n",
            "0\n",
            "Shape of context ids =  (8, 22, 50)\n",
            "Shape of generated embeddings =  (8, 20, 1024)\n",
            "[0.021410542049150334, -0.002284594976572407, -0.0028676363495750675, -0.006162016456252266, 0.006650249405947761, -0.017481089922290794, 0.00331126449130655, 0.008216552413311243]\n",
            "0\n",
            "Shape of context ids =  (33, 32, 50)\n",
            "Shape of generated embeddings =  (33, 30, 1024)\n",
            "[-0.002522374876476037, -0.002330801160978273, -0.0015698027930491, 0.003591831918284201, -0.0023995319183530805, 0.001736031037982381, 0.0019868680837438054, 0.0030580443752280025, 0.009729139272121757, 0.00751532254707854, 0.005304112420070339, 0.003738279629387494, 0.0033532859125203042, 0.004234297674338449, 0.0054490263606920865, 0.003334052961482333, 0.0021171088690405465, 0.007982867908935987, -0.004394937907022722, 0.0014170548969079594, 0.012266680989038528, -0.008279901526293543, -0.002861340631180941, 0.006171237673791552, -0.0005540367722419019, 0.005819817052592195, 0.005288819328233723, -0.005766095014021428, 0.007717577297262324, 0.0012672255729580684, -2.4770832039523937e-05, 0.010317892837349518, -0.005408650021238897]\n",
            "0\n",
            "Shape of context ids =  (58, 30, 50)\n",
            "Shape of generated embeddings =  (58, 28, 1024)\n",
            "[0.008380667736832135, 0.004277666435032906, -0.0018562385992351796, -0.0011360811606614927, 0.015179425800657296, 0.005965707658242536, 0.00983219240007808, 0.0028435311911835016, 0.011680714531807595, 0.0070934814243344135, 0.006395055076566115, -0.006396416720510463, -0.008401885311002388, -0.005355783889504957, -0.0007092917660618999, -0.000328431508073797, 0.004277666435032906, -0.010456001076363464, 0.008261602086299212, 0.004587059101660478, -0.009094461040490387, 0.005669339209518398, -0.004320341496117585, -0.003074614700646331, 0.0013111175172753065, 0.0021019632170009572, -0.0005558345888402982, 0.0001891019761046664, -0.0019951150405534334, -0.012413896768277612, 0.003599533747267112, -0.012475167298881778, -0.003951341963344627, 0.0015272318737515889, 0.008933662041476964, 0.0033386956535537138, -0.007776871445912548, 0.0016430550922687341, 0.00956089784853652, 0.0066272288359717395, 0.007798654919573285, 0.0001489470890192024, 0.004303055664725737, -0.0038752230800582765, -0.0012784678862090004, 0.0035755313497816132, -0.0041690247126553006, 0.0007387076028493311, 0.015651387779087145, -0.0034611902121923777, 0.01767616331264637, 0.006082863870796759, 0.010362933436454114, 0.005965707658242536, 0.00983219240007808, 0.0028435311911835016, -0.004292872829294861, -0.00795277539197059]\n",
            "1\n",
            "Shape of context ids =  (7, 23, 50)\n",
            "Shape of generated embeddings =  (7, 21, 1024)\n",
            "[0.007822308850271449, 0.002324822254195169, 0.006925591689499318, 0.012480443882265848, 0.006666137655865138, 0.0031029134103001915, 0.0028000314977892535]\n",
            "0\n",
            "Shape of context ids =  (13, 24, 50)\n",
            "Shape of generated embeddings =  (13, 22, 1024)\n",
            "[0.005985462462747723, -0.0003534207578261637, 0.003909126200380797, 0.004012201086743517, -0.014934689494657505, -0.01135599228603879, -0.0034571885759267693, -0.006637373928583656, 0.0023069487169019944, 0.011554123450423504, -0.01247717194290571, -0.0090997695629572, 0.006783982147074615]\n",
            "0\n",
            "Shape of context ids =  (7, 19, 50)\n",
            "Shape of generated embeddings =  (7, 17, 1024)\n",
            "[0.00932483030798641, 0.003299801201194441, 0.0039415421235844406, 0.010905004294792369, -3.49087484513196e-06, 0.002419874306648732, 0.00921347562060267]\n",
            "0\n",
            "Shape of context ids =  (71, 31, 50)\n",
            "Shape of generated embeddings =  (71, 29, 1024)\n",
            "[0.015836603575129022, 0.02066393176002853, 0.005075712782722519, 0.010539629293230764, -0.0009687540986520718, 0.014078124967966232, 0.001889099610593803, 0.015989648536395343, -0.009310786910110854, 0.012752538782933698, 0.010616834714653578, 0.004972419992327559, -0.0009563424997535408, -0.004268989474288294, 0.021985646904492267, -0.0028000967039361058, 0.009423438887733938, 0.021901204326582047, 0.011607363086579444, 0.0031737649751354033, 0.00847843319664727, -0.002958198107990029, 0.0015167538669629721, -0.0035055328387836827, 0.007198461492851038, 0.02459510752017498, -0.0022483193870104718, 0.0037401528768946767, -0.0029221783118952194, 0.004351442141387452, 0.0019066008549846931, 0.0038883146123206793, 0.001987580609360456, -0.0011683631619234802, -0.004533086731612457, 0.005448926749617537, -0.00161370075280729, 0.001347214988957798, 0.00023350472302549212, -0.0036385245426903234, -0.007763743561813028, 0.012149973154009786, 0.003638179301674427, 0.005275533661312741, -0.0001075439665214617, 0.0031105955610115643, 0.0010661698632929983, 0.0006061742601559672, 0.007788860335290337, 0.005663556368869071, -0.002267811219940086, -0.000673148062863523, 0.0002705039738278477, 0.0058777629022058265, 0.0018375796540794909, -0.0010738322801514117, 0.00024363205648114672, 0.0005354629852056612, 0.007241635899504217, -0.00496133660096613, -0.006453566413711087, 0.004988674687404134, 0.011389230942450012, -0.0013729930103636434, 0.0028805648438492426, 0.00483009681155977, 0.0015460792665661616, 0.0004915142116501289, -0.0026030670258291246, -0.0017183534621949548, 0.0033121575169540543]\n",
            "1\n",
            "Shape of context ids =  (23, 48, 50)\n",
            "Shape of generated embeddings =  (23, 46, 1024)\n",
            "[-0.005593629975275387, -0.0015909003704369493, 0.0011111259837093713, -0.013708138905157184, -0.004192105784423719, 0.0003543580106827943, 0.0019846219902681446, 0.016598486596251405, -0.0021081325115932695, 0.0021513065457800925, 0.002993799233384683, 0.006159630054167772, -0.008718604797081753, -8.472723417677722e-06, -0.008792382661795273, -0.0007538973343722925, 0.002534586394436441, 0.0008263336607984349, -0.0059273833429263805, 0.001206859073172175, -0.002320398367595245, -0.0013183115429910685, -0.00837206300641924]\n",
            "1\n",
            "Shape of context ids =  (28, 39, 50)\n",
            "Shape of generated embeddings =  (28, 37, 1024)\n",
            "[0.0010646768612521857, -0.0007847199712419492, -0.003205374218712872, -0.0012434682007096854, -0.002843838257092557, -0.00250128683928079, 0.0019426936784725513, 0.011782448993297013, -0.00019391289273092602, -0.002809530853483011, -0.0007727233066337871, -0.00490076124189424, -0.008474365550137008, 0.00788561828102906, 0.003834938877124235, -0.005774263777794886, -0.0002912026604822889, -0.0019413688400315248, -0.00951273750423651, 0.003447359482106549, 0.004750775338164347, 0.014044117829325842, 0.016290573218308662, 0.012066726803692519, 0.0005307474663628195, 0.007452085541481702, -0.0007167051107126099, -0.00031944653298726026]\n",
            "1\n",
            "[['politicians', 'are'], ['modern', 'american', 'politics', 'essentially', 'game', 'which', 'politicians', 'say', 'and', 'whatever', 'they', 'possibly', 'can', 'persuade', 'people', 'that', 'they', 'are', 'ideal', 'leader', 'deserving', 'vote'], ['but', 'you', 'already', 'know', 'that'], ['most', 'are', 'pretty', 'cynical', 'about', 'politics', 'and', 'straightup', 'expect', 'politicians', 'lie'], ['understand', 'that', 'posturing', 'overpromising', 'tricky', 'rhetoric', 'and', 'psychological', 'manipulation', 'are', 'par', 'for', 'course', 'political', 'arena'], ['interestingly', 'though', 'ive', 'been', 'hearing', 'some', 'claims', 'regarding', 'current', 'presidential', 'race', 'that', 'contradict', 'typical', 'cynicism', 'with', 'which', 'most', 'people', 'view', 'political', 'candidates'], ['specifically', 'ive', 'heard', 'many', 'people', 'expressing', 'belief', 'that', 'donald', 'trump', 'and', 'bernie', 'sanders', 'are', 'refreshingly', 'different', 'from', 'typical', 'political', 'candidates'], ['because', 'they', 'say', 'what', 'they', 'really', 'feel', 'and', 'think', 'supposedly'], ['they', 'arent', 'just', 'talking', 'heads'], ['theyre', 'real', 'people', 'who', 'will', 'let', 'their', 'real', 'views', 'and', 'ideas', 'known', 'for', 'better', 'worse'], ['that', 'might', 'true', 'some', 'extent'], ['trump', 'and', 'sanders', 'might', 'more', 'authentic', 'than', 'most', 'politicians', 'which', 'wouldnt', 'take', 'much'], ['its', 'almost', 'impossible', 'say'], ['but', 'even', 'they', 'are', 'make', 'mistake', 'they', 'are', 'still', 'playing', 'game', 'like', 'everyone', 'else'], ['not', 'saying', 'anything', 'about', 'their', 'merits', 'candidates', 'people', 'and', 'not', 'making', 'any', 'kind', 'moral', 'judgment'], ['just', 'saying', 'that', 'they', 'too', 'are', 'posturing', 'overpromising', 'and', 'employing', 'tricky', 'rhetoric', 'and', 'psychological', 'tactics', 'win', 'over', 'their', 'audiences'], ['dont', 'think', 'for', 'second', 'that', 'theyre', 'not'], ['one', 'would', 'have', 'prayer', 'winning', 'presidential', 'race', 'without', 'doing', 'those', 'things'], ['but', 'people', 'are', 'viewing', 'them', 'utterly', 'genuine'], ['people', 'are', 'taking', 'them', 'face', 'value'], ['sanders', 'has', 'this', 'effect', 'people', 'because', 'hes', 'fiercely', 'passionate', 'about', 'issues'], ['actually', 'believe', 'sincerely', 'cares', 'about', 'things', 'wants', 'change', 'and', 'exudes', 'earnestness', 'while', 'speaking', 'that', 'captivates', 'many', 'people', 'especially', 'people', 'generation'], ['nonetheless', 'assure', 'you', 'that', 'sanders', 'selfaware', 'his', 'grandiose', 'fiery', 'style', 'and', 'his', 'calls', 'for', 'revolution'], ['knows', 'hes', 'overpromising', 'and', 'hes', 'consciously', 'trying', 'create', 'tsunami', 'unrealistically', 'high', 'hope', 'for', 'better', 'world', 'and', 'ride', 'that', 'wave', 'into', 'white', 'house', 'like', 'obama', 'did'], ['its', 'good', 'strategy', 'though', 'gets', 'elected', 'many', 'people', 'will', 'probably', 'upset', 'when', 'revolution', 'doesnt', 'arrive', 'when', 'billionaire', 'class', 'continues', 'exist', 'and', 'when', 'big', 'money', 'continues', 'influence', 'politics'], ['trump', 'other', 'hand', 'perceived', 'honest', 'because', 'says', 'and', 'does', 'many', 'ludicrous', 'things', 'compared', 'traditional', 'candidates'], ['trumps', 'behavior', 'ridiculous', 'that', 'people', 'cant', 'fathom', 'that', 'most', 'could', 'act', 'strategy', 'role', 'hes', 'learned', 'play'], ['and', 'whereas', 'bernie', 'trying', 'ride', 'wave', 'hope', 'into', 'white', 'house', 'trump', 'trying', 'ride', 'wave', 'fear', 'and', 'anger'], ['trumps', 'appeal', 'downright', 'frightening', 'because', 'are', 'rather', 'precarious', 'moment', 'history', 'united', 'states', 'and', 'history', 'world'], ['planet', 'filled', 'with', 'nuclear', 'warheads', 'environmental', 'crises', 'are', 'occurringlooming', 'largest', 'refugee', 'crisis', 'since', 'world', 'war', 'taking', 'place'], ['century', 'time', 'which', 'countries', 'world', 'need', 'more', 'than', 'ever', 'cooperate', 'with', 'one', 'another', 'consider'], ['but', 'trump', 'isnt', 'much', 'cooperator'], ['hes', 'explicitly', 'stated', 'that', 'wants', 'build', 'wall', 'around', 'much', 'united', 'states', 'and', 'hes', 'made', 'comments', 'that', 'reveal', 'frighteningly', 'uncritical', 'and', 'violent', 'approach', 'international', 'relations', 'isis', 'would', 'bomb', 'shit', 'out', 'and'], ['many', 'people', 'dont', 'see', 'this', 'way', 'though'], ['many', 'believe', 'that', 'trumps', 'aggressive', 'and', 'americacentric', 'approach', 'politics', 'will', 'our', 'saving', 'grace'], ['this', 'may', 'have', 'something', 'with', 'hypothesized', 'psychological', 'divide', 'between', 'people', 'who', 'lean', 'left', 'versus', 'people', 'who', 'lean', 'right'], ['some', 'fascinating', 'studies', 'have', 'suggested', 'that', 'there', 'are'], ['one', 'wanted', 'appeal', 'conservativeminded', 'people', 'follows', 'then', 'that', 'one', 'could', 'paint', 'picture', 'world', 'one', 'giant', 'threat', 'america', 'and', 'propose', 'extremely', 'aggressive', 'plan', 'ameliorate', 'situation'], ['well', 'see', 'donald', 'trump', 'master', 'this', 'persuasive', 'tactic'], ['hes', 'master', 'number', 'other', 'tactics', 'well', 'and', 'cumulative', 'effect', 'these', 'tactics', 'that', 'hes', 'gone', 'from', 'being', 'considered', 'joke', 'candidate', 'having', 'decent', 'chance', 'becoming', 'next', 'leader', 'one', 'most', 'powerful', 'countries', 'world'], ['lets', 'take', 'closer', 'look', 'various', 'tactics', 'trump', 'has', 'used', 'climb', 'into', 'his', 'present', 'position'], ['following', 'points', 'were', 'gathered', 'primarily', 'from', 'two'], ['trump', 'has', 'said', 'youre', 'going', 'have', 'more', 'world', 'trade', 'centers'], ['its', 'going', 'get', 'worse', 'and', 'worse', 'folks', 'and', 'when', 'mexico', 'sends', 'its', 'people', 'theyre', 'not', 'sending', 'their', 'best'], ['theyre', 'bringing', 'drugs', 'theyre', 'bringing', 'crime', 'theyre', 'rapists'], ['and', 'some', 'assume', 'are', 'good', 'people'], ['these', 'are', 'blatant', 'instances', 'fearmongering'], ['trump', 'deliberately', 'hones', 'frightening', 'statistical', 'rarities', 'terrorist', 'attacks', 'against', 'and', 'immigrants', 'who', 'are', 'dangerous', 'rapists', 'and', 'acts', 'like', 'theyve', 'become', 'norm'], ['why', 'does', 'this'], ['charlie', 'houpert', 'creator'], ['major', 'news', 'outlets', 'portray', 'world', 'terrifying', 'place', 'because', 'doing', 'captures', 'peoples', 'attention'], ['trump', 'doing', 'same', 'thing'], ['fear', 'ensnares', 'our', 'attention', 'like', 'nothing', 'else', 'can', 'while', 'simultaneously', 'shortcircuiting', 'our', 'higher', 'cognitive', 'functioning'], ['this', 'unsettling', 'because', 'our', 'natural', 'response', 'fear', 'escape', 'destroy', 'whatever', 'threatening', 'quickly', 'possible'], ['quite', 'natural', 'for', 'humans', 'cope', 'with', 'fear', 'becoming', 'angry', 'and', 'aggressive'], ['trump', 'fuels', 'this', 'fire', 'feardriven', 'rage', 'and', 'hostility', 'much', 'possibly', 'can', 'and', 'directs', 'toward', 'nonamerican', 'outgroups'], ['says', 'things', 'like', 'china', 'taking', 'our', 'jobs', 'theyre', 'taking', 'our', 'money', 'and', 'syrians', 'are', 'now', 'being', 'caught', 'southern', 'border', 'dont', 'know', 'who', 'they', 'are', 'could', 'isis'], ['sets', 'false', 'dichotomies', 'between', 'interests', 'americans', 'and', 'interests', 'other', 'humans', 'world', 'such', 'that', 'you', 'disagree', 'with', 'him', 'you', 'appear', 'antiamerican'], ['this', 'leaves', 'many', 'credulous', 'viewers', 'with', 'one', 'obvious', 'response', 'angry', 'aggressive', 'trumpsupporting', 'american', 'who', 'views', 'rest', 'world', 'with', 'suspicion', 'and', 'aggression'], ['this', 'potent', 'combination', 'fear', 'anger', 'and', 'aggressionmongering', 'then', 'sets', 'trump', 'for', 'one', 'his', 'most', 'effective', 'lies', 'that', 'only', 'big', 'strong', 'man', 'tough', 'enough', 'what', 'needs', 'done', 'kick', 'everyone', 'elses', 'ass', 'and', 'make', 'america', 'great', 'again'], ['trump', 'makes', 'unrealistic', 'claims', 'such', 'one', 'else', 'will', 'keep', 'you', 'safe', 'and', 'one', 'going', 'mess', 'with', 'presents', 'himself', 'most', 'dominant', 'and', 'strongestwilled', 'candidate', 'only', 'candidate', 'capable', 'returning', 'its', 'rightful', 'position', 'imminent', 'dominant', 'global', 'superpower'], ['but', 'again', 'need', 'america', 'dominate', 'other', 'countriesentities', 'this', 'point', 'history'], ['its', 'likely', 'that', 'some', 'amount', 'military', 'action', 'advisable', 'certain', 'groups'], ['isis', 'are', 'committing', 'brutal', 'crimes', 'against', 'innocent', 'people'], ['however', 'one', 'looks', 'bigger', 'picture', 'becomes', 'clear', 'that'], ['but', 'mentioned', 'earlier', 'research', 'has', 'suggested', 'that', 'conservativeminded', 'people', 'respond', 'more', 'aggressively', 'threatening', 'situations', 'than', 'liberalminded', 'people'], ['instinctively', 'aggressive', 'people', 'respond', 'favorably', 'trumps', 'call', 'for', 'return', 'ultradominant', 'america'], ['that', 'some', 'people', 'are', 'more', 'instinctively', 'aggressive', 'than', 'others', 'not', 'bad', 'thing'], ['clearly', 'this', 'arrangement', 'was', 'beneficial', 'our', 'primal', 'past', 'would', 'not', 'have', 'evolved', 'this', 'way'], ['however', 'dont', 'live', 'world', 'our', 'distant', 'ancestors', 'anymore'], ['live', 'world', 'which', 'excessive', 'aggressionconflict', 'potential', 'threat', 'entire', 'biosphere', 'and', 'all', 'sentient', 'life'], ['thus', 'need', 'leaders', 'who', 'are', 'capable', 'taking', 'calculated', 'aggressive', 'measures', 'after', 'thorough', 'analysis', 'all', 'available', 'courses', 'action', 'not', 'leaders', 'whose', 'default', 'response', 'problematic', 'circumstances', 'use', 'hyperaggressive', 'military', 'force', 'trump', 'wishes'], ['world', 'damn', 'complex', 'and', 'ambiguous', 'place', 'but', 'admitting', 'this', 'reality', 'not', 'good', 'political', 'strategy'], ['its', 'much', 'more', 'effective'], ['comforts', 'people', 'tell', 'them', 'that', 'things', 'must', 'either', 'this', 'that', 'because', 'makes', 'them', 'feel', 'that', 'they', 'understand', 'insanely', 'complex', 'bramble', 'global', 'affairs', 'that', 'individual', 'human', 'actually', 'understands', 'toto'], ['trump', 'brilliant', 'reducing', 'complexity', 'world', 'blackandwhite', 'narratives'], ['one', 'his', 'favorites', 'narrative', 'winners', 'losers'], ['trumps', 'story', 'america', 'has', 'been', 'unambiguously', 'losing', 'recent', 'memory', 'america', 'becoming', 'permaloser', 'before', 'our', 'eyes', 'and', 'were', 'just', 'getting', 'used'], ['course', 'with', 'trump', 'president', 'america', 'going', 'start', 'winning', 'again', 'all', 'regards'], ['were', 'going', 'start', 'winning', 'much', 'that', 'youre', 'going', 'get', 'used', 'winning', 'instead', 'getting', 'used', 'losing', 'has', 'said'], ['does', 'even', 'make', 'sense', 'conceive', 'individual', 'countries', 'winners', 'losers', 'world', 'where', 'future', 'our', 'entire', 'species', 'and', 'all', 'life', 'earth', 'potentially', 'stake'], ['probably', 'not'], ['yet', 'trumps', 'blackandwhite', 'narrative', 'appeals', 'our', 'desire', 'for', 'simple', 'digestible', 'stories', 'and', 'our'], ['one', 'downside', 'portraying', 'yourself', 'big', 'strong', 'man', 'that', 'there', 'will', 'still', 'always', 'situations', 'which', 'someone', 'gets', 'best', 'you', 'making', 'you', 'appear', 'foolish', 'weak'], ['donald', 'trump', 'has', 'found', 'himself', 'this', 'situation', 'number', 'occasions'], ['one', 'most', 'notable', 'was', 'situation', 'which', 'fox', 'news', 'anchor', 'megyn', 'kelly', 'confronted', 'trump', 'about', 'past', 'comments', 'which', 'trump', 'had', 'called', 'women', 'disliked', 'fat', 'pigs', 'dogs', 'slobs', 'and', 'disgusting', 'animals'], ['this', 'question', 'was', 'potential', 'landmine', 'for', 'trump', 'but', 'interrupted', 'megyn', 'kelly', 'halfway', 'through', 'her', 'question', 'saying', 'only', 'rosie', 'odonnell', 'this', 'comment', 'caused', 'uproar', 'laughter', 'audience', 'and', 'all', 'but', 'derailed', 'inquiry', 'into', 'trumps', 'juvenile', 'and', 'dehumanizing', 'remarks'], ['trump', 'has', 'perfected', 'this', 'strategy', 'deflecting', 'potential', 'threats', 'through', 'use', 'humor'], ['charlie', 'houpert', 'put'], ['humor', 'isnt', 'trumps', 'only', 'strategy', 'for', 'avoiding', 'discussion', 'some', 'more', 'contentious', 'issues', 'his', 'record'], ['another', 'favorite', 'strategy', 'his', 'simply', 'act', 'superior', 'all', 'opponents', 'and', 'criticisms'], ['one', 'gop', 'debates', 'jeb', 'bush', 'attempted', 'point', 'out', 'that', 'donald', 'trump', 'had', 'completely', 'changed', 'his', 'stance', 'isis', 'matter', 'two', 'months'], ['jeb', 'was', 'saying', 'this', 'trump', 'didnt', 'even', 'pay', 'him', 'courtesy', 'looking', 'his', 'direction'], ['instead', 'looked', 'only', 'audience', 'with', 'expression', 'disbelief', 'and', 'disgust', 'that', 'said', 'who', 'this', 'guy'], ['this', 'maneuver', 'indicates', 'audience', 'that', 'bushs', 'attack', 'ridiculous', 'laughable', 'not', 'even', 'worthy', 'attention', 'allowing', 'trump', 'bypass', 'any', 'sort', 'rational', 'discussion'], ['contrast', 'when', 'trump', 'attacked', 'bush', 'bush', 'looked', 'directly', 'trump', 'with', 'expression', 'distress', 'and', 'disconcertedness', 'playing', 'perfectly', 'into', 'trumps', 'game'], ['jeb', 'appeared', 'something', 'confused', 'and', 'insecure', 'novice', 'looking', 'big', 'daddy', 'trump', 'for', 'answers'], ['this', 'point', 'related', 'previous', 'two', 'but', 'deserves', 'emphasis'], ['trumps', 'power', 'plays', 'whether', 'making', 'jokes', 'face', 'criticism', 'acting', 'superior', 'other', 'candidates', 'are', 'all', 'aimed', 'making', 'him', 'appear', 'leader', 'game', 'which', 'everyone', 'else', 'merely', 'player'], ['combine', 'this', 'with', 'his', 'fearmongering', 'angermongering', 'and', 'presenting', 'himself', 'one', 'great', 'strong', 'solution', 'loser', 'america', 'and', 'youve', 'got', 'potent', 'combination', 'factors', 'coming', 'together', 'make', 'donald', 'trump', 'appear', 'untouchable', 'ironwilled', 'leader', 'comparison', 'his', 'opponents'], ['another', 'trumps', 'favorite', 'tactics', 'and', 'another', 'form', 'frame', 'control', 'trap', 'other', 'candidates', 'doublebind', 'situations'], ['essentially', 'this', 'means', 'that', 'puts', 'them', 'positions', 'where', 'doesnt', 'matter', 'what', 'they', 'say', 'how', 'they', 'react', 'him', 'however', 'they', 'respond', 'will', 'come', 'out', 'looking', 'better', 'and', 'they', 'will', 'come', 'out', 'looking', 'worse'], ['charlie', 'houpert'], ['donald', 'trump', 'repeats', 'emotionally', 'provocative', 'words', 'like', 'strong', 'and', 'win', 'over', 'and', 'over', 'and', 'over'], ['this', 'tactic'], ['trump', 'loves', 'hammer', 'social', 'proof'], ['repeats', 'over', 'and', 'over', 'and', 'over', 'that', 'hes', 'ahead', 'polls', 'that', 'people', 'agree', 'won', 'particular', 'debate'], ['social', 'creatures', 'have', 'distinct', 'and', 'sometimes', 'malignant', 'tendency', 'and', 'believe', 'whatever', 'think', 'everyone', 'else', 'doing', 'and', 'believing'], ['trump', 'understands', 'importance', 'this', 'fact', 'and', 'every', 'turn', 'acts', 'has', 'army', 'people', 'behind', 'him'], ['trump', 'also', 'very', 'careful', 'avoid', 'negative', 'social', 'proof'], ['for', 'instance', 'one', 'point', 'trump', 'appeared', 'oreilly', 'factor', 'and', 'bill', 'oreilly', 'suggested', 'that', 'people', 'had', 'seen', 'trump', 'buffoon', 'when', 'first', 'announced', 'his', 'campaign'], ['trump', 'outright', 'rejected', 'this', 'statement', 'acted', 'was', 'outrageous', 'and', 'assured', 'audience', 'that', 'people', 'did', 'not', 'feel', 'that', 'way'], ['was', 'very', 'deliberate', 'and', 'forceful', 'about', 'this', 'because', 'knows', 'that', 'what', 'people', 'think', 'other', 'people', 'think', 'one', 'most', 'potent', 'forces', 'driving', 'human', 'belief', 'and', 'behavior'], ['his', 'decades', 'business', 'almost', 'certainly', 'ingrained', 'that', 'lesson', 'into', 'his', 'mind'], ['trump', 'loves', 'assert', 'that', 'authority', 'figures', 'approve', 'him', 'and', 'disapprove', 'other', 'candidates'], ['second', 'video', 'charlie', 'houperts', 'cites', 'trump', 'saying', 'larry', 'kudlow', 'likes', 'tax', 'plan', 'and', 'experts', 'wonder', 'cruz', 'can', 'run', 'because', 'was', 'born', 'canada'], ['trump', 'understands', 'that', 'especially', 'our', 'uncertain'], ['not', 'only', 'tend'], ['heres', 'offthecuff', 'armchairevolutionarypsych', 'explanation', 'for', 'this', 'phenomenon', 'when', 'our', 'ancestors', 'lived', 'bands', 'huntergatherers', 'was', 'beneficial', 'have', 'extraordinary', 'level', 'cohesion', 'belief', 'and', 'action', 'given', 'tribe', 'was', 'often', 'matter', 'life', 'death'], ['thus', 'tribes', 'which', 'people', 'unquestioningly', 'accepted', 'worldview', 'passed', 'wise', 'elders', 'and', 'readily', 'conformed', 'herd', 'mentality', 'would', 'more', 'likely', 'survive'], ['anyway', 'for', 'whatever', 'reason', 'were', 'much', 'more', 'likely', 'believe', 'something', 'authority', 'figure', 'expert', 'tells', 'its', 'true'], ['trump', 'understands', 'this', 'and', 'takes', 'advantage', 'every', 'turn'], ['this', 'might', 'come', 'surprise', 'but', 'humans', 'actually', 'suck', 'making', 'rational', 'decisions', 'and', 'are', 'much', 'more', 'likely', 'make', 'emotiondriven', 'decisions'], ['this', 'great', 'thing', 'lot', 'time', 'because', 'many', 'areas', 'life', 'our', 'emotions', 'and', 'feelings', 'are', 'excellent', 'indicators', 'appropriate', 'course', 'action'], ['but', 'when', 'comes', 'choosing', 'leader', 'one', 'most', 'powerful', 'countries', 'world', 'might', 'bad', 'idea', 'vote', 'for', 'guy', 'because', 'his', 'smile', 'gives', 'you', 'warm', 'fuzzies'], ['unfortunately', 'its', 'damn', 'difficult', 'for', 'humans', 'use', 'rationality', 'especially', 'they', 'havent', 'been', 'trained', 'think', 'critically', 'havent', 'researched', 'various'], ['donald', 'trump', 'knows', 'that', 'most', 'people', 'make', 'their', 'decisions', 'basis', 'emotion', 'rather', 'than', 'reason'], ['also', 'knows', 'that', 'there', 'are', 'certain', 'methods', 'manipulating', 'peoples', 'emotions', 'get', 'them', 'what', 'you', 'want'], ['most', 'all', 'items', 'this', 'list', 'from', 'fearangermongering', 'and', 'deflection', 'via', 'humor', 'repetition', 'social', 'proof', 'and', 'appeal', 'authority', 'are', 'effective', 'methods', 'making', 'people', 'feel', 'very', 'confident', 'about', 'position', 'despite', 'fact', 'that', 'they', 'havent', 'considered', 'any', 'statistical', 'evidence', 'rational', 'arguments'], ['donald', 'trump', 'understands', 'this', 'and', 'thats', 'why', 'youll', 'never', 'see', 'him', 'engaging', 'rational', 'discussion', 'issues', 'criticisms', 'levied', 'against', 'him'], ['when', 'challenged', 'trump', 'will', 'deflect', 'via', 'humor', 'appeal', 'vague', 'authorities', 'social', 'proof', 'utilize', 'some', 'sort', 'halfrelevant', 'anecdote', 'appeal', 'emotion', 'and', 'distract', 'from', 'his', 'shortcomings'], ['said', 'before', 'donald', 'trump', 'isnt', 'only', 'one', 'playing', 'manipulation', 'game'], ['other', 'candidates', 'also', 'understand', 'that', 'people', 'are', 'emotional', 'creatures', 'and', 'any', 'candidate', 'who', 'wants', 'have', 'chance', 'winning', 'must', 'use', 'some', 'all', 'these', 'tactics'], ['such', 'nature', 'american', 'democracy'], ['whats', 'frightening', 'about', 'trump', 'that', 'hes', 'damn', 'good', 'playing', 'this', 'game'], ['hes', 'spent', 'decades', 'learning', 'subtle', 'art', 'being', 'dominant', 'social', 'presence', 'and', 'persuading', 'people', 'what', 'wants', 'them'], ['his', 'actual', 'values', 'and', 'ideas', 'could', 'egregiously', 'illconceived'], ['hell', 'they', 'could', 'recipe', 'for', 'world', 'war', 'iii'], ['but', 'because', 'hes', 'such', 'talented', 'hypnotist', 'politician', 'his', 'actual', 'values', 'and', 'ideas', 'dont', 'matter', 'that', 'much'], ['wins', 'race', 'will', 'because', 'effectively', 'encouraged', 'and', 'harnessed', 'fear', 'anger', 'and', 'emotiondriven', 'decisionmaking', 'large', 'portion', 'american', 'public'], ['personally', 'would', 'prefer', 'not', 'find', 'out', 'what', 'happens', 'america', 'after', 'electing', 'one', 'most', 'effective', 'fear', 'and', 'angermongers'], ['you', 'found', 'this', 'article', 'educational', 'important', 'any', 'way', 'please', 'pass', 'your', 'friends'], ['dont', 'get', 'wrong', 'like', 'bernie', 'and', 'would', 'likely', 'vote', 'for', 'him', 'were', 'get', 'nomination'], ['all', 'saying', 'that', 'hes', 'playing', 'game', 'too', 'and', 'that', 'reality', 'had', 'choice', 'but', 'play', 'game', 'wanted', 'have', 'any', 'chance', 'winning'], ['one', 'could', 'also', 'argue', 'that', 'extremely', 'passive', 'pacifistic', 'president', 'could', 'inadvertently', 'cause', 'worldwariii', 'situation', 'failing', 'take', 'action', 'neutralize', 'dangerous', 'groups', 'leaders', 'who', 'are', 'gaining', 'power'], ['some', 'argue', 'that', 'this', 'essentially'], ['two', 'outstanding', 'videos', 'that', 'inspired', 'this', 'post', 'and', 'provided', 'many', 'insights']]\n",
            "Shape of context ids =  (18, 37, 50)\n",
            "Shape of generated embeddings =  (18, 35, 1024)\n",
            "[-0.00645775568600584, -0.0028811110593665035, 0.008535773271780222, -0.009359172720470118, 0.0027122475952948756, -0.008460661279059423, 0.008575048650830771, -0.010554828570391805, -0.007451955482414026, -0.0042920394676002616, -0.003699403695009096, -0.012843972629088266, 0.00034810993899014875, -0.0014716822763729295, -0.0011441026267675625, -0.012678912814249089, 0.0009374076235612197, 0.005701187701532717]\n",
            "1\n",
            "Shape of context ids =  (32, 40, 50)\n",
            "Shape of generated embeddings =  (32, 38, 1024)\n",
            "[3.395310304334825e-05, -0.005160791196203718, 0.01009467062085605, -0.003245447838528554, 0.0045129905655016955, -0.005626984488170659, 0.003021717146714309, 0.015578370550520049, 0.013297046608386154, 0.009552026050755558, 0.011747378003673582, -0.004163772692406079, -0.004594482146179264, 0.00020104028134359066, 0.02158721118317212, 0.00014223186133222043, 0.01623363337418482, -0.006913791738217976, 0.002753205922182306, 0.012349279819860524, 0.007778777298199202, 0.008384163304867798, -0.003178569311728552, 0.0014970903851462935, -0.0026644796340426842, 0.00671548990123938, -0.0005514892775641493, 0.0015627833941607606, 0.011411767801056223, 0.018170618531542004, -0.004638434706322414, 0.01106299911896258]\n",
            "0\n",
            "Shape of context ids =  (93, 37, 50)\n",
            "Shape of generated embeddings =  (93, 35, 1024)\n",
            "[0.0009929639759585977, 0.0035368218022237365, 0.004615615203910669, 0.0016874278289075544, -0.0040696757262779215, -0.02279501725361399, -0.008444232901670798, 0.004036146752371549, -0.002788148312577375, -0.011098241929776773, 0.00564742419015829, -0.0031600793167529317, -0.006948386150957238, 0.00029759843940675116, -0.008555690843146684, 0.0008825657692796085, -0.00013987802133835265, -0.001186582458118327, -2.1024169735242406e-05, 0.017716144659630118, 0.002221376491850909, 0.0004498002303989779, -0.005921643379941508, -0.000463145953733003, 0.006499053347757429, -0.0035173001930913347, -0.00363933351900414, -0.0021372447878889034, 0.0011165556220475992, -0.00900511216165493, 0.0023184621087845394, 0.012155882125625794, 0.004834789288202046, 0.0007233158208656767, -0.005311945612334057, -0.002061972089753302, -0.007930479068463114, -0.008715777011548197, -0.00642908308573704, -0.0008643407662186127, -0.010976968861576517, -0.013760994877177128, -0.0029152964655662326, 0.001151354532145395, 0.0028202822996945542, -0.003680288973467983, -0.004914418934655866, 0.015079373864308663, -0.010174696328868372, -0.00039430274165696525, -0.0011735058874933202, 0.01026789022502531, -0.007864841838725278, 0.005518672275854897, 0.002242430565615905, -0.007176769428792795, 0.0020252917305804336, 0.0005606319830588434, -0.008718517076147236, -0.0003075344471628543, -0.003926033365059668, -0.006275160822821947, -0.0010780274588300513, -0.0077333042744606294, 0.003637393017811519, 0.0035266079925501495, 0.005157237226039039, -0.0087438620087687, 0.003550530082652346, 0.019386224044103527, 0.0070401382777975285, 0.005618757272259245, -0.0072052001941841585, -0.004280211623953534, 0.009493598730429653, -0.0025974792866220882, 0.00790512562158104, -0.0024153495273822045, -0.0028832885998001856, 0.0016105304604176732, -0.009768831688271954, 0.0013504791936611582, -0.0023469525789323598, 0.005132991124298769, -0.00032196095253311796, -0.001358970010237633, -0.0032708992318682996, 0.011898784278356642, -0.005759228112692654, 0.005734034811019648, -0.0037190531519115666, -0.002533447360264063, 0.014658057631322663]\n",
            "1\n",
            "Shape of context ids =  (79, 72, 50)\n",
            "Shape of generated embeddings =  (79, 70, 1024)\n",
            "[-0.003269299587618808, 0.001726197641541408, 0.005000140221558998, -0.005519584330465932, 0.0040678148340399884, -0.002043353917861168, -0.00033535268041170503, 0.009112293176442455, 0.011658818437023655, 0.007076696398253889, 0.018683935434886563, 0.004545782174221001, 0.003483698704504453, -0.0014751545683749003, 0.006902692734856277, 0.0036570451955412865, -0.001042793265365644, 0.016151675761206106, 0.01032859562114936, -0.002684839860778863, -0.0028822784567239523, -0.002567278424257893, 0.0050652552145348554, 0.004250063218392072, 0.008664717530039594, -0.0038649784319029724, 0.0011029605267746472, 0.004504359117965899, -0.001532523409922681, 0.005626399335900108, -0.00239140852256191, 0.020907126299835, 0.0005336166381409514, 0.01707694187726142, 0.001704995895459816, 0.006852294264270616, -6.380385652562381e-05, -0.0035008217762749283, 0.0017748060678232356, 0.009875179744356154, 0.012771277621507378, -0.007751729008077746, -0.0044988588391804895, -0.004350937260108154, 0.005335453552366484, -0.0023512235747711716, 0.011270881524101892, 0.0003434197254490654, 0.006882613284422708, 0.0006798868529240908, 0.0070180504624840975, 0.00246491491092162, 0.0046458171760399465, -0.005374599954365067, 0.0009545274925244485, 0.011907053277726927, 0.003907020576041925, 0.0017471164098878944, 0.004588356132986145, 0.010035298304400284, 0.00660245370756229, -0.00043199757733581077, 0.004870861776819563, 0.004601850925030249, -0.00047198671398232165, 0.006253678436098653, 0.001090070029022172, -0.002944597876125265, 0.0015466900601595057, 0.004454809548406047, -0.002583403246182356, 0.00171575968929376, 0.009114544680918308, 0.01250895914654393, 0.006920728145814792, -0.0017236654040252394, 0.013268789544716648, -0.004189718477673963, 0.014658057553288018]\n",
            "1\n",
            "Shape of context ids =  (5, 29, 50)\n",
            "Shape of generated embeddings =  (5, 27, 1024)\n",
            "[0.011345423639686313, -0.01319826058261242, 0.008163873563315813, -0.008558074865130005, 0.008097542268330926]\n",
            "0\n",
            "Shape of context ids =  (21, 24, 50)\n",
            "Shape of generated embeddings =  (21, 22, 1024)\n",
            "[0.0006847718445044393, -0.006447442214690372, 0.0025784162375762556, -0.0005098226251902815, 0.00910497596157711, 0.009067399672312603, -0.00871269321339696, 0.013250708666419087, 0.0013573009903211641, 0.014149258376998356, 0.004837382197289723, 0.0023010952432969134, -0.0019101406633353691, 0.0004795949800040944, -0.0033073221149303813, 0.0015068111846403553, 0.008200770869386531, 0.007271868834038742, 0.01008087891101936, -0.007375856604141973, 0.005521692212823837]\n",
            "0\n",
            "Shape of context ids =  (12, 42, 50)\n",
            "Shape of generated embeddings =  (12, 40, 1024)\n",
            "[0.008688171167250403, -0.0033382536427710033, -0.019171625264306158, 0.006474789627683701, -0.0005098826985929572, -0.0019804858115032666, -0.005417733368421088, -0.009899486166075475, 0.00015825375786941245, -0.008413857087968305, 0.006275375879613421, 0.014830270859010852]\n",
            "0\n",
            "Shape of context ids =  (5, 16, 50)\n",
            "Shape of generated embeddings =  (5, 14, 1024)\n",
            "[-0.00249396427310645, -0.003538644949041251, -0.004478064189031882, -0.017126855581628724, 0.014763718296675367]\n",
            "0\n",
            "Shape of context ids =  (10, 31, 50)\n",
            "Shape of generated embeddings =  (10, 29, 1024)\n",
            "[-0.0038309953019393106, -0.0013379363169292446, -0.013782022729037635, -0.013610163216627471, -0.0065441541297559525, -0.0010285911240343387, -0.0005225324476073026, 0.002086405036106953, -0.001682468969799326, -0.011476081636157601]\n",
            "0\n",
            "Shape of context ids =  (29, 41, 50)\n",
            "Shape of generated embeddings =  (29, 39, 1024)\n",
            "[0.015118461765450775, -0.0038911573303574832, 0.02219784457925551, 0.002052265710062784, 0.001580950551707853, 0.008724881094898202, 0.004738813264611963, 0.021339662209584276, 0.010173657715508202, 0.007477244912536207, -0.0026136204777808068, 0.002415476013169382, 0.028581567432411248, 0.0111108120375565, -0.0004489553113747509, -0.00042168480592152946, 0.01714317943061161, 0.018332016854357234, 0.004417223040032544, 0.017998917853102002, 0.015663833514739878, 0.00192899173097407, 0.0117532167212013, 0.01364267120741467, 0.005813464224729614, 0.019663279263492466, 0.012614669757567754, 0.0017809642994279784, 0.00935177865433919]\n",
            "0\n",
            "Shape of context ids =  (16, 17, 50)\n",
            "Shape of generated embeddings =  (16, 15, 1024)\n",
            "[0.0034032871178417486, 0.00031718537866254337, -0.0003621348449087236, 0.0010298448071702855, 0.004294055165843247, 0.01507883598793948, -0.01088574182388887, 0.003061838770171172, -0.009010756009144773, 0.008795924062383165, -0.0028397431293082525, -0.004655872577480598, -0.007399185716735701, 0.009635289882680809, 0.005715682198797367, 0.004595026526374113]\n",
            "0\n",
            "Shape of context ids =  (10, 19, 50)\n",
            "Shape of generated embeddings =  (10, 17, 1024)\n",
            "[-0.003072793522071813, 0.008275431282142493, 0.006771274619950418, 0.0051771074598420345, 0.0014923103524324688, -0.0039472319196834985, -0.0025699837883337295, 0.006474211045062677, 0.007294365791302937, 0.013111052051726801]\n",
            "0\n",
            "[]\n",
            "0\n",
            "Shape of context ids =  (26, 23, 50)\n",
            "Shape of generated embeddings =  (26, 21, 1024)\n",
            "[-0.0014401000642335151, -0.011810135508756588, 0.00813896391263332, -0.01261764277060448, -0.014975672309966674, -0.020113317243813607, -0.006499619385129501, -0.02035562376500503, -0.005865692328269587, 0.009951866860410519, 0.00399442193233881, -0.005563446101618297, -0.006904909385971573, 0.006796166959494106, -0.0013739251121612196, -0.006637822693392081, -0.007444467121832655, -0.004290645480239164, -0.018767698359423636, 0.0042955307896720895, -0.005590386406268522, -0.014825044532358334, -0.0016268016570393229, -0.0009024721169055283, -0.014407736498324912, -0.010601685184941412]\n",
            "0\n",
            "Shape of context ids =  (24, 34, 50)\n",
            "Shape of generated embeddings =  (24, 32, 1024)\n",
            "[-0.00039565497924816856, 0.0102737609169463, 0.009165405881933313, 0.018412895470899256, 0.00044154237355479415, 0.00787265030843944, -0.004716448812168039, 0.009214699919488744, 0.0024228093658069027, 0.02129938742237414, 0.006001587040309965, -0.006757837954247796, 0.005724796250001418, 0.008694583781749542, -0.001755449103463682, 0.006452840415467638, 0.02207634449919996, -0.0013691345073344305, 0.009517153370190101, 0.012862938293821458, 0.003469050622793714, 0.0021355138038643418, 0.00014183706962790489, 0.007572783691655006]\n",
            "0\n",
            "Shape of context ids =  (13, 34, 50)\n",
            "Shape of generated embeddings =  (13, 32, 1024)\n",
            "[0.035921273348094473, 3.112759518231201e-05, 0.0030814654444925723, 0.0009890641348257695, -0.006187088287523086, 0.002132048959235059, 0.018832047787891496, 0.004894102337203776, -0.0026067186068723038, -0.010305970100846804, 0.013025366145310566, 0.00874757260798573, 0.007586091272060003]\n",
            "0\n",
            "Shape of context ids =  (6, 31, 50)\n",
            "Shape of generated embeddings =  (6, 29, 1024)\n",
            "[0.01106598439781692, 0.007106365843962219, 0.0115305337152396, 0.020199286302082935, 0.006282148448251284, 0.010169602742288524]\n",
            "0\n",
            "Shape of context ids =  (8, 36, 50)\n",
            "Shape of generated embeddings =  (8, 34, 1024)\n",
            "[-0.0060815784199286845, 0.007347759391126811, 0.005010100128763096, -0.007062084067911201, -0.00011875543702301097, 0.009475604404084445, 0.010718164113623889, 0.001889690888934378]\n",
            "1\n",
            "Shape of context ids =  (16, 34, 50)\n",
            "Shape of generated embeddings =  (16, 32, 1024)\n",
            "[-0.00023637763503562122, 0.006997101984779874, 0.014134429342277599, 0.0026382112068858987, 0.0014583533324282274, 0.003450424521875711, 0.006112106002913009, 0.0005254823259595772, 0.007493802665430848, 0.002388015144070721, -0.0022278907976745663, -0.008394401695741899, 0.000911764964143913, -0.004106699618530131, 0.007641580632389377, -0.006318679673540828]\n",
            "1\n",
            "Shape of context ids =  (8, 28, 50)\n",
            "Shape of generated embeddings =  (8, 26, 1024)\n",
            "[-0.0055911468935846646, 0.0003458320344569594, 0.006258603901853478, 0.00185342183863213, -0.001716238226129882, 0.005942486020374071, -0.0029144613851030954, 0.004075614995978564]\n",
            "0\n",
            "Shape of context ids =  (8, 26, 50)\n",
            "Shape of generated embeddings =  (8, 24, 1024)\n",
            "[0.0037129407668627127, -0.0027048050436759593, 0.005631633068736102, -0.0013507093866849118, 0.007627318559932117, 0.008026012766014686, 0.002222655440618837, 0.010618434444619528]\n",
            "1\n",
            "Shape of context ids =  (15, 25, 50)\n",
            "Shape of generated embeddings =  (15, 23, 1024)\n",
            "[0.0034129599787888765, 0.01704379290593394, 0.011156163557037265, 0.008539663129027986, 0.00037596352631226183, -0.003887615345774975, 0.008951253042752683, 0.0069848476236984425, 0.00872565656926554, 0.004414095313990174, -0.00029906590494331044, 0.013157193086044572, -0.0012609327356202765, 0.008135923241752607, -0.00015628494184676873]\n",
            "0\n",
            "Shape of context ids =  (32, 37, 50)\n",
            "Shape of generated embeddings =  (32, 35, 1024)\n",
            "[0.0002756258018052904, -0.006851350564860089, 0.013754797694946318, 0.014800999018916627, -0.009906132030371632, 0.004383290584831395, -0.007835628051355212, -0.01623973567666326, -0.0019244116485121292, -0.010170104073192002, 0.015348978965448623, -0.004816183730895318, -0.009603279639639533, -0.005821454258580161, -0.006858766978946453, -0.010596189491555682, -0.0031564191976561537, -0.000436802728722796, -0.0010539068998802748, 0.00610369301498142, -0.012104083497487345, -0.0014004519892409917, -0.012588438778493583, -0.005792112705446723, 0.006502132053810783, -0.002005541932203414, 0.009525668037974179, -0.007924185454932342, -0.0023274119662699314, -0.004299885092819977, -0.004832338869240023, -0.013589572024463337]\n",
            "1\n",
            "Shape of context ids =  (7, 14, 50)\n",
            "Shape of generated embeddings =  (7, 12, 1024)\n",
            "[0.016368767867771795, -0.0034310102721140843, 0.02885876950540478, -0.0005689043163228133, 0.008378079611962417, -0.003222481288058058, -0.005424973027686519]\n",
            "1\n",
            "Shape of context ids =  (27, 28, 50)\n",
            "Shape of generated embeddings =  (27, 26, 1024)\n",
            "[-0.0073217242338993556, -0.007259212730366471, 0.01269938135496318, 0.0002385197887936859, -0.0068435726757595855, -0.0052539992064453145, -0.0011299422679245355, -0.005541193286844378, 0.01660599980520298, -0.008440270425035123, 0.0012129656870456529, -0.01505480227406666, 0.010507521578894986, 0.0022464116424695626, -0.008832815604478128, -0.0027439380669420643, -0.004009636923421147, -0.005681946353174031, -0.0004974880925146863, 0.012785573903101977, -0.006528134204164157, -0.005009350812595888, -0.006529188064582235, -0.014389398431949493, -0.004062047694735504, -0.01171724755431569, -0.008886086961843327]\n",
            "1\n",
            "Shape of context ids =  (37, 25, 50)\n",
            "Shape of generated embeddings =  (37, 23, 1024)\n",
            "[-0.005256197612879987, -0.0045344640561977385, -0.01617533736027456, 0.003373162240151828, -0.008902385600532189, 0.011109978268943147, -0.0007528557463132302, -0.0047860514096100815, -0.0014969267205944764, 0.0034778968541948935, -0.015551982860021478, -0.004315683029017236, -0.014423563057334832, -0.01684454634955403, 0.0012972039544527953, -0.001241008871716076, -0.0001981022041532428, 0.0022009983038913106, -0.006327084521342385, -0.003002871703231974, -0.008016264738633557, 0.0030948931201161636, -0.012421411121476923, -0.004252724518789819, 0.0012518494092174396, -0.005980586612178162, 0.0059767957369786014, -0.0016219856756007093, -0.0004267084882864462, 0.0007824331887983741, -0.008264049982685151, -0.00044006101302329625, 0.0033141922878842578, -0.00014610329153583735, -0.009095638832855002, -0.009322350997240391, 0.0013918182645227262]\n",
            "0\n",
            "Shape of context ids =  (5, 18, 50)\n",
            "Shape of generated embeddings =  (5, 16, 1024)\n",
            "[-0.0020733066568823233, 0.006370936334796795, 0.009560379930876066, -0.00461981195692513, 0.009059362089763974]\n",
            "0\n",
            "Shape of context ids =  (6, 41, 50)\n",
            "Shape of generated embeddings =  (6, 39, 1024)\n",
            "[-0.006624714298289711, -0.004478050322078184, 0.01037253100179214, -0.0059867518774960144, -0.0022664305701027843, 0.000685315361351968]\n",
            "0\n",
            "Shape of context ids =  (17, 31, 50)\n",
            "Shape of generated embeddings =  (17, 29, 1024)\n",
            "[0.0003002070180509295, 0.006895286063845354, 0.0039619809487063595, -0.0002712967068873695, 0.010884882755675562, 0.01005167906954638, -0.004449867257183844, 0.010689439249347288, -0.0028159921343192057, 0.010477045438354557, 0.010369573678351193, -0.0039139276732890315, 0.010103060559888237, -0.0014745457064496545, -0.005120174779733588, 0.009375534139576303, 0.002120772656740776]\n",
            "0\n",
            "Shape of context ids =  (18, 29, 50)\n",
            "Shape of generated embeddings =  (18, 27, 1024)\n",
            "[0.003792406099810924, 0.009555374946185939, -0.00451963477964186, 0.002821183299789375, 0.0042996278484029715, -0.003501121050041601, -0.004545082616368745, -0.007641165290351637, 0.001157549086177109, 0.0015875886175914882, -0.003495088319208234, 0.0022875468900916862, 0.001288807129532487, 0.006626657091813589, -0.0047498570108125615, 0.008413362803750601, -0.0040226821110991295, -0.010186562250481757]\n",
            "0\n"
          ]
        }
      ]
    },
    {
      "cell_type": "code",
      "source": [
        "print(train_Y)\n",
        "print(test_Y)"
      ],
      "metadata": {
        "colab": {
          "base_uri": "https://localhost:8080/"
        },
        "id": "Xm7u1K1SVfSC",
        "outputId": "ca932763-8a06-4d86-9e1e-792513d2c520"
      },
      "execution_count": 22,
      "outputs": [
        {
          "output_type": "stream",
          "name": "stdout",
          "text": [
            "[1, 1, 1, 1, 0, 1, 1, 1, 1, 1, 1, 1, 1, 1, 0, 1, 1, 1, 1, 1, 1, 1, 1, 0, 0, 0, 0, 1, 1, 1, 1, 0, 0, 1, 0, 0, 1, 0, 0, 1, 1, 1, 1, 1, 0, 0, 0, 0, 0, 1, 1, 1, 1, 0, 0, 0, 1, 1, 1, 1, 0, 1, 0, 0, 0, 0, 0, 0, 0, 1, 0, 1, 0, 0, 1, 0, 1, 0, 0, 0, 0, 1, 0, 1, 1, 0, 1, 0, 1, 0, 1, 1, 0, 1, 0, 0, 0, 0, 0, 1, 0, 1, 0, 1, 1, 1, 1, 1, 1, 0, 0, 0, 0, 1, 1, 0, 0, 0, 0, 1, 0, 0, 0, 0, 1, 1, 1, 1, 1, 1, 0, 1, 1, 1, 1, 1, 1, 1, 0, 1, 1, 1, 0, 0, 0, 0, 0, 0, 1, 0, 0, 0, 0, 0, 1, 0, 1, 1, 0, 1, 1, 0, 1, 1, 1, 1, 1, 0, 1, 1, 1, 0, 1, 1, 1, 0, 0, 0, 0, 0, 0, 1, 1, 1, 1, 0, 1, 0, 1, 1, 1, 1, 1, 1, 1, 0, 1]\n",
            "[0, 0, 0, 0, 0, 0, 0, 1, 1, 0, 0, 0, 1, 0, 0, 0, 1, 1, 1, 1, 0, 1, 1, 0, 0, 0, 0, 0, 0, 0, 0, 0, 0, 0, 0, 0, 1, 1, 0, 1, 0, 1, 1, 1, 0, 0, 0, 0, 0]\n"
          ]
        }
      ]
    },
    {
      "cell_type": "code",
      "source": [
        "from keras.preprocessing.sequence import pad_sequences\n",
        "train_X1 = pad_sequences(train_X, maxlen=140,dtype='float32')\n",
        "test_X1 = pad_sequences(test_X,maxlen=140,dtype='float32')\n",
        "\n",
        "train_Y1 = np.array(train_Y)\n",
        "test_Y1 = np.array(test_Y)"
      ],
      "metadata": {
        "colab": {
          "base_uri": "https://localhost:8080/"
        },
        "id": "Z0uRB7UiR1Ae",
        "outputId": "6b1e640a-fbd8-49ca-c514-b7a0a0334007"
      },
      "execution_count": 23,
      "outputs": [
        {
          "output_type": "stream",
          "name": "stderr",
          "text": [
            "Using TensorFlow backend.\n"
          ]
        }
      ]
    },
    {
      "cell_type": "code",
      "source": [
        "import numpy as np\n",
        "import pandas as pd\n",
        "from sklearn.metrics import confusion_matrix\n",
        "from sklearn.model_selection import train_test_split\n",
        "from sklearn.tree import DecisionTreeClassifier\n",
        "from sklearn.metrics import accuracy_score\n",
        "from sklearn.metrics import classification_report"
      ],
      "metadata": {
        "id": "bFGd0KUrWZKQ"
      },
      "execution_count": 24,
      "outputs": []
    },
    {
      "cell_type": "code",
      "source": [
        "def bootstrapping(X_train, y_train , n_bootstrap):\n",
        "    bootstrap_indices = np.random.randint(low=0, high=len(X_train), size=n_bootstrap)\n",
        "    df_bootstrapped = X_train[bootstrap_indices]\n",
        "\n",
        "    df2_bootstrapped = y_train[bootstrap_indices]\n",
        "    return df_bootstrapped , df2_bootstrapped\n",
        "\n",
        "def random_forest_algorithm(X_train, y_train , n_trees, n_bootstrap, n_features, dt_max_depth):\n",
        "    forest = []\n",
        "    for i in range(n_trees):\n",
        "        df_bootstrapped , df2_bootstrapped = bootstrapping(X_train,y_train, n_bootstrap)\n",
        "\n",
        "        tree = DecisionTreeClassifier(criterion = \"entropy\",random_state = n_features , max_depth=dt_max_depth)\n",
        "        \n",
        "        tree.fit(df_bootstrapped, df2_bootstrapped)\n",
        "        forest.append(tree)\n",
        "    \n",
        "    return forest\n",
        "\n",
        "def random_forest_predictions(X_test, forest):\n",
        "    df_predictions = {}\n",
        "    for i in range(len(forest)):\n",
        "        column_name = 'predicted'\n",
        "        predictions = forest[i].predict(X_test)\n",
        "        df_predictions[column_name] = predictions\n",
        "\n",
        "    df_predictions = pd.DataFrame(df_predictions)\n",
        "    random_forest_predictions = df_predictions.mode(axis=1)[0]\n",
        "    \n",
        "    return random_forest_predictions\n",
        "\n",
        "def cal_accuracy(y_test , y_pred):\n",
        "  print (\"Accuracy : \",\n",
        "    accuracy_score(y_test,y_pred)*100)\n"
      ],
      "metadata": {
        "id": "QztAcoBWU00H"
      },
      "execution_count": 25,
      "outputs": []
    },
    {
      "cell_type": "code",
      "source": [
        "forest = random_forest_algorithm(train_X1 , train_Y1 , n_trees=1000, n_bootstrap=100, n_features=6, dt_max_depth=5)\n",
        "predictions = random_forest_predictions(test_X1, forest)\n",
        "cal_accuracy(test_Y1,predictions)"
      ],
      "metadata": {
        "colab": {
          "base_uri": "https://localhost:8080/"
        },
        "id": "hrA73upMUeBG",
        "outputId": "36fa4efa-f205-47b5-b165-f0a87b8d02fc"
      },
      "execution_count": 32,
      "outputs": [
        {
          "output_type": "stream",
          "name": "stdout",
          "text": [
            "Accuracy :  75.51020408163265\n"
          ]
        }
      ]
    }
  ]
}